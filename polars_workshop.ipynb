{
  "nbformat": 4,
  "nbformat_minor": 0,
  "metadata": {
    "colab": {
      "provenance": [],
      "authorship_tag": "ABX9TyMb47XOPCIToUx3qcEsWIFn",
      "include_colab_link": true
    },
    "kernelspec": {
      "name": "python3",
      "display_name": "Python 3"
    },
    "language_info": {
      "name": "python"
    }
  },
  "cells": [
    {
      "cell_type": "markdown",
      "metadata": {
        "id": "view-in-github",
        "colab_type": "text"
      },
      "source": [
        "<a href=\"https://colab.research.google.com/github/dariashcherbakovaaa/MA_DSE_Unimi/blob/LABs/polars_workshop.ipynb\" target=\"_parent\"><img src=\"https://colab.research.google.com/assets/colab-badge.svg\" alt=\"Open In Colab\"/></a>"
      ]
    },
    {
      "cell_type": "markdown",
      "source": [
        "the workshop material are based on: [Github](https://github.com/baggiponte/polars-katas)\n",
        "\n",
        "presentation is [here](https://baggiponte.github.io/pbg-polars/1)"
      ],
      "metadata": {
        "id": "3G0ZwZryjR-f"
      }
    },
    {
      "cell_type": "code",
      "execution_count": 1,
      "metadata": {
        "colab": {
          "base_uri": "https://localhost:8080/"
        },
        "id": "lSz4q-rRgZxT",
        "outputId": "6d3a0575-45d0-4663-b3fa-359892574aff"
      },
      "outputs": [
        {
          "output_type": "stream",
          "name": "stdout",
          "text": [
            "Requirement already satisfied: polars in /usr/local/lib/python3.10/dist-packages (0.20.2)\n",
            "\u001b[31mERROR: Could not find a version that satisfies the requirement upgrade (from versions: none)\u001b[0m\u001b[31m\n",
            "\u001b[0m\u001b[31mERROR: No matching distribution found for upgrade\u001b[0m\u001b[31m\n",
            "\u001b[0m"
          ]
        }
      ],
      "source": [
        "# !python -m pip install --upgrade -- polars\n",
        "import polars as pl\n",
        "print(pl.__version__)"
      ]
    },
    {
      "cell_type": "code",
      "source": [
        "# https://www.nyc.gov/site/tlc/about/tlc-trip-record-data.page\n",
        "\n",
        "base = \"https://d37ci6vzurychx.cloudfront.net/trip-data/yellow_tripdata_2023-{:02d}.parquet\"\n",
        "\n",
        "# we keep the files from Feb 2023 to retain those with the same schema\n",
        "urls = tuple(base.format(month) for month in range(2, 10))"
      ],
      "metadata": {
        "id": "hJeEbqSFgl52"
      },
      "execution_count": 3,
      "outputs": []
    },
    {
      "cell_type": "code",
      "source": [
        "urls"
      ],
      "metadata": {
        "colab": {
          "base_uri": "https://localhost:8080/"
        },
        "id": "BIoyLnbjph2n",
        "outputId": "9ef9b0fc-73bc-4ff9-fb98-5ee06e7fe286"
      },
      "execution_count": 5,
      "outputs": [
        {
          "output_type": "execute_result",
          "data": {
            "text/plain": [
              "('https://d37ci6vzurychx.cloudfront.net/trip-data/yellow_tripdata_2023-02.parquet',\n",
              " 'https://d37ci6vzurychx.cloudfront.net/trip-data/yellow_tripdata_2023-03.parquet',\n",
              " 'https://d37ci6vzurychx.cloudfront.net/trip-data/yellow_tripdata_2023-04.parquet',\n",
              " 'https://d37ci6vzurychx.cloudfront.net/trip-data/yellow_tripdata_2023-05.parquet',\n",
              " 'https://d37ci6vzurychx.cloudfront.net/trip-data/yellow_tripdata_2023-06.parquet',\n",
              " 'https://d37ci6vzurychx.cloudfront.net/trip-data/yellow_tripdata_2023-07.parquet',\n",
              " 'https://d37ci6vzurychx.cloudfront.net/trip-data/yellow_tripdata_2023-08.parquet',\n",
              " 'https://d37ci6vzurychx.cloudfront.net/trip-data/yellow_tripdata_2023-09.parquet')"
            ]
          },
          "metadata": {},
          "execution_count": 5
        }
      ]
    },
    {
      "cell_type": "code",
      "source": [
        "pl.read_parquet(urls[0])"
      ],
      "metadata": {
        "colab": {
          "base_uri": "https://localhost:8080/",
          "height": 902
        },
        "id": "40CL0zABqpGS",
        "outputId": "18c65ca4-31c4-41ee-884e-eb1e918f1169"
      },
      "execution_count": 9,
      "outputs": [
        {
          "output_type": "execute_result",
          "data": {
            "text/plain": [
              "shape: (2_913_955, 19)\n",
              "┌──────────┬───────────┬───────────┬───────────┬───┬───────────┬───────────┬───────────┬───────────┐\n",
              "│ VendorID ┆ tpep_pick ┆ tpep_drop ┆ passenger ┆ … ┆ improveme ┆ total_amo ┆ congestio ┆ Airport_f │\n",
              "│ ---      ┆ up_dateti ┆ off_datet ┆ _count    ┆   ┆ nt_surcha ┆ unt       ┆ n_surchar ┆ ee        │\n",
              "│ i32      ┆ me        ┆ ime       ┆ ---       ┆   ┆ rge       ┆ ---       ┆ ge        ┆ ---       │\n",
              "│          ┆ ---       ┆ ---       ┆ i64       ┆   ┆ ---       ┆ f64       ┆ ---       ┆ f64       │\n",
              "│          ┆ datetime[ ┆ datetime[ ┆           ┆   ┆ f64       ┆           ┆ f64       ┆           │\n",
              "│          ┆ ns]       ┆ ns]       ┆           ┆   ┆           ┆           ┆           ┆           │\n",
              "╞══════════╪═══════════╪═══════════╪═══════════╪═══╪═══════════╪═══════════╪═══════════╪═══════════╡\n",
              "│ 1        ┆ 2023-02-0 ┆ 2023-02-0 ┆ 2         ┆ … ┆ 1.0       ┆ 9.4       ┆ 2.5       ┆ 0.0       │\n",
              "│          ┆ 1         ┆ 1         ┆           ┆   ┆           ┆           ┆           ┆           │\n",
              "│          ┆ 00:32:53  ┆ 00:34:34  ┆           ┆   ┆           ┆           ┆           ┆           │\n",
              "│ 2        ┆ 2023-02-0 ┆ 2023-02-0 ┆ 1         ┆ … ┆ -1.0      ┆ -5.5      ┆ 0.0       ┆ 0.0       │\n",
              "│          ┆ 1         ┆ 1         ┆           ┆   ┆           ┆           ┆           ┆           │\n",
              "│          ┆ 00:35:16  ┆ 00:35:30  ┆           ┆   ┆           ┆           ┆           ┆           │\n",
              "│ 2        ┆ 2023-02-0 ┆ 2023-02-0 ┆ 1         ┆ … ┆ 1.0       ┆ 5.5       ┆ 0.0       ┆ 0.0       │\n",
              "│          ┆ 1         ┆ 1         ┆           ┆   ┆           ┆           ┆           ┆           │\n",
              "│          ┆ 00:35:16  ┆ 00:35:30  ┆           ┆   ┆           ┆           ┆           ┆           │\n",
              "│ 1        ┆ 2023-02-0 ┆ 2023-02-0 ┆ 0         ┆ … ┆ 1.0       ┆ 74.65     ┆ 0.0       ┆ 1.25      │\n",
              "│          ┆ 1         ┆ 1         ┆           ┆   ┆           ┆           ┆           ┆           │\n",
              "│          ┆ 00:29:33  ┆ 01:01:38  ┆           ┆   ┆           ┆           ┆           ┆           │\n",
              "│ …        ┆ …         ┆ …         ┆ …         ┆ … ┆ …         ┆ …         ┆ …         ┆ …         │\n",
              "│ 2        ┆ 2023-02-2 ┆ 2023-02-2 ┆ null      ┆ … ┆ 1.0       ┆ 20.31     ┆ null      ┆ null      │\n",
              "│          ┆ 8         ┆ 8         ┆           ┆   ┆           ┆           ┆           ┆           │\n",
              "│          ┆ 23:26:02  ┆ 23:37:10  ┆           ┆   ┆           ┆           ┆           ┆           │\n",
              "│ 2        ┆ 2023-02-2 ┆ 2023-02-2 ┆ null      ┆ … ┆ 1.0       ┆ 21.64     ┆ null      ┆ null      │\n",
              "│          ┆ 8         ┆ 8         ┆           ┆   ┆           ┆           ┆           ┆           │\n",
              "│          ┆ 23:24:00  ┆ 23:38:00  ┆           ┆   ┆           ┆           ┆           ┆           │\n",
              "│ 2        ┆ 2023-02-2 ┆ 2023-02-2 ┆ null      ┆ … ┆ 1.0       ┆ 20.19     ┆ null      ┆ null      │\n",
              "│          ┆ 8         ┆ 8         ┆           ┆   ┆           ┆           ┆           ┆           │\n",
              "│          ┆ 23:03:00  ┆ 23:10:00  ┆           ┆   ┆           ┆           ┆           ┆           │\n",
              "│ 2        ┆ 2023-02-2 ┆ 2023-02-2 ┆ null      ┆ … ┆ 1.0       ┆ 22.67     ┆ null      ┆ null      │\n",
              "│          ┆ 8         ┆ 8         ┆           ┆   ┆           ┆           ┆           ┆           │\n",
              "│          ┆ 23:03:03  ┆ 23:12:51  ┆           ┆   ┆           ┆           ┆           ┆           │\n",
              "└──────────┴───────────┴───────────┴───────────┴───┴───────────┴───────────┴───────────┴───────────┘"
            ],
            "text/html": [
              "<div><style>\n",
              ".dataframe > thead > tr,\n",
              ".dataframe > tbody > tr {\n",
              "  text-align: right;\n",
              "  white-space: pre-wrap;\n",
              "}\n",
              "</style>\n",
              "<small>shape: (2_913_955, 19)</small><table border=\"1\" class=\"dataframe\"><thead><tr><th>VendorID</th><th>tpep_pickup_datetime</th><th>tpep_dropoff_datetime</th><th>passenger_count</th><th>trip_distance</th><th>RatecodeID</th><th>store_and_fwd_flag</th><th>PULocationID</th><th>DOLocationID</th><th>payment_type</th><th>fare_amount</th><th>extra</th><th>mta_tax</th><th>tip_amount</th><th>tolls_amount</th><th>improvement_surcharge</th><th>total_amount</th><th>congestion_surcharge</th><th>Airport_fee</th></tr><tr><td>i32</td><td>datetime[ns]</td><td>datetime[ns]</td><td>i64</td><td>f64</td><td>i64</td><td>str</td><td>i32</td><td>i32</td><td>i64</td><td>f64</td><td>f64</td><td>f64</td><td>f64</td><td>f64</td><td>f64</td><td>f64</td><td>f64</td><td>f64</td></tr></thead><tbody><tr><td>1</td><td>2023-02-01 00:32:53</td><td>2023-02-01 00:34:34</td><td>2</td><td>0.3</td><td>1</td><td>&quot;N&quot;</td><td>142</td><td>163</td><td>2</td><td>4.4</td><td>3.5</td><td>0.5</td><td>0.0</td><td>0.0</td><td>1.0</td><td>9.4</td><td>2.5</td><td>0.0</td></tr><tr><td>2</td><td>2023-02-01 00:35:16</td><td>2023-02-01 00:35:30</td><td>1</td><td>0.0</td><td>1</td><td>&quot;N&quot;</td><td>71</td><td>71</td><td>4</td><td>-3.0</td><td>-1.0</td><td>-0.5</td><td>0.0</td><td>0.0</td><td>-1.0</td><td>-5.5</td><td>0.0</td><td>0.0</td></tr><tr><td>2</td><td>2023-02-01 00:35:16</td><td>2023-02-01 00:35:30</td><td>1</td><td>0.0</td><td>1</td><td>&quot;N&quot;</td><td>71</td><td>71</td><td>4</td><td>3.0</td><td>1.0</td><td>0.5</td><td>0.0</td><td>0.0</td><td>1.0</td><td>5.5</td><td>0.0</td><td>0.0</td></tr><tr><td>1</td><td>2023-02-01 00:29:33</td><td>2023-02-01 01:01:38</td><td>0</td><td>18.8</td><td>1</td><td>&quot;N&quot;</td><td>132</td><td>26</td><td>1</td><td>70.9</td><td>2.25</td><td>0.5</td><td>0.0</td><td>0.0</td><td>1.0</td><td>74.65</td><td>0.0</td><td>1.25</td></tr><tr><td>2</td><td>2023-02-01 00:12:28</td><td>2023-02-01 00:25:46</td><td>1</td><td>3.22</td><td>1</td><td>&quot;N&quot;</td><td>161</td><td>145</td><td>1</td><td>17.0</td><td>1.0</td><td>0.5</td><td>3.3</td><td>0.0</td><td>1.0</td><td>25.3</td><td>2.5</td><td>0.0</td></tr><tr><td>1</td><td>2023-02-01 00:52:40</td><td>2023-02-01 01:07:18</td><td>1</td><td>5.1</td><td>1</td><td>&quot;N&quot;</td><td>148</td><td>236</td><td>1</td><td>21.9</td><td>3.5</td><td>0.5</td><td>5.35</td><td>0.0</td><td>1.0</td><td>32.25</td><td>2.5</td><td>0.0</td></tr><tr><td>1</td><td>2023-02-01 00:12:39</td><td>2023-02-01 00:40:36</td><td>1</td><td>8.9</td><td>1</td><td>&quot;N&quot;</td><td>137</td><td>244</td><td>1</td><td>41.5</td><td>3.5</td><td>0.5</td><td>3.5</td><td>0.0</td><td>1.0</td><td>50.0</td><td>2.5</td><td>0.0</td></tr><tr><td>1</td><td>2023-02-01 00:56:53</td><td>2023-02-01 01:00:37</td><td>1</td><td>1.2</td><td>1</td><td>&quot;N&quot;</td><td>263</td><td>141</td><td>1</td><td>7.2</td><td>3.5</td><td>0.5</td><td>2.44</td><td>0.0</td><td>1.0</td><td>14.64</td><td>2.5</td><td>0.0</td></tr><tr><td>2</td><td>2023-02-01 00:20:40</td><td>2023-02-01 00:33:56</td><td>1</td><td>7.49</td><td>1</td><td>&quot;N&quot;</td><td>48</td><td>243</td><td>1</td><td>30.3</td><td>1.0</td><td>0.5</td><td>8.82</td><td>0.0</td><td>1.0</td><td>44.12</td><td>2.5</td><td>0.0</td></tr><tr><td>2</td><td>2023-02-01 00:33:51</td><td>2023-02-01 00:37:34</td><td>1</td><td>0.51</td><td>1</td><td>&quot;N&quot;</td><td>114</td><td>211</td><td>1</td><td>5.8</td><td>1.0</td><td>0.5</td><td>1.62</td><td>0.0</td><td>1.0</td><td>12.42</td><td>2.5</td><td>0.0</td></tr><tr><td>2</td><td>2023-02-01 01:00:45</td><td>2023-02-01 01:06:00</td><td>1</td><td>0.78</td><td>1</td><td>&quot;N&quot;</td><td>114</td><td>249</td><td>1</td><td>7.2</td><td>1.0</td><td>0.5</td><td>2.44</td><td>0.0</td><td>1.0</td><td>14.64</td><td>2.5</td><td>0.0</td></tr><tr><td>2</td><td>2023-02-01 00:10:48</td><td>2023-02-01 00:18:09</td><td>1</td><td>1.57</td><td>1</td><td>&quot;N&quot;</td><td>125</td><td>107</td><td>1</td><td>10.0</td><td>1.0</td><td>0.5</td><td>1.0</td><td>0.0</td><td>1.0</td><td>16.0</td><td>2.5</td><td>0.0</td></tr><tr><td>&hellip;</td><td>&hellip;</td><td>&hellip;</td><td>&hellip;</td><td>&hellip;</td><td>&hellip;</td><td>&hellip;</td><td>&hellip;</td><td>&hellip;</td><td>&hellip;</td><td>&hellip;</td><td>&hellip;</td><td>&hellip;</td><td>&hellip;</td><td>&hellip;</td><td>&hellip;</td><td>&hellip;</td><td>&hellip;</td><td>&hellip;</td></tr><tr><td>2</td><td>2023-02-28 23:35:49</td><td>2023-02-28 23:53:06</td><td>null</td><td>5.02</td><td>null</td><td>null</td><td>13</td><td>143</td><td>0</td><td>21.24</td><td>0.0</td><td>0.5</td><td>5.05</td><td>0.0</td><td>1.0</td><td>30.29</td><td>null</td><td>null</td></tr><tr><td>2</td><td>2023-02-28 23:27:53</td><td>2023-02-28 23:39:36</td><td>null</td><td>2.59</td><td>null</td><td>null</td><td>87</td><td>79</td><td>0</td><td>15.81</td><td>0.0</td><td>0.5</td><td>3.96</td><td>0.0</td><td>1.0</td><td>23.77</td><td>null</td><td>null</td></tr><tr><td>1</td><td>2023-02-28 23:19:54</td><td>2023-02-28 23:31:59</td><td>null</td><td>2.6</td><td>null</td><td>null</td><td>164</td><td>231</td><td>0</td><td>14.2</td><td>1.0</td><td>0.5</td><td>3.84</td><td>0.0</td><td>1.0</td><td>23.04</td><td>null</td><td>null</td></tr><tr><td>2</td><td>2023-02-28 23:02:00</td><td>2023-02-28 23:18:00</td><td>null</td><td>6.12</td><td>null</td><td>null</td><td>256</td><td>261</td><td>0</td><td>20.38</td><td>0.0</td><td>0.5</td><td>2.44</td><td>0.0</td><td>1.0</td><td>26.82</td><td>null</td><td>null</td></tr><tr><td>2</td><td>2023-02-28 23:19:00</td><td>2023-02-28 23:25:00</td><td>null</td><td>1.12</td><td>null</td><td>null</td><td>141</td><td>140</td><td>0</td><td>7.95</td><td>0.0</td><td>0.5</td><td>3.39</td><td>0.0</td><td>1.0</td><td>15.34</td><td>null</td><td>null</td></tr><tr><td>2</td><td>2023-02-28 23:41:22</td><td>2023-02-28 23:55:25</td><td>null</td><td>4.71</td><td>null</td><td>null</td><td>114</td><td>112</td><td>0</td><td>20.03</td><td>0.0</td><td>0.5</td><td>0.0</td><td>0.0</td><td>1.0</td><td>24.03</td><td>null</td><td>null</td></tr><tr><td>2</td><td>2023-02-28 23:58:00</td><td>2023-03-01 00:12:00</td><td>null</td><td>3.65</td><td>null</td><td>null</td><td>262</td><td>48</td><td>0</td><td>17.99</td><td>0.0</td><td>0.5</td><td>2.2</td><td>0.0</td><td>1.0</td><td>24.19</td><td>null</td><td>null</td></tr><tr><td>2</td><td>2023-02-28 23:46:00</td><td>2023-03-01 00:05:00</td><td>null</td><td>4.65</td><td>null</td><td>null</td><td>249</td><td>140</td><td>0</td><td>20.22</td><td>0.0</td><td>0.5</td><td>4.84</td><td>0.0</td><td>1.0</td><td>29.06</td><td>null</td><td>null</td></tr><tr><td>2</td><td>2023-02-28 23:26:02</td><td>2023-02-28 23:37:10</td><td>null</td><td>2.47</td><td>null</td><td>null</td><td>186</td><td>79</td><td>0</td><td>13.66</td><td>0.0</td><td>0.5</td><td>2.65</td><td>0.0</td><td>1.0</td><td>20.31</td><td>null</td><td>null</td></tr><tr><td>2</td><td>2023-02-28 23:24:00</td><td>2023-02-28 23:38:00</td><td>null</td><td>3.49</td><td>null</td><td>null</td><td>158</td><td>143</td><td>0</td><td>17.64</td><td>0.0</td><td>0.5</td><td>0.0</td><td>0.0</td><td>1.0</td><td>21.64</td><td>null</td><td>null</td></tr><tr><td>2</td><td>2023-02-28 23:03:00</td><td>2023-02-28 23:10:00</td><td>null</td><td>2.13</td><td>null</td><td>null</td><td>79</td><td>162</td><td>0</td><td>13.56</td><td>0.0</td><td>0.5</td><td>2.63</td><td>0.0</td><td>1.0</td><td>20.19</td><td>null</td><td>null</td></tr><tr><td>2</td><td>2023-02-28 23:03:03</td><td>2023-02-28 23:12:51</td><td>null</td><td>2.28</td><td>null</td><td>null</td><td>161</td><td>140</td><td>0</td><td>14.89</td><td>0.0</td><td>0.5</td><td>3.78</td><td>0.0</td><td>1.0</td><td>22.67</td><td>null</td><td>null</td></tr></tbody></table></div>"
            ]
          },
          "metadata": {},
          "execution_count": 9
        }
      ]
    },
    {
      "cell_type": "code",
      "source": [],
      "metadata": {
        "id": "0ZUgyD1uqg-p"
      },
      "execution_count": null,
      "outputs": []
    }
  ]
}