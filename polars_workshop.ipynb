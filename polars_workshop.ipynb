{
  "nbformat": 4,
  "nbformat_minor": 0,
  "metadata": {
    "colab": {
      "provenance": [],
      "authorship_tag": "ABX9TyOP8YNS8A0JHW9YHj40dIbu",
      "include_colab_link": true
    },
    "kernelspec": {
      "name": "python3",
      "display_name": "Python 3"
    },
    "language_info": {
      "name": "python"
    }
  },
  "cells": [
    {
      "cell_type": "markdown",
      "metadata": {
        "id": "view-in-github",
        "colab_type": "text"
      },
      "source": [
        "<a href=\"https://colab.research.google.com/github/dariashcherbakovaaa/MA_DSE_Unimi/blob/LABs/polars_workshop.ipynb\" target=\"_parent\"><img src=\"https://colab.research.google.com/assets/colab-badge.svg\" alt=\"Open In Colab\"/></a>"
      ]
    },
    {
      "cell_type": "markdown",
      "source": [
        "the workshop material are based on: [Github](https://github.com/baggiponte/polars-katas)\n",
        "\n",
        "presentation is [here](https://baggiponte.github.io/pbg-polars/1)"
      ],
      "metadata": {
        "id": "3G0ZwZryjR-f"
      }
    },
    {
      "cell_type": "code",
      "execution_count": 1,
      "metadata": {
        "colab": {
          "base_uri": "https://localhost:8080/"
        },
        "id": "lSz4q-rRgZxT",
        "outputId": "6d3a0575-45d0-4663-b3fa-359892574aff"
      },
      "outputs": [
        {
          "output_type": "stream",
          "name": "stdout",
          "text": [
            "Requirement already satisfied: polars in /usr/local/lib/python3.10/dist-packages (0.20.2)\n",
            "\u001b[31mERROR: Could not find a version that satisfies the requirement upgrade (from versions: none)\u001b[0m\u001b[31m\n",
            "\u001b[0m\u001b[31mERROR: No matching distribution found for upgrade\u001b[0m\u001b[31m\n",
            "\u001b[0m"
          ]
        }
      ],
      "source": [
        "# !python -m pip install --upgrade -- polars\n",
        "import polars as pl\n",
        "print(pl.__version__)"
      ]
    },
    {
      "cell_type": "code",
      "source": [
        "# https://www.nyc.gov/site/tlc/about/tlc-trip-record-data.page\n",
        "\n",
        "base = \"https://d37ci6vzurychx.cloudfront.net/trip-data/yellow_tripdata_2023-{:02d}.parquet\"\n",
        "\n",
        "# we keep the files from Feb 2023 to retain those with the same schema\n",
        "urls = tuple(base.format(month) for month in range(2, 10))"
      ],
      "metadata": {
        "id": "hJeEbqSFgl52"
      },
      "execution_count": 3,
      "outputs": []
    },
    {
      "cell_type": "code",
      "source": [
        "urls"
      ],
      "metadata": {
        "colab": {
          "base_uri": "https://localhost:8080/"
        },
        "id": "BIoyLnbjph2n",
        "outputId": "9ef9b0fc-73bc-4ff9-fb98-5ee06e7fe286"
      },
      "execution_count": 5,
      "outputs": [
        {
          "output_type": "execute_result",
          "data": {
            "text/plain": [
              "('https://d37ci6vzurychx.cloudfront.net/trip-data/yellow_tripdata_2023-02.parquet',\n",
              " 'https://d37ci6vzurychx.cloudfront.net/trip-data/yellow_tripdata_2023-03.parquet',\n",
              " 'https://d37ci6vzurychx.cloudfront.net/trip-data/yellow_tripdata_2023-04.parquet',\n",
              " 'https://d37ci6vzurychx.cloudfront.net/trip-data/yellow_tripdata_2023-05.parquet',\n",
              " 'https://d37ci6vzurychx.cloudfront.net/trip-data/yellow_tripdata_2023-06.parquet',\n",
              " 'https://d37ci6vzurychx.cloudfront.net/trip-data/yellow_tripdata_2023-07.parquet',\n",
              " 'https://d37ci6vzurychx.cloudfront.net/trip-data/yellow_tripdata_2023-08.parquet',\n",
              " 'https://d37ci6vzurychx.cloudfront.net/trip-data/yellow_tripdata_2023-09.parquet')"
            ]
          },
          "metadata": {},
          "execution_count": 5
        }
      ]
    },
    {
      "cell_type": "code",
      "source": [
        "pl.read_parquet(urls[0])"
      ],
      "metadata": {
        "colab": {
          "base_uri": "https://localhost:8080/",
          "height": 902
        },
        "id": "40CL0zABqpGS",
        "outputId": "18c65ca4-31c4-41ee-884e-eb1e918f1169"
      },
      "execution_count": 9,
      "outputs": [
        {
          "output_type": "execute_result",
          "data": {
            "text/plain": [
              "shape: (2_913_955, 19)\n",
              "┌──────────┬───────────┬───────────┬───────────┬───┬───────────┬───────────┬───────────┬───────────┐\n",
              "│ VendorID ┆ tpep_pick ┆ tpep_drop ┆ passenger ┆ … ┆ improveme ┆ total_amo ┆ congestio ┆ Airport_f │\n",
              "│ ---      ┆ up_dateti ┆ off_datet ┆ _count    ┆   ┆ nt_surcha ┆ unt       ┆ n_surchar ┆ ee        │\n",
              "│ i32      ┆ me        ┆ ime       ┆ ---       ┆   ┆ rge       ┆ ---       ┆ ge        ┆ ---       │\n",
              "│          ┆ ---       ┆ ---       ┆ i64       ┆   ┆ ---       ┆ f64       ┆ ---       ┆ f64       │\n",
              "│          ┆ datetime[ ┆ datetime[ ┆           ┆   ┆ f64       ┆           ┆ f64       ┆           │\n",
              "│          ┆ ns]       ┆ ns]       ┆           ┆   ┆           ┆           ┆           ┆           │\n",
              "╞══════════╪═══════════╪═══════════╪═══════════╪═══╪═══════════╪═══════════╪═══════════╪═══════════╡\n",
              "│ 1        ┆ 2023-02-0 ┆ 2023-02-0 ┆ 2         ┆ … ┆ 1.0       ┆ 9.4       ┆ 2.5       ┆ 0.0       │\n",
              "│          ┆ 1         ┆ 1         ┆           ┆   ┆           ┆           ┆           ┆           │\n",
              "│          ┆ 00:32:53  ┆ 00:34:34  ┆           ┆   ┆           ┆           ┆           ┆           │\n",
              "│ 2        ┆ 2023-02-0 ┆ 2023-02-0 ┆ 1         ┆ … ┆ -1.0      ┆ -5.5      ┆ 0.0       ┆ 0.0       │\n",
              "│          ┆ 1         ┆ 1         ┆           ┆   ┆           ┆           ┆           ┆           │\n",
              "│          ┆ 00:35:16  ┆ 00:35:30  ┆           ┆   ┆           ┆           ┆           ┆           │\n",
              "│ 2        ┆ 2023-02-0 ┆ 2023-02-0 ┆ 1         ┆ … ┆ 1.0       ┆ 5.5       ┆ 0.0       ┆ 0.0       │\n",
              "│          ┆ 1         ┆ 1         ┆           ┆   ┆           ┆           ┆           ┆           │\n",
              "│          ┆ 00:35:16  ┆ 00:35:30  ┆           ┆   ┆           ┆           ┆           ┆           │\n",
              "│ 1        ┆ 2023-02-0 ┆ 2023-02-0 ┆ 0         ┆ … ┆ 1.0       ┆ 74.65     ┆ 0.0       ┆ 1.25      │\n",
              "│          ┆ 1         ┆ 1         ┆           ┆   ┆           ┆           ┆           ┆           │\n",
              "│          ┆ 00:29:33  ┆ 01:01:38  ┆           ┆   ┆           ┆           ┆           ┆           │\n",
              "│ …        ┆ …         ┆ …         ┆ …         ┆ … ┆ …         ┆ …         ┆ …         ┆ …         │\n",
              "│ 2        ┆ 2023-02-2 ┆ 2023-02-2 ┆ null      ┆ … ┆ 1.0       ┆ 20.31     ┆ null      ┆ null      │\n",
              "│          ┆ 8         ┆ 8         ┆           ┆   ┆           ┆           ┆           ┆           │\n",
              "│          ┆ 23:26:02  ┆ 23:37:10  ┆           ┆   ┆           ┆           ┆           ┆           │\n",
              "│ 2        ┆ 2023-02-2 ┆ 2023-02-2 ┆ null      ┆ … ┆ 1.0       ┆ 21.64     ┆ null      ┆ null      │\n",
              "│          ┆ 8         ┆ 8         ┆           ┆   ┆           ┆           ┆           ┆           │\n",
              "│          ┆ 23:24:00  ┆ 23:38:00  ┆           ┆   ┆           ┆           ┆           ┆           │\n",
              "│ 2        ┆ 2023-02-2 ┆ 2023-02-2 ┆ null      ┆ … ┆ 1.0       ┆ 20.19     ┆ null      ┆ null      │\n",
              "│          ┆ 8         ┆ 8         ┆           ┆   ┆           ┆           ┆           ┆           │\n",
              "│          ┆ 23:03:00  ┆ 23:10:00  ┆           ┆   ┆           ┆           ┆           ┆           │\n",
              "│ 2        ┆ 2023-02-2 ┆ 2023-02-2 ┆ null      ┆ … ┆ 1.0       ┆ 22.67     ┆ null      ┆ null      │\n",
              "│          ┆ 8         ┆ 8         ┆           ┆   ┆           ┆           ┆           ┆           │\n",
              "│          ┆ 23:03:03  ┆ 23:12:51  ┆           ┆   ┆           ┆           ┆           ┆           │\n",
              "└──────────┴───────────┴───────────┴───────────┴───┴───────────┴───────────┴───────────┴───────────┘"
            ],
            "text/html": [
              "<div><style>\n",
              ".dataframe > thead > tr,\n",
              ".dataframe > tbody > tr {\n",
              "  text-align: right;\n",
              "  white-space: pre-wrap;\n",
              "}\n",
              "</style>\n",
              "<small>shape: (2_913_955, 19)</small><table border=\"1\" class=\"dataframe\"><thead><tr><th>VendorID</th><th>tpep_pickup_datetime</th><th>tpep_dropoff_datetime</th><th>passenger_count</th><th>trip_distance</th><th>RatecodeID</th><th>store_and_fwd_flag</th><th>PULocationID</th><th>DOLocationID</th><th>payment_type</th><th>fare_amount</th><th>extra</th><th>mta_tax</th><th>tip_amount</th><th>tolls_amount</th><th>improvement_surcharge</th><th>total_amount</th><th>congestion_surcharge</th><th>Airport_fee</th></tr><tr><td>i32</td><td>datetime[ns]</td><td>datetime[ns]</td><td>i64</td><td>f64</td><td>i64</td><td>str</td><td>i32</td><td>i32</td><td>i64</td><td>f64</td><td>f64</td><td>f64</td><td>f64</td><td>f64</td><td>f64</td><td>f64</td><td>f64</td><td>f64</td></tr></thead><tbody><tr><td>1</td><td>2023-02-01 00:32:53</td><td>2023-02-01 00:34:34</td><td>2</td><td>0.3</td><td>1</td><td>&quot;N&quot;</td><td>142</td><td>163</td><td>2</td><td>4.4</td><td>3.5</td><td>0.5</td><td>0.0</td><td>0.0</td><td>1.0</td><td>9.4</td><td>2.5</td><td>0.0</td></tr><tr><td>2</td><td>2023-02-01 00:35:16</td><td>2023-02-01 00:35:30</td><td>1</td><td>0.0</td><td>1</td><td>&quot;N&quot;</td><td>71</td><td>71</td><td>4</td><td>-3.0</td><td>-1.0</td><td>-0.5</td><td>0.0</td><td>0.0</td><td>-1.0</td><td>-5.5</td><td>0.0</td><td>0.0</td></tr><tr><td>2</td><td>2023-02-01 00:35:16</td><td>2023-02-01 00:35:30</td><td>1</td><td>0.0</td><td>1</td><td>&quot;N&quot;</td><td>71</td><td>71</td><td>4</td><td>3.0</td><td>1.0</td><td>0.5</td><td>0.0</td><td>0.0</td><td>1.0</td><td>5.5</td><td>0.0</td><td>0.0</td></tr><tr><td>1</td><td>2023-02-01 00:29:33</td><td>2023-02-01 01:01:38</td><td>0</td><td>18.8</td><td>1</td><td>&quot;N&quot;</td><td>132</td><td>26</td><td>1</td><td>70.9</td><td>2.25</td><td>0.5</td><td>0.0</td><td>0.0</td><td>1.0</td><td>74.65</td><td>0.0</td><td>1.25</td></tr><tr><td>2</td><td>2023-02-01 00:12:28</td><td>2023-02-01 00:25:46</td><td>1</td><td>3.22</td><td>1</td><td>&quot;N&quot;</td><td>161</td><td>145</td><td>1</td><td>17.0</td><td>1.0</td><td>0.5</td><td>3.3</td><td>0.0</td><td>1.0</td><td>25.3</td><td>2.5</td><td>0.0</td></tr><tr><td>1</td><td>2023-02-01 00:52:40</td><td>2023-02-01 01:07:18</td><td>1</td><td>5.1</td><td>1</td><td>&quot;N&quot;</td><td>148</td><td>236</td><td>1</td><td>21.9</td><td>3.5</td><td>0.5</td><td>5.35</td><td>0.0</td><td>1.0</td><td>32.25</td><td>2.5</td><td>0.0</td></tr><tr><td>1</td><td>2023-02-01 00:12:39</td><td>2023-02-01 00:40:36</td><td>1</td><td>8.9</td><td>1</td><td>&quot;N&quot;</td><td>137</td><td>244</td><td>1</td><td>41.5</td><td>3.5</td><td>0.5</td><td>3.5</td><td>0.0</td><td>1.0</td><td>50.0</td><td>2.5</td><td>0.0</td></tr><tr><td>1</td><td>2023-02-01 00:56:53</td><td>2023-02-01 01:00:37</td><td>1</td><td>1.2</td><td>1</td><td>&quot;N&quot;</td><td>263</td><td>141</td><td>1</td><td>7.2</td><td>3.5</td><td>0.5</td><td>2.44</td><td>0.0</td><td>1.0</td><td>14.64</td><td>2.5</td><td>0.0</td></tr><tr><td>2</td><td>2023-02-01 00:20:40</td><td>2023-02-01 00:33:56</td><td>1</td><td>7.49</td><td>1</td><td>&quot;N&quot;</td><td>48</td><td>243</td><td>1</td><td>30.3</td><td>1.0</td><td>0.5</td><td>8.82</td><td>0.0</td><td>1.0</td><td>44.12</td><td>2.5</td><td>0.0</td></tr><tr><td>2</td><td>2023-02-01 00:33:51</td><td>2023-02-01 00:37:34</td><td>1</td><td>0.51</td><td>1</td><td>&quot;N&quot;</td><td>114</td><td>211</td><td>1</td><td>5.8</td><td>1.0</td><td>0.5</td><td>1.62</td><td>0.0</td><td>1.0</td><td>12.42</td><td>2.5</td><td>0.0</td></tr><tr><td>2</td><td>2023-02-01 01:00:45</td><td>2023-02-01 01:06:00</td><td>1</td><td>0.78</td><td>1</td><td>&quot;N&quot;</td><td>114</td><td>249</td><td>1</td><td>7.2</td><td>1.0</td><td>0.5</td><td>2.44</td><td>0.0</td><td>1.0</td><td>14.64</td><td>2.5</td><td>0.0</td></tr><tr><td>2</td><td>2023-02-01 00:10:48</td><td>2023-02-01 00:18:09</td><td>1</td><td>1.57</td><td>1</td><td>&quot;N&quot;</td><td>125</td><td>107</td><td>1</td><td>10.0</td><td>1.0</td><td>0.5</td><td>1.0</td><td>0.0</td><td>1.0</td><td>16.0</td><td>2.5</td><td>0.0</td></tr><tr><td>&hellip;</td><td>&hellip;</td><td>&hellip;</td><td>&hellip;</td><td>&hellip;</td><td>&hellip;</td><td>&hellip;</td><td>&hellip;</td><td>&hellip;</td><td>&hellip;</td><td>&hellip;</td><td>&hellip;</td><td>&hellip;</td><td>&hellip;</td><td>&hellip;</td><td>&hellip;</td><td>&hellip;</td><td>&hellip;</td><td>&hellip;</td></tr><tr><td>2</td><td>2023-02-28 23:35:49</td><td>2023-02-28 23:53:06</td><td>null</td><td>5.02</td><td>null</td><td>null</td><td>13</td><td>143</td><td>0</td><td>21.24</td><td>0.0</td><td>0.5</td><td>5.05</td><td>0.0</td><td>1.0</td><td>30.29</td><td>null</td><td>null</td></tr><tr><td>2</td><td>2023-02-28 23:27:53</td><td>2023-02-28 23:39:36</td><td>null</td><td>2.59</td><td>null</td><td>null</td><td>87</td><td>79</td><td>0</td><td>15.81</td><td>0.0</td><td>0.5</td><td>3.96</td><td>0.0</td><td>1.0</td><td>23.77</td><td>null</td><td>null</td></tr><tr><td>1</td><td>2023-02-28 23:19:54</td><td>2023-02-28 23:31:59</td><td>null</td><td>2.6</td><td>null</td><td>null</td><td>164</td><td>231</td><td>0</td><td>14.2</td><td>1.0</td><td>0.5</td><td>3.84</td><td>0.0</td><td>1.0</td><td>23.04</td><td>null</td><td>null</td></tr><tr><td>2</td><td>2023-02-28 23:02:00</td><td>2023-02-28 23:18:00</td><td>null</td><td>6.12</td><td>null</td><td>null</td><td>256</td><td>261</td><td>0</td><td>20.38</td><td>0.0</td><td>0.5</td><td>2.44</td><td>0.0</td><td>1.0</td><td>26.82</td><td>null</td><td>null</td></tr><tr><td>2</td><td>2023-02-28 23:19:00</td><td>2023-02-28 23:25:00</td><td>null</td><td>1.12</td><td>null</td><td>null</td><td>141</td><td>140</td><td>0</td><td>7.95</td><td>0.0</td><td>0.5</td><td>3.39</td><td>0.0</td><td>1.0</td><td>15.34</td><td>null</td><td>null</td></tr><tr><td>2</td><td>2023-02-28 23:41:22</td><td>2023-02-28 23:55:25</td><td>null</td><td>4.71</td><td>null</td><td>null</td><td>114</td><td>112</td><td>0</td><td>20.03</td><td>0.0</td><td>0.5</td><td>0.0</td><td>0.0</td><td>1.0</td><td>24.03</td><td>null</td><td>null</td></tr><tr><td>2</td><td>2023-02-28 23:58:00</td><td>2023-03-01 00:12:00</td><td>null</td><td>3.65</td><td>null</td><td>null</td><td>262</td><td>48</td><td>0</td><td>17.99</td><td>0.0</td><td>0.5</td><td>2.2</td><td>0.0</td><td>1.0</td><td>24.19</td><td>null</td><td>null</td></tr><tr><td>2</td><td>2023-02-28 23:46:00</td><td>2023-03-01 00:05:00</td><td>null</td><td>4.65</td><td>null</td><td>null</td><td>249</td><td>140</td><td>0</td><td>20.22</td><td>0.0</td><td>0.5</td><td>4.84</td><td>0.0</td><td>1.0</td><td>29.06</td><td>null</td><td>null</td></tr><tr><td>2</td><td>2023-02-28 23:26:02</td><td>2023-02-28 23:37:10</td><td>null</td><td>2.47</td><td>null</td><td>null</td><td>186</td><td>79</td><td>0</td><td>13.66</td><td>0.0</td><td>0.5</td><td>2.65</td><td>0.0</td><td>1.0</td><td>20.31</td><td>null</td><td>null</td></tr><tr><td>2</td><td>2023-02-28 23:24:00</td><td>2023-02-28 23:38:00</td><td>null</td><td>3.49</td><td>null</td><td>null</td><td>158</td><td>143</td><td>0</td><td>17.64</td><td>0.0</td><td>0.5</td><td>0.0</td><td>0.0</td><td>1.0</td><td>21.64</td><td>null</td><td>null</td></tr><tr><td>2</td><td>2023-02-28 23:03:00</td><td>2023-02-28 23:10:00</td><td>null</td><td>2.13</td><td>null</td><td>null</td><td>79</td><td>162</td><td>0</td><td>13.56</td><td>0.0</td><td>0.5</td><td>2.63</td><td>0.0</td><td>1.0</td><td>20.19</td><td>null</td><td>null</td></tr><tr><td>2</td><td>2023-02-28 23:03:03</td><td>2023-02-28 23:12:51</td><td>null</td><td>2.28</td><td>null</td><td>null</td><td>161</td><td>140</td><td>0</td><td>14.89</td><td>0.0</td><td>0.5</td><td>3.78</td><td>0.0</td><td>1.0</td><td>22.67</td><td>null</td><td>null</td></tr></tbody></table></div>"
            ]
          },
          "metadata": {},
          "execution_count": 9
        }
      ]
    },
    {
      "cell_type": "code",
      "source": [
        "data = pl.scan_parquet(urls).head(50)\n",
        "\n",
        "type(data)"
      ],
      "metadata": {
        "colab": {
          "base_uri": "https://localhost:8080/"
        },
        "id": "0ZUgyD1uqg-p",
        "outputId": "b9771e5b-8715-4091-a544-51feb2f31e1d"
      },
      "execution_count": 18,
      "outputs": [
        {
          "output_type": "execute_result",
          "data": {
            "text/plain": [
              "polars.lazyframe.frame.LazyFrame"
            ]
          },
          "metadata": {},
          "execution_count": 18
        }
      ]
    },
    {
      "cell_type": "code",
      "source": [
        "data"
      ],
      "metadata": {
        "colab": {
          "base_uri": "https://localhost:8080/",
          "height": 264
        },
        "id": "0GK90AGCr4sU",
        "outputId": "a0f9c179-7ff5-4598-d9f4-f518046f5795"
      },
      "execution_count": 19,
      "outputs": [
        {
          "output_type": "execute_result",
          "data": {
            "text/plain": [
              "<LazyFrame [19 cols, {\"VendorID\": Int32 … \"Airport_fee\": Float64}] at 0x7EF9C5A86C50>"
            ],
            "text/html": [
              "<h4>NAIVE QUERY PLAN</h4><p>run <b>LazyFrame.show_graph()</b> to see the optimized version</p><?xml version=\"1.0\" encoding=\"UTF-8\" standalone=\"no\"?>\n",
              "<!DOCTYPE svg PUBLIC \"-//W3C//DTD SVG 1.1//EN\"\n",
              " \"http://www.w3.org/Graphics/SVG/1.1/DTD/svg11.dtd\">\n",
              "<!-- Generated by graphviz version 2.43.0 (0)\n",
              " -->\n",
              "<!-- Title: polars_query Pages: 1 -->\n",
              "<svg width=\"644pt\" height=\"133pt\"\n",
              " viewBox=\"0.00 0.00 644.00 133.00\" xmlns=\"http://www.w3.org/2000/svg\" xmlns:xlink=\"http://www.w3.org/1999/xlink\">\n",
              "<g id=\"graph0\" class=\"graph\" transform=\"scale(1 1) rotate(0) translate(4 129)\">\n",
              "<title>polars_query</title>\n",
              "<polygon fill=\"white\" stroke=\"transparent\" points=\"-4,4 -4,-129 640,-129 640,4 -4,4\"/>\n",
              "<!-- SLICE offset: 0; len: 50 [(0, 0)] -->\n",
              "<g id=\"node1\" class=\"node\">\n",
              "<title>SLICE offset: 0; len: 50 [(0, 0)]</title>\n",
              "<polygon fill=\"none\" stroke=\"black\" points=\"392,-125 244,-125 244,-89 392,-89 392,-125\"/>\n",
              "<text text-anchor=\"middle\" x=\"318\" y=\"-103.3\" font-family=\"Times,serif\" font-size=\"14.00\">SLICE offset: 0; len: 50</text>\n",
              "</g>\n",
              "<!-- Parquet SCAN 8 files: first file: https://d37ci6vzurychx.cloudfront.net/trip&#45;data/yellow_tripdata_2023&#45;02.parquet;\n",
              "π */19;\n",
              "σ &#45; [(0, 1)] -->\n",
              "<g id=\"node2\" class=\"node\">\n",
              "<title>Parquet SCAN 8 files: first file: https://d37ci6vzurychx.cloudfront.net/trip&#45;data/yellow_tripdata_2023&#45;02.parquet;\n",
              "π */19;\n",
              "σ &#45; [(0, 1)]</title>\n",
              "<polygon fill=\"none\" stroke=\"black\" points=\"636,-53 0,-53 0,0 636,0 636,-53\"/>\n",
              "<text text-anchor=\"middle\" x=\"318\" y=\"-37.8\" font-family=\"Times,serif\" font-size=\"14.00\">Parquet SCAN 8 files: first file: https://d37ci6vzurychx.cloudfront.net/trip&#45;data/yellow_tripdata_2023&#45;02.parquet;</text>\n",
              "<text text-anchor=\"middle\" x=\"318\" y=\"-22.8\" font-family=\"Times,serif\" font-size=\"14.00\">π */19;</text>\n",
              "<text text-anchor=\"middle\" x=\"318\" y=\"-7.8\" font-family=\"Times,serif\" font-size=\"14.00\">σ &#45;</text>\n",
              "</g>\n",
              "<!-- SLICE offset: 0; len: 50 [(0, 0)]&#45;&#45;Parquet SCAN 8 files: first file: https://d37ci6vzurychx.cloudfront.net/trip&#45;data/yellow_tripdata_2023&#45;02.parquet;\n",
              "π */19;\n",
              "σ &#45; [(0, 1)] -->\n",
              "<g id=\"edge1\" class=\"edge\">\n",
              "<title>SLICE offset: 0; len: 50 [(0, 0)]&#45;&#45;Parquet SCAN 8 files: first file: https://d37ci6vzurychx.cloudfront.net/trip&#45;data/yellow_tripdata_2023&#45;02.parquet;\n",
              "π */19;\n",
              "σ &#45; [(0, 1)]</title>\n",
              "<path fill=\"none\" stroke=\"black\" d=\"M318,-88.97C318,-78.51 318,-64.9 318,-53.16\"/>\n",
              "</g>\n",
              "</g>\n",
              "</svg>\n"
            ]
          },
          "metadata": {},
          "execution_count": 19
        }
      ]
    },
    {
      "cell_type": "code",
      "source": [
        "print(data.explain(optimized = False))"
      ],
      "metadata": {
        "colab": {
          "base_uri": "https://localhost:8080/"
        },
        "id": "AJDhOG2nrpuC",
        "outputId": "49a56412-091b-44e9-cef1-12d7c5a0e795"
      },
      "execution_count": 20,
      "outputs": [
        {
          "output_type": "stream",
          "name": "stdout",
          "text": [
            "SLICE[offset: 0, len: 50]\n",
            "\n",
            "    Parquet SCAN 8 files: first file: https://d37ci6vzurychx.cloudfront.net/trip-data/yellow_tripdata_2023-02.parquet\n",
            "    PROJECT */19 COLUMNS\n"
          ]
        }
      ]
    },
    {
      "cell_type": "code",
      "source": [
        "data.schema"
      ],
      "metadata": {
        "colab": {
          "base_uri": "https://localhost:8080/"
        },
        "id": "LuG_amZNsE5-",
        "outputId": "57a61d04-0b35-4f26-a226-a05be492396d"
      },
      "execution_count": 21,
      "outputs": [
        {
          "output_type": "execute_result",
          "data": {
            "text/plain": [
              "OrderedDict([('VendorID', Int32),\n",
              "             ('tpep_pickup_datetime',\n",
              "              Datetime(time_unit='ns', time_zone=None)),\n",
              "             ('tpep_dropoff_datetime',\n",
              "              Datetime(time_unit='ns', time_zone=None)),\n",
              "             ('passenger_count', Int64),\n",
              "             ('trip_distance', Float64),\n",
              "             ('RatecodeID', Int64),\n",
              "             ('store_and_fwd_flag', Utf8),\n",
              "             ('PULocationID', Int32),\n",
              "             ('DOLocationID', Int32),\n",
              "             ('payment_type', Int64),\n",
              "             ('fare_amount', Float64),\n",
              "             ('extra', Float64),\n",
              "             ('mta_tax', Float64),\n",
              "             ('tip_amount', Float64),\n",
              "             ('tolls_amount', Float64),\n",
              "             ('improvement_surcharge', Float64),\n",
              "             ('total_amount', Float64),\n",
              "             ('congestion_surcharge', Float64),\n",
              "             ('Airport_fee', Float64)])"
            ]
          },
          "metadata": {},
          "execution_count": 21
        }
      ]
    },
    {
      "cell_type": "code",
      "source": [
        "data.describe()"
      ],
      "metadata": {
        "colab": {
          "base_uri": "https://localhost:8080/",
          "height": 141
        },
        "id": "chQVZ9QPr3ne",
        "outputId": "9577f412-eb97-4f15-bfb6-179436996adb"
      },
      "execution_count": 22,
      "outputs": [
        {
          "output_type": "error",
          "ename": "AttributeError",
          "evalue": "'LazyFrame' object has no attribute 'describe'",
          "traceback": [
            "\u001b[0;31m---------------------------------------------------------------------------\u001b[0m",
            "\u001b[0;31mAttributeError\u001b[0m                            Traceback (most recent call last)",
            "\u001b[0;32m<ipython-input-22-2bb0b18689d4>\u001b[0m in \u001b[0;36m<cell line: 1>\u001b[0;34m()\u001b[0m\n\u001b[0;32m----> 1\u001b[0;31m \u001b[0mdata\u001b[0m\u001b[0;34m.\u001b[0m\u001b[0mdescribe\u001b[0m\u001b[0;34m(\u001b[0m\u001b[0;34m)\u001b[0m\u001b[0;34m\u001b[0m\u001b[0;34m\u001b[0m\u001b[0m\n\u001b[0m",
            "\u001b[0;31mAttributeError\u001b[0m: 'LazyFrame' object has no attribute 'describe'"
          ]
        }
      ]
    },
    {
      "cell_type": "code",
      "source": [
        "pl.col('VendorID')"
      ],
      "metadata": {
        "colab": {
          "base_uri": "https://localhost:8080/",
          "height": 34
        },
        "id": "vKM1Psfor1sm",
        "outputId": "ae02bea1-6033-43c5-d160-0f930bfb70d6"
      },
      "execution_count": 23,
      "outputs": [
        {
          "output_type": "execute_result",
          "data": {
            "text/plain": [
              "<Expr ['col(\"VendorID\")'] at 0x7EF9C5A85630>"
            ],
            "text/html": [
              "col(\"VendorID\")"
            ]
          },
          "metadata": {},
          "execution_count": 23
        }
      ]
    },
    {
      "cell_type": "code",
      "source": [
        "type(pl.col('VendorID'))"
      ],
      "metadata": {
        "colab": {
          "base_uri": "https://localhost:8080/"
        },
        "id": "tJD_H5HKsfJ3",
        "outputId": "c3aef4b0-901d-4829-d4d5-cfdd998e6b74"
      },
      "execution_count": 24,
      "outputs": [
        {
          "output_type": "execute_result",
          "data": {
            "text/plain": [
              "polars.expr.expr.Expr"
            ]
          },
          "metadata": {},
          "execution_count": 24
        }
      ]
    },
    {
      "cell_type": "code",
      "source": [
        "pl.col(\"VendorID\", \"tpep_pickup_datetime\", \"tpep_dropoff_datetime\")"
      ],
      "metadata": {
        "colab": {
          "base_uri": "https://localhost:8080/",
          "height": 34
        },
        "id": "TRvTROx_sgIK",
        "outputId": "25131084-98ce-46fe-e93f-ce159577c309"
      },
      "execution_count": 25,
      "outputs": [
        {
          "output_type": "execute_result",
          "data": {
            "text/plain": [
              "<Expr ['cols([\"VendorID\", \"tpep_pickup…'] at 0x7EF9C5A86950>"
            ],
            "text/html": [
              "cols([\"VendorID\", \"tpep_pickup_datetime\", \"tpep_dropoff_datetime\"])"
            ]
          },
          "metadata": {},
          "execution_count": 25
        }
      ]
    },
    {
      "cell_type": "code",
      "source": [
        "pl.col( \"tpep_pickup_datetime\", \"tpep_dropoff_datetime\").dt.year()"
      ],
      "metadata": {
        "colab": {
          "base_uri": "https://localhost:8080/",
          "height": 34
        },
        "id": "n1DZQ_jyslwZ",
        "outputId": "39189efc-145b-435c-ba26-4b73ec936f97"
      },
      "execution_count": 26,
      "outputs": [
        {
          "output_type": "execute_result",
          "data": {
            "text/plain": [
              "<Expr ['cols([\"tpep_pickup_datetime\", …'] at 0x7EF9C5A852A0>"
            ],
            "text/html": [
              "cols([\"tpep_pickup_datetime\", \"tpep_dropoff_datetime\"]).dt.year()"
            ]
          },
          "metadata": {},
          "execution_count": 26
        }
      ]
    },
    {
      "cell_type": "code",
      "source": [
        "data = pl.scan_parquet(urls[0])"
      ],
      "metadata": {
        "id": "EyN81sMhs3E2"
      },
      "execution_count": 28,
      "outputs": []
    },
    {
      "cell_type": "code",
      "source": [
        "eagerframe = data.select(pl.all()).collect()"
      ],
      "metadata": {
        "id": "rXarQ7zws7bh"
      },
      "execution_count": 32,
      "outputs": []
    },
    {
      "cell_type": "code",
      "source": [
        "eagerframe"
      ],
      "metadata": {
        "colab": {
          "base_uri": "https://localhost:8080/",
          "height": 902
        },
        "id": "-kvVTiO8tfh-",
        "outputId": "461499aa-eed6-4af9-cb2b-953197567e24"
      },
      "execution_count": 36,
      "outputs": [
        {
          "output_type": "execute_result",
          "data": {
            "text/plain": [
              "shape: (2_913_955, 19)\n",
              "┌──────────┬───────────┬───────────┬───────────┬───┬───────────┬───────────┬───────────┬───────────┐\n",
              "│ VendorID ┆ tpep_pick ┆ tpep_drop ┆ passenger ┆ … ┆ improveme ┆ total_amo ┆ congestio ┆ Airport_f │\n",
              "│ ---      ┆ up_dateti ┆ off_datet ┆ _count    ┆   ┆ nt_surcha ┆ unt       ┆ n_surchar ┆ ee        │\n",
              "│ i32      ┆ me        ┆ ime       ┆ ---       ┆   ┆ rge       ┆ ---       ┆ ge        ┆ ---       │\n",
              "│          ┆ ---       ┆ ---       ┆ i64       ┆   ┆ ---       ┆ f64       ┆ ---       ┆ f64       │\n",
              "│          ┆ datetime[ ┆ datetime[ ┆           ┆   ┆ f64       ┆           ┆ f64       ┆           │\n",
              "│          ┆ ns]       ┆ ns]       ┆           ┆   ┆           ┆           ┆           ┆           │\n",
              "╞══════════╪═══════════╪═══════════╪═══════════╪═══╪═══════════╪═══════════╪═══════════╪═══════════╡\n",
              "│ 1        ┆ 2023-02-0 ┆ 2023-02-0 ┆ 2         ┆ … ┆ 1.0       ┆ 9.4       ┆ 2.5       ┆ 0.0       │\n",
              "│          ┆ 1         ┆ 1         ┆           ┆   ┆           ┆           ┆           ┆           │\n",
              "│          ┆ 00:32:53  ┆ 00:34:34  ┆           ┆   ┆           ┆           ┆           ┆           │\n",
              "│ 2        ┆ 2023-02-0 ┆ 2023-02-0 ┆ 1         ┆ … ┆ -1.0      ┆ -5.5      ┆ 0.0       ┆ 0.0       │\n",
              "│          ┆ 1         ┆ 1         ┆           ┆   ┆           ┆           ┆           ┆           │\n",
              "│          ┆ 00:35:16  ┆ 00:35:30  ┆           ┆   ┆           ┆           ┆           ┆           │\n",
              "│ 2        ┆ 2023-02-0 ┆ 2023-02-0 ┆ 1         ┆ … ┆ 1.0       ┆ 5.5       ┆ 0.0       ┆ 0.0       │\n",
              "│          ┆ 1         ┆ 1         ┆           ┆   ┆           ┆           ┆           ┆           │\n",
              "│          ┆ 00:35:16  ┆ 00:35:30  ┆           ┆   ┆           ┆           ┆           ┆           │\n",
              "│ 1        ┆ 2023-02-0 ┆ 2023-02-0 ┆ 0         ┆ … ┆ 1.0       ┆ 74.65     ┆ 0.0       ┆ 1.25      │\n",
              "│          ┆ 1         ┆ 1         ┆           ┆   ┆           ┆           ┆           ┆           │\n",
              "│          ┆ 00:29:33  ┆ 01:01:38  ┆           ┆   ┆           ┆           ┆           ┆           │\n",
              "│ …        ┆ …         ┆ …         ┆ …         ┆ … ┆ …         ┆ …         ┆ …         ┆ …         │\n",
              "│ 2        ┆ 2023-02-2 ┆ 2023-02-2 ┆ null      ┆ … ┆ 1.0       ┆ 20.31     ┆ null      ┆ null      │\n",
              "│          ┆ 8         ┆ 8         ┆           ┆   ┆           ┆           ┆           ┆           │\n",
              "│          ┆ 23:26:02  ┆ 23:37:10  ┆           ┆   ┆           ┆           ┆           ┆           │\n",
              "│ 2        ┆ 2023-02-2 ┆ 2023-02-2 ┆ null      ┆ … ┆ 1.0       ┆ 21.64     ┆ null      ┆ null      │\n",
              "│          ┆ 8         ┆ 8         ┆           ┆   ┆           ┆           ┆           ┆           │\n",
              "│          ┆ 23:24:00  ┆ 23:38:00  ┆           ┆   ┆           ┆           ┆           ┆           │\n",
              "│ 2        ┆ 2023-02-2 ┆ 2023-02-2 ┆ null      ┆ … ┆ 1.0       ┆ 20.19     ┆ null      ┆ null      │\n",
              "│          ┆ 8         ┆ 8         ┆           ┆   ┆           ┆           ┆           ┆           │\n",
              "│          ┆ 23:03:00  ┆ 23:10:00  ┆           ┆   ┆           ┆           ┆           ┆           │\n",
              "│ 2        ┆ 2023-02-2 ┆ 2023-02-2 ┆ null      ┆ … ┆ 1.0       ┆ 22.67     ┆ null      ┆ null      │\n",
              "│          ┆ 8         ┆ 8         ┆           ┆   ┆           ┆           ┆           ┆           │\n",
              "│          ┆ 23:03:03  ┆ 23:12:51  ┆           ┆   ┆           ┆           ┆           ┆           │\n",
              "└──────────┴───────────┴───────────┴───────────┴───┴───────────┴───────────┴───────────┴───────────┘"
            ],
            "text/html": [
              "<div><style>\n",
              ".dataframe > thead > tr,\n",
              ".dataframe > tbody > tr {\n",
              "  text-align: right;\n",
              "  white-space: pre-wrap;\n",
              "}\n",
              "</style>\n",
              "<small>shape: (2_913_955, 19)</small><table border=\"1\" class=\"dataframe\"><thead><tr><th>VendorID</th><th>tpep_pickup_datetime</th><th>tpep_dropoff_datetime</th><th>passenger_count</th><th>trip_distance</th><th>RatecodeID</th><th>store_and_fwd_flag</th><th>PULocationID</th><th>DOLocationID</th><th>payment_type</th><th>fare_amount</th><th>extra</th><th>mta_tax</th><th>tip_amount</th><th>tolls_amount</th><th>improvement_surcharge</th><th>total_amount</th><th>congestion_surcharge</th><th>Airport_fee</th></tr><tr><td>i32</td><td>datetime[ns]</td><td>datetime[ns]</td><td>i64</td><td>f64</td><td>i64</td><td>str</td><td>i32</td><td>i32</td><td>i64</td><td>f64</td><td>f64</td><td>f64</td><td>f64</td><td>f64</td><td>f64</td><td>f64</td><td>f64</td><td>f64</td></tr></thead><tbody><tr><td>1</td><td>2023-02-01 00:32:53</td><td>2023-02-01 00:34:34</td><td>2</td><td>0.3</td><td>1</td><td>&quot;N&quot;</td><td>142</td><td>163</td><td>2</td><td>4.4</td><td>3.5</td><td>0.5</td><td>0.0</td><td>0.0</td><td>1.0</td><td>9.4</td><td>2.5</td><td>0.0</td></tr><tr><td>2</td><td>2023-02-01 00:35:16</td><td>2023-02-01 00:35:30</td><td>1</td><td>0.0</td><td>1</td><td>&quot;N&quot;</td><td>71</td><td>71</td><td>4</td><td>-3.0</td><td>-1.0</td><td>-0.5</td><td>0.0</td><td>0.0</td><td>-1.0</td><td>-5.5</td><td>0.0</td><td>0.0</td></tr><tr><td>2</td><td>2023-02-01 00:35:16</td><td>2023-02-01 00:35:30</td><td>1</td><td>0.0</td><td>1</td><td>&quot;N&quot;</td><td>71</td><td>71</td><td>4</td><td>3.0</td><td>1.0</td><td>0.5</td><td>0.0</td><td>0.0</td><td>1.0</td><td>5.5</td><td>0.0</td><td>0.0</td></tr><tr><td>1</td><td>2023-02-01 00:29:33</td><td>2023-02-01 01:01:38</td><td>0</td><td>18.8</td><td>1</td><td>&quot;N&quot;</td><td>132</td><td>26</td><td>1</td><td>70.9</td><td>2.25</td><td>0.5</td><td>0.0</td><td>0.0</td><td>1.0</td><td>74.65</td><td>0.0</td><td>1.25</td></tr><tr><td>2</td><td>2023-02-01 00:12:28</td><td>2023-02-01 00:25:46</td><td>1</td><td>3.22</td><td>1</td><td>&quot;N&quot;</td><td>161</td><td>145</td><td>1</td><td>17.0</td><td>1.0</td><td>0.5</td><td>3.3</td><td>0.0</td><td>1.0</td><td>25.3</td><td>2.5</td><td>0.0</td></tr><tr><td>1</td><td>2023-02-01 00:52:40</td><td>2023-02-01 01:07:18</td><td>1</td><td>5.1</td><td>1</td><td>&quot;N&quot;</td><td>148</td><td>236</td><td>1</td><td>21.9</td><td>3.5</td><td>0.5</td><td>5.35</td><td>0.0</td><td>1.0</td><td>32.25</td><td>2.5</td><td>0.0</td></tr><tr><td>1</td><td>2023-02-01 00:12:39</td><td>2023-02-01 00:40:36</td><td>1</td><td>8.9</td><td>1</td><td>&quot;N&quot;</td><td>137</td><td>244</td><td>1</td><td>41.5</td><td>3.5</td><td>0.5</td><td>3.5</td><td>0.0</td><td>1.0</td><td>50.0</td><td>2.5</td><td>0.0</td></tr><tr><td>1</td><td>2023-02-01 00:56:53</td><td>2023-02-01 01:00:37</td><td>1</td><td>1.2</td><td>1</td><td>&quot;N&quot;</td><td>263</td><td>141</td><td>1</td><td>7.2</td><td>3.5</td><td>0.5</td><td>2.44</td><td>0.0</td><td>1.0</td><td>14.64</td><td>2.5</td><td>0.0</td></tr><tr><td>2</td><td>2023-02-01 00:20:40</td><td>2023-02-01 00:33:56</td><td>1</td><td>7.49</td><td>1</td><td>&quot;N&quot;</td><td>48</td><td>243</td><td>1</td><td>30.3</td><td>1.0</td><td>0.5</td><td>8.82</td><td>0.0</td><td>1.0</td><td>44.12</td><td>2.5</td><td>0.0</td></tr><tr><td>2</td><td>2023-02-01 00:33:51</td><td>2023-02-01 00:37:34</td><td>1</td><td>0.51</td><td>1</td><td>&quot;N&quot;</td><td>114</td><td>211</td><td>1</td><td>5.8</td><td>1.0</td><td>0.5</td><td>1.62</td><td>0.0</td><td>1.0</td><td>12.42</td><td>2.5</td><td>0.0</td></tr><tr><td>2</td><td>2023-02-01 01:00:45</td><td>2023-02-01 01:06:00</td><td>1</td><td>0.78</td><td>1</td><td>&quot;N&quot;</td><td>114</td><td>249</td><td>1</td><td>7.2</td><td>1.0</td><td>0.5</td><td>2.44</td><td>0.0</td><td>1.0</td><td>14.64</td><td>2.5</td><td>0.0</td></tr><tr><td>2</td><td>2023-02-01 00:10:48</td><td>2023-02-01 00:18:09</td><td>1</td><td>1.57</td><td>1</td><td>&quot;N&quot;</td><td>125</td><td>107</td><td>1</td><td>10.0</td><td>1.0</td><td>0.5</td><td>1.0</td><td>0.0</td><td>1.0</td><td>16.0</td><td>2.5</td><td>0.0</td></tr><tr><td>&hellip;</td><td>&hellip;</td><td>&hellip;</td><td>&hellip;</td><td>&hellip;</td><td>&hellip;</td><td>&hellip;</td><td>&hellip;</td><td>&hellip;</td><td>&hellip;</td><td>&hellip;</td><td>&hellip;</td><td>&hellip;</td><td>&hellip;</td><td>&hellip;</td><td>&hellip;</td><td>&hellip;</td><td>&hellip;</td><td>&hellip;</td></tr><tr><td>2</td><td>2023-02-28 23:35:49</td><td>2023-02-28 23:53:06</td><td>null</td><td>5.02</td><td>null</td><td>null</td><td>13</td><td>143</td><td>0</td><td>21.24</td><td>0.0</td><td>0.5</td><td>5.05</td><td>0.0</td><td>1.0</td><td>30.29</td><td>null</td><td>null</td></tr><tr><td>2</td><td>2023-02-28 23:27:53</td><td>2023-02-28 23:39:36</td><td>null</td><td>2.59</td><td>null</td><td>null</td><td>87</td><td>79</td><td>0</td><td>15.81</td><td>0.0</td><td>0.5</td><td>3.96</td><td>0.0</td><td>1.0</td><td>23.77</td><td>null</td><td>null</td></tr><tr><td>1</td><td>2023-02-28 23:19:54</td><td>2023-02-28 23:31:59</td><td>null</td><td>2.6</td><td>null</td><td>null</td><td>164</td><td>231</td><td>0</td><td>14.2</td><td>1.0</td><td>0.5</td><td>3.84</td><td>0.0</td><td>1.0</td><td>23.04</td><td>null</td><td>null</td></tr><tr><td>2</td><td>2023-02-28 23:02:00</td><td>2023-02-28 23:18:00</td><td>null</td><td>6.12</td><td>null</td><td>null</td><td>256</td><td>261</td><td>0</td><td>20.38</td><td>0.0</td><td>0.5</td><td>2.44</td><td>0.0</td><td>1.0</td><td>26.82</td><td>null</td><td>null</td></tr><tr><td>2</td><td>2023-02-28 23:19:00</td><td>2023-02-28 23:25:00</td><td>null</td><td>1.12</td><td>null</td><td>null</td><td>141</td><td>140</td><td>0</td><td>7.95</td><td>0.0</td><td>0.5</td><td>3.39</td><td>0.0</td><td>1.0</td><td>15.34</td><td>null</td><td>null</td></tr><tr><td>2</td><td>2023-02-28 23:41:22</td><td>2023-02-28 23:55:25</td><td>null</td><td>4.71</td><td>null</td><td>null</td><td>114</td><td>112</td><td>0</td><td>20.03</td><td>0.0</td><td>0.5</td><td>0.0</td><td>0.0</td><td>1.0</td><td>24.03</td><td>null</td><td>null</td></tr><tr><td>2</td><td>2023-02-28 23:58:00</td><td>2023-03-01 00:12:00</td><td>null</td><td>3.65</td><td>null</td><td>null</td><td>262</td><td>48</td><td>0</td><td>17.99</td><td>0.0</td><td>0.5</td><td>2.2</td><td>0.0</td><td>1.0</td><td>24.19</td><td>null</td><td>null</td></tr><tr><td>2</td><td>2023-02-28 23:46:00</td><td>2023-03-01 00:05:00</td><td>null</td><td>4.65</td><td>null</td><td>null</td><td>249</td><td>140</td><td>0</td><td>20.22</td><td>0.0</td><td>0.5</td><td>4.84</td><td>0.0</td><td>1.0</td><td>29.06</td><td>null</td><td>null</td></tr><tr><td>2</td><td>2023-02-28 23:26:02</td><td>2023-02-28 23:37:10</td><td>null</td><td>2.47</td><td>null</td><td>null</td><td>186</td><td>79</td><td>0</td><td>13.66</td><td>0.0</td><td>0.5</td><td>2.65</td><td>0.0</td><td>1.0</td><td>20.31</td><td>null</td><td>null</td></tr><tr><td>2</td><td>2023-02-28 23:24:00</td><td>2023-02-28 23:38:00</td><td>null</td><td>3.49</td><td>null</td><td>null</td><td>158</td><td>143</td><td>0</td><td>17.64</td><td>0.0</td><td>0.5</td><td>0.0</td><td>0.0</td><td>1.0</td><td>21.64</td><td>null</td><td>null</td></tr><tr><td>2</td><td>2023-02-28 23:03:00</td><td>2023-02-28 23:10:00</td><td>null</td><td>2.13</td><td>null</td><td>null</td><td>79</td><td>162</td><td>0</td><td>13.56</td><td>0.0</td><td>0.5</td><td>2.63</td><td>0.0</td><td>1.0</td><td>20.19</td><td>null</td><td>null</td></tr><tr><td>2</td><td>2023-02-28 23:03:03</td><td>2023-02-28 23:12:51</td><td>null</td><td>2.28</td><td>null</td><td>null</td><td>161</td><td>140</td><td>0</td><td>14.89</td><td>0.0</td><td>0.5</td><td>3.78</td><td>0.0</td><td>1.0</td><td>22.67</td><td>null</td><td>null</td></tr></tbody></table></div>"
            ]
          },
          "metadata": {},
          "execution_count": 36
        }
      ]
    },
    {
      "cell_type": "code",
      "source": [
        "type(eagerframe)"
      ],
      "metadata": {
        "colab": {
          "base_uri": "https://localhost:8080/"
        },
        "id": "Cu7P7ZK4tNwb",
        "outputId": "ba311264-4204-42a4-eadf-8c606f7bec07"
      },
      "execution_count": 33,
      "outputs": [
        {
          "output_type": "execute_result",
          "data": {
            "text/plain": [
              "polars.dataframe.frame.DataFrame"
            ]
          },
          "metadata": {},
          "execution_count": 33
        }
      ]
    },
    {
      "cell_type": "code",
      "source": [
        "eagerframe.lazy()"
      ],
      "metadata": {
        "colab": {
          "base_uri": "https://localhost:8080/",
          "height": 168
        },
        "id": "9A1xUzkBtCCP",
        "outputId": "c64591df-3ce2-48c5-ab33-f793586b099b"
      },
      "execution_count": 34,
      "outputs": [
        {
          "output_type": "execute_result",
          "data": {
            "text/plain": [
              "<LazyFrame [19 cols, {\"VendorID\": Int32 … \"Airport_fee\": Float64}] at 0x7EF9BFB25030>"
            ],
            "text/html": [
              "<h4>NAIVE QUERY PLAN</h4><p>run <b>LazyFrame.show_graph()</b> to see the optimized version</p><?xml version=\"1.0\" encoding=\"UTF-8\" standalone=\"no\"?>\n",
              "<!DOCTYPE svg PUBLIC \"-//W3C//DTD SVG 1.1//EN\"\n",
              " \"http://www.w3.org/Graphics/SVG/1.1/DTD/svg11.dtd\">\n",
              "<!-- Generated by graphviz version 2.43.0 (0)\n",
              " -->\n",
              "<!-- Title: polars_query Pages: 1 -->\n",
              "<svg width=\"72pt\" height=\"61pt\"\n",
              " viewBox=\"0.00 0.00 72.00 61.00\" xmlns=\"http://www.w3.org/2000/svg\" xmlns:xlink=\"http://www.w3.org/1999/xlink\">\n",
              "<g id=\"graph0\" class=\"graph\" transform=\"scale(1 1) rotate(0) translate(4 57)\">\n",
              "<title>polars_query</title>\n",
              "<polygon fill=\"white\" stroke=\"transparent\" points=\"-4,4 -4,-57 68,-57 68,4 -4,4\"/>\n",
              "<!-- [TABLE\n",
              "π */19;\n",
              "σ &#45;;] -->\n",
              "<g id=\"node1\" class=\"node\">\n",
              "<title>[TABLE\n",
              "π */19;\n",
              "σ &#45;;]</title>\n",
              "<polygon fill=\"none\" stroke=\"black\" points=\"64,-53 0,-53 0,0 64,0 64,-53\"/>\n",
              "<text text-anchor=\"middle\" x=\"32\" y=\"-37.8\" font-family=\"Times,serif\" font-size=\"14.00\">[TABLE</text>\n",
              "<text text-anchor=\"middle\" x=\"32\" y=\"-22.8\" font-family=\"Times,serif\" font-size=\"14.00\">π */19;</text>\n",
              "<text text-anchor=\"middle\" x=\"32\" y=\"-7.8\" font-family=\"Times,serif\" font-size=\"14.00\">σ &#45;;]</text>\n",
              "</g>\n",
              "</g>\n",
              "</svg>\n"
            ]
          },
          "metadata": {},
          "execution_count": 34
        }
      ]
    },
    {
      "cell_type": "code",
      "source": [
        "data.select(pl.all()).fetch()"
      ],
      "metadata": {
        "colab": {
          "base_uri": "https://localhost:8080/",
          "height": 902
        },
        "id": "9f46UNdmtSa_",
        "outputId": "fbc6ca3f-64f2-47cc-83b9-62ffaa103642"
      },
      "execution_count": 35,
      "outputs": [
        {
          "output_type": "execute_result",
          "data": {
            "text/plain": [
              "shape: (500, 19)\n",
              "┌──────────┬───────────┬───────────┬───────────┬───┬───────────┬───────────┬───────────┬───────────┐\n",
              "│ VendorID ┆ tpep_pick ┆ tpep_drop ┆ passenger ┆ … ┆ improveme ┆ total_amo ┆ congestio ┆ Airport_f │\n",
              "│ ---      ┆ up_dateti ┆ off_datet ┆ _count    ┆   ┆ nt_surcha ┆ unt       ┆ n_surchar ┆ ee        │\n",
              "│ i32      ┆ me        ┆ ime       ┆ ---       ┆   ┆ rge       ┆ ---       ┆ ge        ┆ ---       │\n",
              "│          ┆ ---       ┆ ---       ┆ i64       ┆   ┆ ---       ┆ f64       ┆ ---       ┆ f64       │\n",
              "│          ┆ datetime[ ┆ datetime[ ┆           ┆   ┆ f64       ┆           ┆ f64       ┆           │\n",
              "│          ┆ ns]       ┆ ns]       ┆           ┆   ┆           ┆           ┆           ┆           │\n",
              "╞══════════╪═══════════╪═══════════╪═══════════╪═══╪═══════════╪═══════════╪═══════════╪═══════════╡\n",
              "│ 1        ┆ 2023-02-0 ┆ 2023-02-0 ┆ 2         ┆ … ┆ 1.0       ┆ 9.4       ┆ 2.5       ┆ 0.0       │\n",
              "│          ┆ 1         ┆ 1         ┆           ┆   ┆           ┆           ┆           ┆           │\n",
              "│          ┆ 00:32:53  ┆ 00:34:34  ┆           ┆   ┆           ┆           ┆           ┆           │\n",
              "│ 2        ┆ 2023-02-0 ┆ 2023-02-0 ┆ 1         ┆ … ┆ -1.0      ┆ -5.5      ┆ 0.0       ┆ 0.0       │\n",
              "│          ┆ 1         ┆ 1         ┆           ┆   ┆           ┆           ┆           ┆           │\n",
              "│          ┆ 00:35:16  ┆ 00:35:30  ┆           ┆   ┆           ┆           ┆           ┆           │\n",
              "│ 2        ┆ 2023-02-0 ┆ 2023-02-0 ┆ 1         ┆ … ┆ 1.0       ┆ 5.5       ┆ 0.0       ┆ 0.0       │\n",
              "│          ┆ 1         ┆ 1         ┆           ┆   ┆           ┆           ┆           ┆           │\n",
              "│          ┆ 00:35:16  ┆ 00:35:30  ┆           ┆   ┆           ┆           ┆           ┆           │\n",
              "│ 1        ┆ 2023-02-0 ┆ 2023-02-0 ┆ 0         ┆ … ┆ 1.0       ┆ 74.65     ┆ 0.0       ┆ 1.25      │\n",
              "│          ┆ 1         ┆ 1         ┆           ┆   ┆           ┆           ┆           ┆           │\n",
              "│          ┆ 00:29:33  ┆ 01:01:38  ┆           ┆   ┆           ┆           ┆           ┆           │\n",
              "│ …        ┆ …         ┆ …         ┆ …         ┆ … ┆ …         ┆ …         ┆ …         ┆ …         │\n",
              "│ 1        ┆ 2023-02-0 ┆ 2023-02-0 ┆ 1         ┆ … ┆ 1.0       ┆ 29.7      ┆ 2.5       ┆ 0.0       │\n",
              "│          ┆ 1         ┆ 1         ┆           ┆   ┆           ┆           ┆           ┆           │\n",
              "│          ┆ 00:17:43  ┆ 00:29:04  ┆           ┆   ┆           ┆           ┆           ┆           │\n",
              "│ 1        ┆ 2023-02-0 ┆ 2023-02-0 ┆ 1         ┆ … ┆ 1.0       ┆ 17.15     ┆ 2.5       ┆ 0.0       │\n",
              "│          ┆ 1         ┆ 1         ┆           ┆   ┆           ┆           ┆           ┆           │\n",
              "│          ┆ 00:38:37  ┆ 00:43:33  ┆           ┆   ┆           ┆           ┆           ┆           │\n",
              "│ 1        ┆ 2023-02-0 ┆ 2023-02-0 ┆ 1         ┆ … ┆ 1.0       ┆ 19.1      ┆ 2.5       ┆ 0.0       │\n",
              "│          ┆ 1         ┆ 1         ┆           ┆   ┆           ┆           ┆           ┆           │\n",
              "│          ┆ 00:37:53  ┆ 00:46:36  ┆           ┆   ┆           ┆           ┆           ┆           │\n",
              "│ 1        ┆ 2023-02-0 ┆ 2023-02-0 ┆ 1         ┆ … ┆ 1.0       ┆ 18.4      ┆ 2.5       ┆ 0.0       │\n",
              "│          ┆ 1         ┆ 1         ┆           ┆   ┆           ┆           ┆           ┆           │\n",
              "│          ┆ 00:50:27  ┆ 01:00:10  ┆           ┆   ┆           ┆           ┆           ┆           │\n",
              "└──────────┴───────────┴───────────┴───────────┴───┴───────────┴───────────┴───────────┴───────────┘"
            ],
            "text/html": [
              "<div><style>\n",
              ".dataframe > thead > tr,\n",
              ".dataframe > tbody > tr {\n",
              "  text-align: right;\n",
              "  white-space: pre-wrap;\n",
              "}\n",
              "</style>\n",
              "<small>shape: (500, 19)</small><table border=\"1\" class=\"dataframe\"><thead><tr><th>VendorID</th><th>tpep_pickup_datetime</th><th>tpep_dropoff_datetime</th><th>passenger_count</th><th>trip_distance</th><th>RatecodeID</th><th>store_and_fwd_flag</th><th>PULocationID</th><th>DOLocationID</th><th>payment_type</th><th>fare_amount</th><th>extra</th><th>mta_tax</th><th>tip_amount</th><th>tolls_amount</th><th>improvement_surcharge</th><th>total_amount</th><th>congestion_surcharge</th><th>Airport_fee</th></tr><tr><td>i32</td><td>datetime[ns]</td><td>datetime[ns]</td><td>i64</td><td>f64</td><td>i64</td><td>str</td><td>i32</td><td>i32</td><td>i64</td><td>f64</td><td>f64</td><td>f64</td><td>f64</td><td>f64</td><td>f64</td><td>f64</td><td>f64</td><td>f64</td></tr></thead><tbody><tr><td>1</td><td>2023-02-01 00:32:53</td><td>2023-02-01 00:34:34</td><td>2</td><td>0.3</td><td>1</td><td>&quot;N&quot;</td><td>142</td><td>163</td><td>2</td><td>4.4</td><td>3.5</td><td>0.5</td><td>0.0</td><td>0.0</td><td>1.0</td><td>9.4</td><td>2.5</td><td>0.0</td></tr><tr><td>2</td><td>2023-02-01 00:35:16</td><td>2023-02-01 00:35:30</td><td>1</td><td>0.0</td><td>1</td><td>&quot;N&quot;</td><td>71</td><td>71</td><td>4</td><td>-3.0</td><td>-1.0</td><td>-0.5</td><td>0.0</td><td>0.0</td><td>-1.0</td><td>-5.5</td><td>0.0</td><td>0.0</td></tr><tr><td>2</td><td>2023-02-01 00:35:16</td><td>2023-02-01 00:35:30</td><td>1</td><td>0.0</td><td>1</td><td>&quot;N&quot;</td><td>71</td><td>71</td><td>4</td><td>3.0</td><td>1.0</td><td>0.5</td><td>0.0</td><td>0.0</td><td>1.0</td><td>5.5</td><td>0.0</td><td>0.0</td></tr><tr><td>1</td><td>2023-02-01 00:29:33</td><td>2023-02-01 01:01:38</td><td>0</td><td>18.8</td><td>1</td><td>&quot;N&quot;</td><td>132</td><td>26</td><td>1</td><td>70.9</td><td>2.25</td><td>0.5</td><td>0.0</td><td>0.0</td><td>1.0</td><td>74.65</td><td>0.0</td><td>1.25</td></tr><tr><td>2</td><td>2023-02-01 00:12:28</td><td>2023-02-01 00:25:46</td><td>1</td><td>3.22</td><td>1</td><td>&quot;N&quot;</td><td>161</td><td>145</td><td>1</td><td>17.0</td><td>1.0</td><td>0.5</td><td>3.3</td><td>0.0</td><td>1.0</td><td>25.3</td><td>2.5</td><td>0.0</td></tr><tr><td>1</td><td>2023-02-01 00:52:40</td><td>2023-02-01 01:07:18</td><td>1</td><td>5.1</td><td>1</td><td>&quot;N&quot;</td><td>148</td><td>236</td><td>1</td><td>21.9</td><td>3.5</td><td>0.5</td><td>5.35</td><td>0.0</td><td>1.0</td><td>32.25</td><td>2.5</td><td>0.0</td></tr><tr><td>1</td><td>2023-02-01 00:12:39</td><td>2023-02-01 00:40:36</td><td>1</td><td>8.9</td><td>1</td><td>&quot;N&quot;</td><td>137</td><td>244</td><td>1</td><td>41.5</td><td>3.5</td><td>0.5</td><td>3.5</td><td>0.0</td><td>1.0</td><td>50.0</td><td>2.5</td><td>0.0</td></tr><tr><td>1</td><td>2023-02-01 00:56:53</td><td>2023-02-01 01:00:37</td><td>1</td><td>1.2</td><td>1</td><td>&quot;N&quot;</td><td>263</td><td>141</td><td>1</td><td>7.2</td><td>3.5</td><td>0.5</td><td>2.44</td><td>0.0</td><td>1.0</td><td>14.64</td><td>2.5</td><td>0.0</td></tr><tr><td>2</td><td>2023-02-01 00:20:40</td><td>2023-02-01 00:33:56</td><td>1</td><td>7.49</td><td>1</td><td>&quot;N&quot;</td><td>48</td><td>243</td><td>1</td><td>30.3</td><td>1.0</td><td>0.5</td><td>8.82</td><td>0.0</td><td>1.0</td><td>44.12</td><td>2.5</td><td>0.0</td></tr><tr><td>2</td><td>2023-02-01 00:33:51</td><td>2023-02-01 00:37:34</td><td>1</td><td>0.51</td><td>1</td><td>&quot;N&quot;</td><td>114</td><td>211</td><td>1</td><td>5.8</td><td>1.0</td><td>0.5</td><td>1.62</td><td>0.0</td><td>1.0</td><td>12.42</td><td>2.5</td><td>0.0</td></tr><tr><td>2</td><td>2023-02-01 01:00:45</td><td>2023-02-01 01:06:00</td><td>1</td><td>0.78</td><td>1</td><td>&quot;N&quot;</td><td>114</td><td>249</td><td>1</td><td>7.2</td><td>1.0</td><td>0.5</td><td>2.44</td><td>0.0</td><td>1.0</td><td>14.64</td><td>2.5</td><td>0.0</td></tr><tr><td>2</td><td>2023-02-01 00:10:48</td><td>2023-02-01 00:18:09</td><td>1</td><td>1.57</td><td>1</td><td>&quot;N&quot;</td><td>125</td><td>107</td><td>1</td><td>10.0</td><td>1.0</td><td>0.5</td><td>1.0</td><td>0.0</td><td>1.0</td><td>16.0</td><td>2.5</td><td>0.0</td></tr><tr><td>&hellip;</td><td>&hellip;</td><td>&hellip;</td><td>&hellip;</td><td>&hellip;</td><td>&hellip;</td><td>&hellip;</td><td>&hellip;</td><td>&hellip;</td><td>&hellip;</td><td>&hellip;</td><td>&hellip;</td><td>&hellip;</td><td>&hellip;</td><td>&hellip;</td><td>&hellip;</td><td>&hellip;</td><td>&hellip;</td><td>&hellip;</td></tr><tr><td>2</td><td>2023-02-01 00:33:08</td><td>2023-02-01 00:37:28</td><td>1</td><td>1.39</td><td>1</td><td>&quot;N&quot;</td><td>230</td><td>164</td><td>1</td><td>7.9</td><td>1.0</td><td>0.5</td><td>2.58</td><td>0.0</td><td>1.0</td><td>15.48</td><td>2.5</td><td>0.0</td></tr><tr><td>2</td><td>2023-02-01 00:40:52</td><td>2023-02-01 00:44:32</td><td>1</td><td>0.73</td><td>1</td><td>&quot;N&quot;</td><td>100</td><td>170</td><td>1</td><td>5.8</td><td>1.0</td><td>0.5</td><td>2.7</td><td>0.0</td><td>1.0</td><td>13.5</td><td>2.5</td><td>0.0</td></tr><tr><td>2</td><td>2023-02-01 00:22:20</td><td>2023-02-01 00:52:30</td><td>1</td><td>18.25</td><td>2</td><td>&quot;N&quot;</td><td>132</td><td>230</td><td>1</td><td>70.0</td><td>0.0</td><td>0.5</td><td>16.11</td><td>6.55</td><td>1.0</td><td>97.91</td><td>2.5</td><td>1.25</td></tr><tr><td>2</td><td>2023-02-01 00:50:07</td><td>2023-02-01 00:58:23</td><td>1</td><td>2.39</td><td>1</td><td>&quot;N&quot;</td><td>230</td><td>238</td><td>4</td><td>-12.1</td><td>-1.0</td><td>-0.5</td><td>0.0</td><td>0.0</td><td>-1.0</td><td>-17.1</td><td>-2.5</td><td>0.0</td></tr><tr><td>2</td><td>2023-02-01 00:50:07</td><td>2023-02-01 00:58:23</td><td>1</td><td>2.39</td><td>1</td><td>&quot;N&quot;</td><td>230</td><td>238</td><td>4</td><td>12.1</td><td>1.0</td><td>0.5</td><td>0.0</td><td>0.0</td><td>1.0</td><td>17.1</td><td>2.5</td><td>0.0</td></tr><tr><td>1</td><td>2023-02-01 00:23:15</td><td>2023-02-01 00:53:11</td><td>1</td><td>15.7</td><td>1</td><td>&quot;N&quot;</td><td>132</td><td>123</td><td>1</td><td>60.4</td><td>2.25</td><td>0.5</td><td>5.0</td><td>0.0</td><td>1.0</td><td>69.15</td><td>0.0</td><td>1.25</td></tr><tr><td>2</td><td>2023-02-01 00:02:13</td><td>2023-02-01 00:17:17</td><td>1</td><td>4.67</td><td>1</td><td>&quot;N&quot;</td><td>100</td><td>13</td><td>1</td><td>21.2</td><td>1.0</td><td>0.5</td><td>5.24</td><td>0.0</td><td>1.0</td><td>31.44</td><td>2.5</td><td>0.0</td></tr><tr><td>2</td><td>2023-02-01 00:17:35</td><td>2023-02-01 00:56:54</td><td>1</td><td>14.13</td><td>1</td><td>&quot;N&quot;</td><td>140</td><td>215</td><td>1</td><td>59.0</td><td>1.0</td><td>0.5</td><td>12.8</td><td>0.0</td><td>1.0</td><td>76.8</td><td>2.5</td><td>0.0</td></tr><tr><td>1</td><td>2023-02-01 00:17:43</td><td>2023-02-01 00:29:04</td><td>1</td><td>6.0</td><td>1</td><td>&quot;N&quot;</td><td>75</td><td>4</td><td>2</td><td>24.7</td><td>3.5</td><td>0.5</td><td>0.0</td><td>0.0</td><td>1.0</td><td>29.7</td><td>2.5</td><td>0.0</td></tr><tr><td>1</td><td>2023-02-01 00:38:37</td><td>2023-02-01 00:43:33</td><td>1</td><td>1.7</td><td>1</td><td>&quot;N&quot;</td><td>125</td><td>68</td><td>1</td><td>9.3</td><td>3.5</td><td>0.5</td><td>2.85</td><td>0.0</td><td>1.0</td><td>17.15</td><td>2.5</td><td>0.0</td></tr><tr><td>1</td><td>2023-02-01 00:37:53</td><td>2023-02-01 00:46:36</td><td>1</td><td>2.4</td><td>1</td><td>&quot;N&quot;</td><td>249</td><td>161</td><td>1</td><td>12.1</td><td>3.5</td><td>0.5</td><td>2.0</td><td>0.0</td><td>1.0</td><td>19.1</td><td>2.5</td><td>0.0</td></tr><tr><td>1</td><td>2023-02-01 00:50:27</td><td>2023-02-01 01:00:10</td><td>1</td><td>1.7</td><td>1</td><td>&quot;N&quot;</td><td>164</td><td>224</td><td>1</td><td>11.4</td><td>3.5</td><td>0.5</td><td>2.0</td><td>0.0</td><td>1.0</td><td>18.4</td><td>2.5</td><td>0.0</td></tr></tbody></table></div>"
            ]
          },
          "metadata": {},
          "execution_count": 35
        }
      ]
    },
    {
      "cell_type": "code",
      "source": [
        "(\n",
        "    data\n",
        "    .select(pl.all().exclude('VendorID'))\n",
        "    .fetch()\n",
        ")"
      ],
      "metadata": {
        "colab": {
          "base_uri": "https://localhost:8080/",
          "height": 902
        },
        "id": "Tpo_7js9ta_r",
        "outputId": "ca67f742-72cd-43ca-c9da-af05cd38085c"
      },
      "execution_count": 37,
      "outputs": [
        {
          "output_type": "execute_result",
          "data": {
            "text/plain": [
              "shape: (500, 18)\n",
              "┌───────────┬───────────┬───────────┬───────────┬───┬───────────┬───────────┬───────────┬──────────┐\n",
              "│ tpep_pick ┆ tpep_drop ┆ passenger ┆ trip_dist ┆ … ┆ improveme ┆ total_amo ┆ congestio ┆ Airport_ │\n",
              "│ up_dateti ┆ off_datet ┆ _count    ┆ ance      ┆   ┆ nt_surcha ┆ unt       ┆ n_surchar ┆ fee      │\n",
              "│ me        ┆ ime       ┆ ---       ┆ ---       ┆   ┆ rge       ┆ ---       ┆ ge        ┆ ---      │\n",
              "│ ---       ┆ ---       ┆ i64       ┆ f64       ┆   ┆ ---       ┆ f64       ┆ ---       ┆ f64      │\n",
              "│ datetime[ ┆ datetime[ ┆           ┆           ┆   ┆ f64       ┆           ┆ f64       ┆          │\n",
              "│ ns]       ┆ ns]       ┆           ┆           ┆   ┆           ┆           ┆           ┆          │\n",
              "╞═══════════╪═══════════╪═══════════╪═══════════╪═══╪═══════════╪═══════════╪═══════════╪══════════╡\n",
              "│ 2023-02-0 ┆ 2023-02-0 ┆ 2         ┆ 0.3       ┆ … ┆ 1.0       ┆ 9.4       ┆ 2.5       ┆ 0.0      │\n",
              "│ 1         ┆ 1         ┆           ┆           ┆   ┆           ┆           ┆           ┆          │\n",
              "│ 00:32:53  ┆ 00:34:34  ┆           ┆           ┆   ┆           ┆           ┆           ┆          │\n",
              "│ 2023-02-0 ┆ 2023-02-0 ┆ 1         ┆ 0.0       ┆ … ┆ -1.0      ┆ -5.5      ┆ 0.0       ┆ 0.0      │\n",
              "│ 1         ┆ 1         ┆           ┆           ┆   ┆           ┆           ┆           ┆          │\n",
              "│ 00:35:16  ┆ 00:35:30  ┆           ┆           ┆   ┆           ┆           ┆           ┆          │\n",
              "│ 2023-02-0 ┆ 2023-02-0 ┆ 1         ┆ 0.0       ┆ … ┆ 1.0       ┆ 5.5       ┆ 0.0       ┆ 0.0      │\n",
              "│ 1         ┆ 1         ┆           ┆           ┆   ┆           ┆           ┆           ┆          │\n",
              "│ 00:35:16  ┆ 00:35:30  ┆           ┆           ┆   ┆           ┆           ┆           ┆          │\n",
              "│ 2023-02-0 ┆ 2023-02-0 ┆ 0         ┆ 18.8      ┆ … ┆ 1.0       ┆ 74.65     ┆ 0.0       ┆ 1.25     │\n",
              "│ 1         ┆ 1         ┆           ┆           ┆   ┆           ┆           ┆           ┆          │\n",
              "│ 00:29:33  ┆ 01:01:38  ┆           ┆           ┆   ┆           ┆           ┆           ┆          │\n",
              "│ …         ┆ …         ┆ …         ┆ …         ┆ … ┆ …         ┆ …         ┆ …         ┆ …        │\n",
              "│ 2023-02-0 ┆ 2023-02-0 ┆ 1         ┆ 6.0       ┆ … ┆ 1.0       ┆ 29.7      ┆ 2.5       ┆ 0.0      │\n",
              "│ 1         ┆ 1         ┆           ┆           ┆   ┆           ┆           ┆           ┆          │\n",
              "│ 00:17:43  ┆ 00:29:04  ┆           ┆           ┆   ┆           ┆           ┆           ┆          │\n",
              "│ 2023-02-0 ┆ 2023-02-0 ┆ 1         ┆ 1.7       ┆ … ┆ 1.0       ┆ 17.15     ┆ 2.5       ┆ 0.0      │\n",
              "│ 1         ┆ 1         ┆           ┆           ┆   ┆           ┆           ┆           ┆          │\n",
              "│ 00:38:37  ┆ 00:43:33  ┆           ┆           ┆   ┆           ┆           ┆           ┆          │\n",
              "│ 2023-02-0 ┆ 2023-02-0 ┆ 1         ┆ 2.4       ┆ … ┆ 1.0       ┆ 19.1      ┆ 2.5       ┆ 0.0      │\n",
              "│ 1         ┆ 1         ┆           ┆           ┆   ┆           ┆           ┆           ┆          │\n",
              "│ 00:37:53  ┆ 00:46:36  ┆           ┆           ┆   ┆           ┆           ┆           ┆          │\n",
              "│ 2023-02-0 ┆ 2023-02-0 ┆ 1         ┆ 1.7       ┆ … ┆ 1.0       ┆ 18.4      ┆ 2.5       ┆ 0.0      │\n",
              "│ 1         ┆ 1         ┆           ┆           ┆   ┆           ┆           ┆           ┆          │\n",
              "│ 00:50:27  ┆ 01:00:10  ┆           ┆           ┆   ┆           ┆           ┆           ┆          │\n",
              "└───────────┴───────────┴───────────┴───────────┴───┴───────────┴───────────┴───────────┴──────────┘"
            ],
            "text/html": [
              "<div><style>\n",
              ".dataframe > thead > tr,\n",
              ".dataframe > tbody > tr {\n",
              "  text-align: right;\n",
              "  white-space: pre-wrap;\n",
              "}\n",
              "</style>\n",
              "<small>shape: (500, 18)</small><table border=\"1\" class=\"dataframe\"><thead><tr><th>tpep_pickup_datetime</th><th>tpep_dropoff_datetime</th><th>passenger_count</th><th>trip_distance</th><th>RatecodeID</th><th>store_and_fwd_flag</th><th>PULocationID</th><th>DOLocationID</th><th>payment_type</th><th>fare_amount</th><th>extra</th><th>mta_tax</th><th>tip_amount</th><th>tolls_amount</th><th>improvement_surcharge</th><th>total_amount</th><th>congestion_surcharge</th><th>Airport_fee</th></tr><tr><td>datetime[ns]</td><td>datetime[ns]</td><td>i64</td><td>f64</td><td>i64</td><td>str</td><td>i32</td><td>i32</td><td>i64</td><td>f64</td><td>f64</td><td>f64</td><td>f64</td><td>f64</td><td>f64</td><td>f64</td><td>f64</td><td>f64</td></tr></thead><tbody><tr><td>2023-02-01 00:32:53</td><td>2023-02-01 00:34:34</td><td>2</td><td>0.3</td><td>1</td><td>&quot;N&quot;</td><td>142</td><td>163</td><td>2</td><td>4.4</td><td>3.5</td><td>0.5</td><td>0.0</td><td>0.0</td><td>1.0</td><td>9.4</td><td>2.5</td><td>0.0</td></tr><tr><td>2023-02-01 00:35:16</td><td>2023-02-01 00:35:30</td><td>1</td><td>0.0</td><td>1</td><td>&quot;N&quot;</td><td>71</td><td>71</td><td>4</td><td>-3.0</td><td>-1.0</td><td>-0.5</td><td>0.0</td><td>0.0</td><td>-1.0</td><td>-5.5</td><td>0.0</td><td>0.0</td></tr><tr><td>2023-02-01 00:35:16</td><td>2023-02-01 00:35:30</td><td>1</td><td>0.0</td><td>1</td><td>&quot;N&quot;</td><td>71</td><td>71</td><td>4</td><td>3.0</td><td>1.0</td><td>0.5</td><td>0.0</td><td>0.0</td><td>1.0</td><td>5.5</td><td>0.0</td><td>0.0</td></tr><tr><td>2023-02-01 00:29:33</td><td>2023-02-01 01:01:38</td><td>0</td><td>18.8</td><td>1</td><td>&quot;N&quot;</td><td>132</td><td>26</td><td>1</td><td>70.9</td><td>2.25</td><td>0.5</td><td>0.0</td><td>0.0</td><td>1.0</td><td>74.65</td><td>0.0</td><td>1.25</td></tr><tr><td>2023-02-01 00:12:28</td><td>2023-02-01 00:25:46</td><td>1</td><td>3.22</td><td>1</td><td>&quot;N&quot;</td><td>161</td><td>145</td><td>1</td><td>17.0</td><td>1.0</td><td>0.5</td><td>3.3</td><td>0.0</td><td>1.0</td><td>25.3</td><td>2.5</td><td>0.0</td></tr><tr><td>2023-02-01 00:52:40</td><td>2023-02-01 01:07:18</td><td>1</td><td>5.1</td><td>1</td><td>&quot;N&quot;</td><td>148</td><td>236</td><td>1</td><td>21.9</td><td>3.5</td><td>0.5</td><td>5.35</td><td>0.0</td><td>1.0</td><td>32.25</td><td>2.5</td><td>0.0</td></tr><tr><td>2023-02-01 00:12:39</td><td>2023-02-01 00:40:36</td><td>1</td><td>8.9</td><td>1</td><td>&quot;N&quot;</td><td>137</td><td>244</td><td>1</td><td>41.5</td><td>3.5</td><td>0.5</td><td>3.5</td><td>0.0</td><td>1.0</td><td>50.0</td><td>2.5</td><td>0.0</td></tr><tr><td>2023-02-01 00:56:53</td><td>2023-02-01 01:00:37</td><td>1</td><td>1.2</td><td>1</td><td>&quot;N&quot;</td><td>263</td><td>141</td><td>1</td><td>7.2</td><td>3.5</td><td>0.5</td><td>2.44</td><td>0.0</td><td>1.0</td><td>14.64</td><td>2.5</td><td>0.0</td></tr><tr><td>2023-02-01 00:20:40</td><td>2023-02-01 00:33:56</td><td>1</td><td>7.49</td><td>1</td><td>&quot;N&quot;</td><td>48</td><td>243</td><td>1</td><td>30.3</td><td>1.0</td><td>0.5</td><td>8.82</td><td>0.0</td><td>1.0</td><td>44.12</td><td>2.5</td><td>0.0</td></tr><tr><td>2023-02-01 00:33:51</td><td>2023-02-01 00:37:34</td><td>1</td><td>0.51</td><td>1</td><td>&quot;N&quot;</td><td>114</td><td>211</td><td>1</td><td>5.8</td><td>1.0</td><td>0.5</td><td>1.62</td><td>0.0</td><td>1.0</td><td>12.42</td><td>2.5</td><td>0.0</td></tr><tr><td>2023-02-01 01:00:45</td><td>2023-02-01 01:06:00</td><td>1</td><td>0.78</td><td>1</td><td>&quot;N&quot;</td><td>114</td><td>249</td><td>1</td><td>7.2</td><td>1.0</td><td>0.5</td><td>2.44</td><td>0.0</td><td>1.0</td><td>14.64</td><td>2.5</td><td>0.0</td></tr><tr><td>2023-02-01 00:10:48</td><td>2023-02-01 00:18:09</td><td>1</td><td>1.57</td><td>1</td><td>&quot;N&quot;</td><td>125</td><td>107</td><td>1</td><td>10.0</td><td>1.0</td><td>0.5</td><td>1.0</td><td>0.0</td><td>1.0</td><td>16.0</td><td>2.5</td><td>0.0</td></tr><tr><td>&hellip;</td><td>&hellip;</td><td>&hellip;</td><td>&hellip;</td><td>&hellip;</td><td>&hellip;</td><td>&hellip;</td><td>&hellip;</td><td>&hellip;</td><td>&hellip;</td><td>&hellip;</td><td>&hellip;</td><td>&hellip;</td><td>&hellip;</td><td>&hellip;</td><td>&hellip;</td><td>&hellip;</td><td>&hellip;</td></tr><tr><td>2023-02-01 00:33:08</td><td>2023-02-01 00:37:28</td><td>1</td><td>1.39</td><td>1</td><td>&quot;N&quot;</td><td>230</td><td>164</td><td>1</td><td>7.9</td><td>1.0</td><td>0.5</td><td>2.58</td><td>0.0</td><td>1.0</td><td>15.48</td><td>2.5</td><td>0.0</td></tr><tr><td>2023-02-01 00:40:52</td><td>2023-02-01 00:44:32</td><td>1</td><td>0.73</td><td>1</td><td>&quot;N&quot;</td><td>100</td><td>170</td><td>1</td><td>5.8</td><td>1.0</td><td>0.5</td><td>2.7</td><td>0.0</td><td>1.0</td><td>13.5</td><td>2.5</td><td>0.0</td></tr><tr><td>2023-02-01 00:22:20</td><td>2023-02-01 00:52:30</td><td>1</td><td>18.25</td><td>2</td><td>&quot;N&quot;</td><td>132</td><td>230</td><td>1</td><td>70.0</td><td>0.0</td><td>0.5</td><td>16.11</td><td>6.55</td><td>1.0</td><td>97.91</td><td>2.5</td><td>1.25</td></tr><tr><td>2023-02-01 00:50:07</td><td>2023-02-01 00:58:23</td><td>1</td><td>2.39</td><td>1</td><td>&quot;N&quot;</td><td>230</td><td>238</td><td>4</td><td>-12.1</td><td>-1.0</td><td>-0.5</td><td>0.0</td><td>0.0</td><td>-1.0</td><td>-17.1</td><td>-2.5</td><td>0.0</td></tr><tr><td>2023-02-01 00:50:07</td><td>2023-02-01 00:58:23</td><td>1</td><td>2.39</td><td>1</td><td>&quot;N&quot;</td><td>230</td><td>238</td><td>4</td><td>12.1</td><td>1.0</td><td>0.5</td><td>0.0</td><td>0.0</td><td>1.0</td><td>17.1</td><td>2.5</td><td>0.0</td></tr><tr><td>2023-02-01 00:23:15</td><td>2023-02-01 00:53:11</td><td>1</td><td>15.7</td><td>1</td><td>&quot;N&quot;</td><td>132</td><td>123</td><td>1</td><td>60.4</td><td>2.25</td><td>0.5</td><td>5.0</td><td>0.0</td><td>1.0</td><td>69.15</td><td>0.0</td><td>1.25</td></tr><tr><td>2023-02-01 00:02:13</td><td>2023-02-01 00:17:17</td><td>1</td><td>4.67</td><td>1</td><td>&quot;N&quot;</td><td>100</td><td>13</td><td>1</td><td>21.2</td><td>1.0</td><td>0.5</td><td>5.24</td><td>0.0</td><td>1.0</td><td>31.44</td><td>2.5</td><td>0.0</td></tr><tr><td>2023-02-01 00:17:35</td><td>2023-02-01 00:56:54</td><td>1</td><td>14.13</td><td>1</td><td>&quot;N&quot;</td><td>140</td><td>215</td><td>1</td><td>59.0</td><td>1.0</td><td>0.5</td><td>12.8</td><td>0.0</td><td>1.0</td><td>76.8</td><td>2.5</td><td>0.0</td></tr><tr><td>2023-02-01 00:17:43</td><td>2023-02-01 00:29:04</td><td>1</td><td>6.0</td><td>1</td><td>&quot;N&quot;</td><td>75</td><td>4</td><td>2</td><td>24.7</td><td>3.5</td><td>0.5</td><td>0.0</td><td>0.0</td><td>1.0</td><td>29.7</td><td>2.5</td><td>0.0</td></tr><tr><td>2023-02-01 00:38:37</td><td>2023-02-01 00:43:33</td><td>1</td><td>1.7</td><td>1</td><td>&quot;N&quot;</td><td>125</td><td>68</td><td>1</td><td>9.3</td><td>3.5</td><td>0.5</td><td>2.85</td><td>0.0</td><td>1.0</td><td>17.15</td><td>2.5</td><td>0.0</td></tr><tr><td>2023-02-01 00:37:53</td><td>2023-02-01 00:46:36</td><td>1</td><td>2.4</td><td>1</td><td>&quot;N&quot;</td><td>249</td><td>161</td><td>1</td><td>12.1</td><td>3.5</td><td>0.5</td><td>2.0</td><td>0.0</td><td>1.0</td><td>19.1</td><td>2.5</td><td>0.0</td></tr><tr><td>2023-02-01 00:50:27</td><td>2023-02-01 01:00:10</td><td>1</td><td>1.7</td><td>1</td><td>&quot;N&quot;</td><td>164</td><td>224</td><td>1</td><td>11.4</td><td>3.5</td><td>0.5</td><td>2.0</td><td>0.0</td><td>1.0</td><td>18.4</td><td>2.5</td><td>0.0</td></tr></tbody></table></div>"
            ]
          },
          "metadata": {},
          "execution_count": 37
        }
      ]
    },
    {
      "cell_type": "code",
      "source": [
        "data.columns"
      ],
      "metadata": {
        "colab": {
          "base_uri": "https://localhost:8080/"
        },
        "id": "8wSmK6m3t7-a",
        "outputId": "3a1fd411-e3ce-4074-e0c0-98cf8603155c"
      },
      "execution_count": 38,
      "outputs": [
        {
          "output_type": "execute_result",
          "data": {
            "text/plain": [
              "['VendorID',\n",
              " 'tpep_pickup_datetime',\n",
              " 'tpep_dropoff_datetime',\n",
              " 'passenger_count',\n",
              " 'trip_distance',\n",
              " 'RatecodeID',\n",
              " 'store_and_fwd_flag',\n",
              " 'PULocationID',\n",
              " 'DOLocationID',\n",
              " 'payment_type',\n",
              " 'fare_amount',\n",
              " 'extra',\n",
              " 'mta_tax',\n",
              " 'tip_amount',\n",
              " 'tolls_amount',\n",
              " 'improvement_surcharge',\n",
              " 'total_amount',\n",
              " 'congestion_surcharge',\n",
              " 'Airport_fee']"
            ]
          },
          "metadata": {},
          "execution_count": 38
        }
      ]
    },
    {
      "cell_type": "code",
      "source": [
        "(\n",
        "    data\n",
        "    .select(pl.col(pl.Int32))\n",
        "    .fetch\n",
        ")"
      ],
      "metadata": {
        "colab": {
          "base_uri": "https://localhost:8080/",
          "height": 291
        },
        "id": "YI8WEnlDtr02",
        "outputId": "991ae0e7-d9c0-4c39-feb7-62ed24ae2f2f"
      },
      "execution_count": 39,
      "outputs": [
        {
          "output_type": "execute_result",
          "data": {
            "text/plain": [
              "<bound method LazyFrame.fetch of <LazyFrame [3 cols, {\"VendorID\": Int32 … \"DOLocationID\": Int32}] at 0x7EF9BFBE8DC0>>"
            ],
            "text/html": [
              "<div style=\"max-width:800px; border: 1px solid var(--colab-border-color);\"><style>\n",
              "      pre.function-repr-contents {\n",
              "        overflow-x: auto;\n",
              "        padding: 8px 12px;\n",
              "        max-height: 500px;\n",
              "      }\n",
              "\n",
              "      pre.function-repr-contents.function-repr-contents-collapsed {\n",
              "        cursor: pointer;\n",
              "        max-height: 100px;\n",
              "      }\n",
              "    </style>\n",
              "    <pre style=\"white-space: initial; background:\n",
              "         var(--colab-secondary-surface-color); padding: 8px 12px;\n",
              "         border-bottom: 1px solid var(--colab-border-color);\"><b>polars.lazyframe.frame.LazyFrame.fetch</b><br/>def sink_csv(path: str | Path, *, include_bom: bool=False, include_header: bool=True, separator: str=&#x27;,&#x27;, line_terminator: str=&#x27;\\n&#x27;, quote_char: str=&#x27;&quot;&#x27;, batch_size: int=1024, datetime_format: str | None=None, date_format: str | None=None, time_format: str | None=None, float_precision: int | None=None, null_value: str | None=None, quote_style: CsvQuoteStyle | None=None, maintain_order: bool=True, type_coercion: bool=True, predicate_pushdown: bool=True, projection_pushdown: bool=True, simplify_expression: bool=True, slice_pushdown: bool=True, no_optimization: bool=False) -&gt; DataFrame</pre><pre class=\"function-repr-contents function-repr-contents-collapsed\" style=\"\"><a class=\"filepath\" style=\"display:none\" href=\"#\">/usr/local/lib/python3.10/dist-packages/polars/lazyframe/frame.py</a>Collect a small number of rows for debugging purposes.\n",
              "\n",
              "Parameters\n",
              "----------\n",
              "n_rows\n",
              "    Collect n_rows from the data sources.\n",
              "type_coercion\n",
              "    Run type coercion optimization.\n",
              "predicate_pushdown\n",
              "    Run predicate pushdown optimization.\n",
              "projection_pushdown\n",
              "    Run projection pushdown optimization.\n",
              "simplify_expression\n",
              "    Run simplify expressions optimization.\n",
              "no_optimization\n",
              "    Turn off optimizations.\n",
              "slice_pushdown\n",
              "    Slice pushdown optimization\n",
              "comm_subplan_elim\n",
              "    Will try to cache branching subplans that occur on self-joins or unions.\n",
              "comm_subexpr_elim\n",
              "    Common subexpressions will be cached and reused.\n",
              "streaming\n",
              "    Run parts of the query in a streaming fashion (this is in an alpha state)\n",
              "\n",
              "Notes\n",
              "-----\n",
              "This is similar to a :func:`collect` operation, but it overwrites the number of\n",
              "rows read by *every* scan operation. Be aware that `fetch` does not guarantee\n",
              "the final number of rows in the DataFrame. Filters, join operations and fewer\n",
              "rows being available in the scanned data will all influence the final number\n",
              "of rows (joins are especially susceptible to this, and may return no data\n",
              "at all if `n_rows` is too small as the join keys may not be present).\n",
              "\n",
              "Warnings\n",
              "--------\n",
              "This is strictly a utility function that can help to debug queries using a\n",
              "smaller number of rows, and should *not* be used in production code.\n",
              "\n",
              "Returns\n",
              "-------\n",
              "DataFrame\n",
              "\n",
              "Examples\n",
              "--------\n",
              "&gt;&gt;&gt; lf = pl.LazyFrame(\n",
              "...     {\n",
              "...         &quot;a&quot;: [&quot;a&quot;, &quot;b&quot;, &quot;a&quot;, &quot;b&quot;, &quot;b&quot;, &quot;c&quot;],\n",
              "...         &quot;b&quot;: [1, 2, 3, 4, 5, 6],\n",
              "...         &quot;c&quot;: [6, 5, 4, 3, 2, 1],\n",
              "...     }\n",
              "... )\n",
              "&gt;&gt;&gt; lf.group_by(&quot;a&quot;, maintain_order=True).agg(pl.all().sum()).fetch(2)\n",
              "shape: (2, 3)\n",
              "┌─────┬─────┬─────┐\n",
              "│ a   ┆ b   ┆ c   │\n",
              "│ --- ┆ --- ┆ --- │\n",
              "│ str ┆ i64 ┆ i64 │\n",
              "╞═════╪═════╪═════╡\n",
              "│ a   ┆ 1   ┆ 6   │\n",
              "│ b   ┆ 2   ┆ 5   │\n",
              "└─────┴─────┴─────┘</pre>\n",
              "      <script>\n",
              "      if (google.colab.kernel.accessAllowed && google.colab.files && google.colab.files.view) {\n",
              "        for (const element of document.querySelectorAll('.filepath')) {\n",
              "          element.style.display = 'block'\n",
              "          element.onclick = (event) => {\n",
              "            event.preventDefault();\n",
              "            event.stopPropagation();\n",
              "            google.colab.files.view(element.textContent, 2153);\n",
              "          };\n",
              "        }\n",
              "      }\n",
              "      for (const element of document.querySelectorAll('.function-repr-contents')) {\n",
              "        element.onclick = (event) => {\n",
              "          event.preventDefault();\n",
              "          event.stopPropagation();\n",
              "          element.classList.toggle('function-repr-contents-collapsed');\n",
              "        };\n",
              "      }\n",
              "      </script>\n",
              "      </div>"
            ]
          },
          "metadata": {},
          "execution_count": 39
        }
      ]
    },
    {
      "cell_type": "code",
      "source": [
        "(\n",
        "    data\n",
        "    .select(pl.col(r'^*amount$'))\n",
        "    .fetch()\n",
        ")"
      ],
      "metadata": {
        "colab": {
          "base_uri": "https://localhost:8080/",
          "height": 882
        },
        "id": "8I3j_ORvuFqQ",
        "outputId": "d81b77b2-64ee-4603-808e-bb89362e4e62"
      },
      "execution_count": 40,
      "outputs": [
        {
          "output_type": "execute_result",
          "data": {
            "text/plain": [
              "shape: (500, 4)\n",
              "┌─────────────┬────────────┬──────────────┬──────────────┐\n",
              "│ fare_amount ┆ tip_amount ┆ tolls_amount ┆ total_amount │\n",
              "│ ---         ┆ ---        ┆ ---          ┆ ---          │\n",
              "│ f64         ┆ f64        ┆ f64          ┆ f64          │\n",
              "╞═════════════╪════════════╪══════════════╪══════════════╡\n",
              "│ 4.4         ┆ 0.0        ┆ 0.0          ┆ 9.4          │\n",
              "│ -3.0        ┆ 0.0        ┆ 0.0          ┆ -5.5         │\n",
              "│ 3.0         ┆ 0.0        ┆ 0.0          ┆ 5.5          │\n",
              "│ 70.9        ┆ 0.0        ┆ 0.0          ┆ 74.65        │\n",
              "│ …           ┆ …          ┆ …            ┆ …            │\n",
              "│ 24.7        ┆ 0.0        ┆ 0.0          ┆ 29.7         │\n",
              "│ 9.3         ┆ 2.85       ┆ 0.0          ┆ 17.15        │\n",
              "│ 12.1        ┆ 2.0        ┆ 0.0          ┆ 19.1         │\n",
              "│ 11.4        ┆ 2.0        ┆ 0.0          ┆ 18.4         │\n",
              "└─────────────┴────────────┴──────────────┴──────────────┘"
            ],
            "text/html": [
              "<div><style>\n",
              ".dataframe > thead > tr,\n",
              ".dataframe > tbody > tr {\n",
              "  text-align: right;\n",
              "  white-space: pre-wrap;\n",
              "}\n",
              "</style>\n",
              "<small>shape: (500, 4)</small><table border=\"1\" class=\"dataframe\"><thead><tr><th>fare_amount</th><th>tip_amount</th><th>tolls_amount</th><th>total_amount</th></tr><tr><td>f64</td><td>f64</td><td>f64</td><td>f64</td></tr></thead><tbody><tr><td>4.4</td><td>0.0</td><td>0.0</td><td>9.4</td></tr><tr><td>-3.0</td><td>0.0</td><td>0.0</td><td>-5.5</td></tr><tr><td>3.0</td><td>0.0</td><td>0.0</td><td>5.5</td></tr><tr><td>70.9</td><td>0.0</td><td>0.0</td><td>74.65</td></tr><tr><td>17.0</td><td>3.3</td><td>0.0</td><td>25.3</td></tr><tr><td>21.9</td><td>5.35</td><td>0.0</td><td>32.25</td></tr><tr><td>41.5</td><td>3.5</td><td>0.0</td><td>50.0</td></tr><tr><td>7.2</td><td>2.44</td><td>0.0</td><td>14.64</td></tr><tr><td>30.3</td><td>8.82</td><td>0.0</td><td>44.12</td></tr><tr><td>5.8</td><td>1.62</td><td>0.0</td><td>12.42</td></tr><tr><td>7.2</td><td>2.44</td><td>0.0</td><td>14.64</td></tr><tr><td>10.0</td><td>1.0</td><td>0.0</td><td>16.0</td></tr><tr><td>&hellip;</td><td>&hellip;</td><td>&hellip;</td><td>&hellip;</td></tr><tr><td>7.9</td><td>2.58</td><td>0.0</td><td>15.48</td></tr><tr><td>5.8</td><td>2.7</td><td>0.0</td><td>13.5</td></tr><tr><td>70.0</td><td>16.11</td><td>6.55</td><td>97.91</td></tr><tr><td>-12.1</td><td>0.0</td><td>0.0</td><td>-17.1</td></tr><tr><td>12.1</td><td>0.0</td><td>0.0</td><td>17.1</td></tr><tr><td>60.4</td><td>5.0</td><td>0.0</td><td>69.15</td></tr><tr><td>21.2</td><td>5.24</td><td>0.0</td><td>31.44</td></tr><tr><td>59.0</td><td>12.8</td><td>0.0</td><td>76.8</td></tr><tr><td>24.7</td><td>0.0</td><td>0.0</td><td>29.7</td></tr><tr><td>9.3</td><td>2.85</td><td>0.0</td><td>17.15</td></tr><tr><td>12.1</td><td>2.0</td><td>0.0</td><td>19.1</td></tr><tr><td>11.4</td><td>2.0</td><td>0.0</td><td>18.4</td></tr></tbody></table></div>"
            ]
          },
          "metadata": {},
          "execution_count": 40
        }
      ]
    },
    {
      "cell_type": "code",
      "source": [
        "import polars.selectors as cs\n",
        "\n",
        "(\n",
        "    data.select(\n",
        "        cs.numeric() & cs.contains('amount'))\n",
        "        .fetch()\n",
        "\n",
        ")"
      ],
      "metadata": {
        "colab": {
          "base_uri": "https://localhost:8080/",
          "height": 882
        },
        "id": "8xnkv53UucWR",
        "outputId": "9021494f-681c-4ed2-abaf-7cccad4c6401"
      },
      "execution_count": 43,
      "outputs": [
        {
          "output_type": "execute_result",
          "data": {
            "text/plain": [
              "shape: (500, 4)\n",
              "┌─────────────┬────────────┬──────────────┬──────────────┐\n",
              "│ fare_amount ┆ tip_amount ┆ tolls_amount ┆ total_amount │\n",
              "│ ---         ┆ ---        ┆ ---          ┆ ---          │\n",
              "│ f64         ┆ f64        ┆ f64          ┆ f64          │\n",
              "╞═════════════╪════════════╪══════════════╪══════════════╡\n",
              "│ 4.4         ┆ 0.0        ┆ 0.0          ┆ 9.4          │\n",
              "│ -3.0        ┆ 0.0        ┆ 0.0          ┆ -5.5         │\n",
              "│ 3.0         ┆ 0.0        ┆ 0.0          ┆ 5.5          │\n",
              "│ 70.9        ┆ 0.0        ┆ 0.0          ┆ 74.65        │\n",
              "│ …           ┆ …          ┆ …            ┆ …            │\n",
              "│ 24.7        ┆ 0.0        ┆ 0.0          ┆ 29.7         │\n",
              "│ 9.3         ┆ 2.85       ┆ 0.0          ┆ 17.15        │\n",
              "│ 12.1        ┆ 2.0        ┆ 0.0          ┆ 19.1         │\n",
              "│ 11.4        ┆ 2.0        ┆ 0.0          ┆ 18.4         │\n",
              "└─────────────┴────────────┴──────────────┴──────────────┘"
            ],
            "text/html": [
              "<div><style>\n",
              ".dataframe > thead > tr,\n",
              ".dataframe > tbody > tr {\n",
              "  text-align: right;\n",
              "  white-space: pre-wrap;\n",
              "}\n",
              "</style>\n",
              "<small>shape: (500, 4)</small><table border=\"1\" class=\"dataframe\"><thead><tr><th>fare_amount</th><th>tip_amount</th><th>tolls_amount</th><th>total_amount</th></tr><tr><td>f64</td><td>f64</td><td>f64</td><td>f64</td></tr></thead><tbody><tr><td>4.4</td><td>0.0</td><td>0.0</td><td>9.4</td></tr><tr><td>-3.0</td><td>0.0</td><td>0.0</td><td>-5.5</td></tr><tr><td>3.0</td><td>0.0</td><td>0.0</td><td>5.5</td></tr><tr><td>70.9</td><td>0.0</td><td>0.0</td><td>74.65</td></tr><tr><td>17.0</td><td>3.3</td><td>0.0</td><td>25.3</td></tr><tr><td>21.9</td><td>5.35</td><td>0.0</td><td>32.25</td></tr><tr><td>41.5</td><td>3.5</td><td>0.0</td><td>50.0</td></tr><tr><td>7.2</td><td>2.44</td><td>0.0</td><td>14.64</td></tr><tr><td>30.3</td><td>8.82</td><td>0.0</td><td>44.12</td></tr><tr><td>5.8</td><td>1.62</td><td>0.0</td><td>12.42</td></tr><tr><td>7.2</td><td>2.44</td><td>0.0</td><td>14.64</td></tr><tr><td>10.0</td><td>1.0</td><td>0.0</td><td>16.0</td></tr><tr><td>&hellip;</td><td>&hellip;</td><td>&hellip;</td><td>&hellip;</td></tr><tr><td>7.9</td><td>2.58</td><td>0.0</td><td>15.48</td></tr><tr><td>5.8</td><td>2.7</td><td>0.0</td><td>13.5</td></tr><tr><td>70.0</td><td>16.11</td><td>6.55</td><td>97.91</td></tr><tr><td>-12.1</td><td>0.0</td><td>0.0</td><td>-17.1</td></tr><tr><td>12.1</td><td>0.0</td><td>0.0</td><td>17.1</td></tr><tr><td>60.4</td><td>5.0</td><td>0.0</td><td>69.15</td></tr><tr><td>21.2</td><td>5.24</td><td>0.0</td><td>31.44</td></tr><tr><td>59.0</td><td>12.8</td><td>0.0</td><td>76.8</td></tr><tr><td>24.7</td><td>0.0</td><td>0.0</td><td>29.7</td></tr><tr><td>9.3</td><td>2.85</td><td>0.0</td><td>17.15</td></tr><tr><td>12.1</td><td>2.0</td><td>0.0</td><td>19.1</td></tr><tr><td>11.4</td><td>2.0</td><td>0.0</td><td>18.4</td></tr></tbody></table></div>"
            ]
          },
          "metadata": {},
          "execution_count": 43
        }
      ]
    },
    {
      "cell_type": "markdown",
      "source": [
        "1. Multiply the `trip_distance` by 1000 to transform it in metres and name it `trip_distance_meters`.\n",
        "2. Count the number of rows in the data. *Hint: you can use `pl.count()` inside the context.*\n",
        "4. Add `tolls_amount` to `Airport_fee` and name it `total_fees`.\n",
        "5. Compute the average trip distance.\n",
        "6. Select the smallest and largest `tpep_pickup_datetime`. *Hint: this will likely raise an error the first time you run it: remember, there can't be columns with duplicate names in the DataFrame. Note: you don't have to call `pl.col(...).min`: you can just use `pl.max()`*.\n",
        "7. Count the different unique values of `passenger_count`.\n",
        "8. Get the number of unique values of `VendorID` and `RatecodeID`.\n",
        "\n",
        "> **Hint**. You can call `.alias` on an expression to rename the column it generates. Similarly, you can access the `.name.suffix` method to add a suffix. Alternatively, you can name the column using a kwarg notation (i.e., `col=pl.some.expr`)."
      ],
      "metadata": {
        "id": "zsFJ8gc9vlzM"
      }
    },
    {
      "cell_type": "code",
      "source": [
        "(\n",
        "    data.select(\n",
        "        (pl.col('trip_distance') * 1000).alias('trip_distance_meters')\n",
        "        # pl.col('trip_distance').mul(1000).alias('trip_distance_meters')\n",
        "    )\n",
        "    .fetch()\n",
        ")"
      ],
      "metadata": {
        "colab": {
          "base_uri": "https://localhost:8080/",
          "height": 882
        },
        "id": "aAX7XiD1t_gN",
        "outputId": "6e97df29-bae4-4c0c-9edf-e17c2509c328"
      },
      "execution_count": 44,
      "outputs": [
        {
          "output_type": "execute_result",
          "data": {
            "text/plain": [
              "shape: (500, 1)\n",
              "┌──────────────────────┐\n",
              "│ trip_distance_meters │\n",
              "│ ---                  │\n",
              "│ f64                  │\n",
              "╞══════════════════════╡\n",
              "│ 300.0                │\n",
              "│ 0.0                  │\n",
              "│ 0.0                  │\n",
              "│ 18800.0              │\n",
              "│ …                    │\n",
              "│ 6000.0               │\n",
              "│ 1700.0               │\n",
              "│ 2400.0               │\n",
              "│ 1700.0               │\n",
              "└──────────────────────┘"
            ],
            "text/html": [
              "<div><style>\n",
              ".dataframe > thead > tr,\n",
              ".dataframe > tbody > tr {\n",
              "  text-align: right;\n",
              "  white-space: pre-wrap;\n",
              "}\n",
              "</style>\n",
              "<small>shape: (500, 1)</small><table border=\"1\" class=\"dataframe\"><thead><tr><th>trip_distance_meters</th></tr><tr><td>f64</td></tr></thead><tbody><tr><td>300.0</td></tr><tr><td>0.0</td></tr><tr><td>0.0</td></tr><tr><td>18800.0</td></tr><tr><td>3220.0</td></tr><tr><td>5100.0</td></tr><tr><td>8900.0</td></tr><tr><td>1200.0</td></tr><tr><td>7490.0</td></tr><tr><td>510.0</td></tr><tr><td>780.0</td></tr><tr><td>1570.0</td></tr><tr><td>&hellip;</td></tr><tr><td>1390.0</td></tr><tr><td>730.0</td></tr><tr><td>18250.0</td></tr><tr><td>2390.0</td></tr><tr><td>2390.0</td></tr><tr><td>15700.0</td></tr><tr><td>4670.0</td></tr><tr><td>14130.0</td></tr><tr><td>6000.0</td></tr><tr><td>1700.0</td></tr><tr><td>2400.0</td></tr><tr><td>1700.0</td></tr></tbody></table></div>"
            ]
          },
          "metadata": {},
          "execution_count": 44
        }
      ]
    },
    {
      "cell_type": "code",
      "source": [
        "data.select(pl.len()).collect()"
      ],
      "metadata": {
        "colab": {
          "base_uri": "https://localhost:8080/",
          "height": 141
        },
        "id": "bMEywEAov_sJ",
        "outputId": "8b12d9c3-6802-47e5-fb38-18c4a732f00d"
      },
      "execution_count": 45,
      "outputs": [
        {
          "output_type": "error",
          "ename": "AttributeError",
          "evalue": "module 'polars' has no attribute 'len'",
          "traceback": [
            "\u001b[0;31m---------------------------------------------------------------------------\u001b[0m",
            "\u001b[0;31mAttributeError\u001b[0m                            Traceback (most recent call last)",
            "\u001b[0;32m<ipython-input-45-0da09591636b>\u001b[0m in \u001b[0;36m<cell line: 1>\u001b[0;34m()\u001b[0m\n\u001b[0;32m----> 1\u001b[0;31m \u001b[0mdata\u001b[0m\u001b[0;34m.\u001b[0m\u001b[0mselect\u001b[0m\u001b[0;34m(\u001b[0m\u001b[0mpl\u001b[0m\u001b[0;34m.\u001b[0m\u001b[0mlen\u001b[0m\u001b[0;34m(\u001b[0m\u001b[0;34m)\u001b[0m\u001b[0;34m)\u001b[0m\u001b[0;34m.\u001b[0m\u001b[0mcollect\u001b[0m\u001b[0;34m(\u001b[0m\u001b[0;34m)\u001b[0m\u001b[0;34m\u001b[0m\u001b[0;34m\u001b[0m\u001b[0m\n\u001b[0m",
            "\u001b[0;31mAttributeError\u001b[0m: module 'polars' has no attribute 'len'"
          ]
        }
      ]
    },
    {
      "cell_type": "code",
      "source": [
        "data.columns"
      ],
      "metadata": {
        "colab": {
          "base_uri": "https://localhost:8080/"
        },
        "id": "OxBwXMcxws2f",
        "outputId": "526c6ced-2da3-4908-fc5e-98418005242b"
      },
      "execution_count": 48,
      "outputs": [
        {
          "output_type": "execute_result",
          "data": {
            "text/plain": [
              "['VendorID',\n",
              " 'tpep_pickup_datetime',\n",
              " 'tpep_dropoff_datetime',\n",
              " 'passenger_count',\n",
              " 'trip_distance',\n",
              " 'RatecodeID',\n",
              " 'store_and_fwd_flag',\n",
              " 'PULocationID',\n",
              " 'DOLocationID',\n",
              " 'payment_type',\n",
              " 'fare_amount',\n",
              " 'extra',\n",
              " 'mta_tax',\n",
              " 'tip_amount',\n",
              " 'tolls_amount',\n",
              " 'improvement_surcharge',\n",
              " 'total_amount',\n",
              " 'congestion_surcharge',\n",
              " 'Airport_fee']"
            ]
          },
          "metadata": {},
          "execution_count": 48
        }
      ]
    },
    {
      "cell_type": "code",
      "source": [
        "(\n",
        "    data.select\n",
        "     (pl.col('tolls_amount').add(pl.col(\"Airport_fee\")).alias('total_fees'))\n",
        "     .fetch()\n",
        ")"
      ],
      "metadata": {
        "colab": {
          "base_uri": "https://localhost:8080/",
          "height": 882
        },
        "id": "h8TiKW2mwItF",
        "outputId": "ae5792e8-d2b4-4497-bc1a-bcca75f5103a"
      },
      "execution_count": 49,
      "outputs": [
        {
          "output_type": "execute_result",
          "data": {
            "text/plain": [
              "shape: (500, 1)\n",
              "┌────────────┐\n",
              "│ total_fees │\n",
              "│ ---        │\n",
              "│ f64        │\n",
              "╞════════════╡\n",
              "│ 0.0        │\n",
              "│ 0.0        │\n",
              "│ 0.0        │\n",
              "│ 1.25       │\n",
              "│ …          │\n",
              "│ 0.0        │\n",
              "│ 0.0        │\n",
              "│ 0.0        │\n",
              "│ 0.0        │\n",
              "└────────────┘"
            ],
            "text/html": [
              "<div><style>\n",
              ".dataframe > thead > tr,\n",
              ".dataframe > tbody > tr {\n",
              "  text-align: right;\n",
              "  white-space: pre-wrap;\n",
              "}\n",
              "</style>\n",
              "<small>shape: (500, 1)</small><table border=\"1\" class=\"dataframe\"><thead><tr><th>total_fees</th></tr><tr><td>f64</td></tr></thead><tbody><tr><td>0.0</td></tr><tr><td>0.0</td></tr><tr><td>0.0</td></tr><tr><td>1.25</td></tr><tr><td>0.0</td></tr><tr><td>0.0</td></tr><tr><td>0.0</td></tr><tr><td>0.0</td></tr><tr><td>0.0</td></tr><tr><td>0.0</td></tr><tr><td>0.0</td></tr><tr><td>0.0</td></tr><tr><td>&hellip;</td></tr><tr><td>0.0</td></tr><tr><td>0.0</td></tr><tr><td>7.8</td></tr><tr><td>0.0</td></tr><tr><td>0.0</td></tr><tr><td>1.25</td></tr><tr><td>0.0</td></tr><tr><td>0.0</td></tr><tr><td>0.0</td></tr><tr><td>0.0</td></tr><tr><td>0.0</td></tr><tr><td>0.0</td></tr></tbody></table></div>"
            ]
          },
          "metadata": {},
          "execution_count": 49
        }
      ]
    },
    {
      "cell_type": "code",
      "source": [
        "data.with_columns(\n",
        "    pl.col(\"tolls_amount\").add(pl.col(\"Airport_fee\")).alias(\"total_fees\"))#.explain()"
      ],
      "metadata": {
        "colab": {
          "base_uri": "https://localhost:8080/",
          "height": 264
        },
        "id": "pq3MEjcSrVuc",
        "outputId": "5003742c-9fc3-4806-8c6a-25e86e4da311"
      },
      "execution_count": 51,
      "outputs": [
        {
          "output_type": "execute_result",
          "data": {
            "text/plain": [
              "<LazyFrame [20 cols, {\"VendorID\": Int32 … \"total_fees\": Float64}] at 0x7EF9BFBEB850>"
            ],
            "text/html": [
              "<h4>NAIVE QUERY PLAN</h4><p>run <b>LazyFrame.show_graph()</b> to see the optimized version</p><?xml version=\"1.0\" encoding=\"UTF-8\" standalone=\"no\"?>\n",
              "<!DOCTYPE svg PUBLIC \"-//W3C//DTD SVG 1.1//EN\"\n",
              " \"http://www.w3.org/Graphics/SVG/1.1/DTD/svg11.dtd\">\n",
              "<!-- Generated by graphviz version 2.43.0 (0)\n",
              " -->\n",
              "<!-- Title: polars_query Pages: 1 -->\n",
              "<svg width=\"552pt\" height=\"133pt\"\n",
              " viewBox=\"0.00 0.00 552.00 133.00\" xmlns=\"http://www.w3.org/2000/svg\" xmlns:xlink=\"http://www.w3.org/1999/xlink\">\n",
              "<g id=\"graph0\" class=\"graph\" transform=\"scale(1 1) rotate(0) translate(4 129)\">\n",
              "<title>polars_query</title>\n",
              "<polygon fill=\"white\" stroke=\"transparent\" points=\"-4,4 -4,-129 548,-129 548,4 -4,4\"/>\n",
              "<!-- WITH COLUMNS [&quot;total_fees&quot;] [(0, 0)] -->\n",
              "<g id=\"node1\" class=\"node\">\n",
              "<title>WITH COLUMNS [&quot;total_fees&quot;] [(0, 0)]</title>\n",
              "<polygon fill=\"none\" stroke=\"black\" points=\"372,-125 172,-125 172,-89 372,-89 372,-125\"/>\n",
              "<text text-anchor=\"middle\" x=\"272\" y=\"-103.3\" font-family=\"Times,serif\" font-size=\"14.00\">WITH COLUMNS [&quot;total_fees&quot;]</text>\n",
              "</g>\n",
              "<!-- Parquet SCAN https://d37ci6vzurychx.cloudfront.net/trip&#45;data/yellow_tripdata_2023&#45;02.parquet;\n",
              "π */19;\n",
              "σ &#45; [(0, 1)] -->\n",
              "<g id=\"node2\" class=\"node\">\n",
              "<title>Parquet SCAN https://d37ci6vzurychx.cloudfront.net/trip&#45;data/yellow_tripdata_2023&#45;02.parquet;\n",
              "π */19;\n",
              "σ &#45; [(0, 1)]</title>\n",
              "<polygon fill=\"none\" stroke=\"black\" points=\"544,-53 0,-53 0,0 544,0 544,-53\"/>\n",
              "<text text-anchor=\"middle\" x=\"272\" y=\"-37.8\" font-family=\"Times,serif\" font-size=\"14.00\">Parquet SCAN https://d37ci6vzurychx.cloudfront.net/trip&#45;data/yellow_tripdata_2023&#45;02.parquet;</text>\n",
              "<text text-anchor=\"middle\" x=\"272\" y=\"-22.8\" font-family=\"Times,serif\" font-size=\"14.00\">π */19;</text>\n",
              "<text text-anchor=\"middle\" x=\"272\" y=\"-7.8\" font-family=\"Times,serif\" font-size=\"14.00\">σ &#45;</text>\n",
              "</g>\n",
              "<!-- WITH COLUMNS [&quot;total_fees&quot;] [(0, 0)]&#45;&#45;Parquet SCAN https://d37ci6vzurychx.cloudfront.net/trip&#45;data/yellow_tripdata_2023&#45;02.parquet;\n",
              "π */19;\n",
              "σ &#45; [(0, 1)] -->\n",
              "<g id=\"edge1\" class=\"edge\">\n",
              "<title>WITH COLUMNS [&quot;total_fees&quot;] [(0, 0)]&#45;&#45;Parquet SCAN https://d37ci6vzurychx.cloudfront.net/trip&#45;data/yellow_tripdata_2023&#45;02.parquet;\n",
              "π */19;\n",
              "σ &#45; [(0, 1)]</title>\n",
              "<path fill=\"none\" stroke=\"black\" d=\"M272,-88.97C272,-78.51 272,-64.9 272,-53.16\"/>\n",
              "</g>\n",
              "</g>\n",
              "</svg>\n"
            ]
          },
          "metadata": {},
          "execution_count": 51
        }
      ]
    },
    {
      "cell_type": "code",
      "source": [
        "(\n",
        "    data.select(\n",
        "        pl.col('store_and_fwd_flag').str.to_uppercase(),\n",
        "        pl.col('tpep_pickup_datetime','tpep_dropoff_datetime').dt.year().name.suffix('_year'),\n",
        "        pl.col('tpep_pickup_datetime','tpep_dropoff_datetime').dt.month().name.suffix('_month'),\n",
        "        pl.col('tpep_pickup_datetime','tpep_dropoff_datetime').dt.day().name.suffix('_day'),\n",
        "    )\n",
        ").fetch()"
      ],
      "metadata": {
        "colab": {
          "base_uri": "https://localhost:8080/",
          "height": 902
        },
        "id": "Z67O5NoJxNfT",
        "outputId": "31b60ffb-6e02-48ee-ee4c-fd4f5dd4b3c8"
      },
      "execution_count": 52,
      "outputs": [
        {
          "output_type": "execute_result",
          "data": {
            "text/plain": [
              "shape: (500, 7)\n",
              "┌──────────────┬─────────────┬─────────────┬─────────────┬─────────────┬─────────────┬─────────────┐\n",
              "│ store_and_fw ┆ tpep_pickup ┆ tpep_dropof ┆ tpep_pickup ┆ tpep_dropof ┆ tpep_pickup ┆ tpep_dropof │\n",
              "│ d_flag       ┆ _datetime_y ┆ f_datetime_ ┆ _datetime_m ┆ f_datetime_ ┆ _datetime_d ┆ f_datetime_ │\n",
              "│ ---          ┆ ear         ┆ year        ┆ onth        ┆ month       ┆ ay          ┆ day         │\n",
              "│ str          ┆ ---         ┆ ---         ┆ ---         ┆ ---         ┆ ---         ┆ ---         │\n",
              "│              ┆ i32         ┆ i32         ┆ i8          ┆ i8          ┆ i8          ┆ i8          │\n",
              "╞══════════════╪═════════════╪═════════════╪═════════════╪═════════════╪═════════════╪═════════════╡\n",
              "│ N            ┆ 2023        ┆ 2023        ┆ 2           ┆ 2           ┆ 1           ┆ 1           │\n",
              "│ N            ┆ 2023        ┆ 2023        ┆ 2           ┆ 2           ┆ 1           ┆ 1           │\n",
              "│ N            ┆ 2023        ┆ 2023        ┆ 2           ┆ 2           ┆ 1           ┆ 1           │\n",
              "│ N            ┆ 2023        ┆ 2023        ┆ 2           ┆ 2           ┆ 1           ┆ 1           │\n",
              "│ …            ┆ …           ┆ …           ┆ …           ┆ …           ┆ …           ┆ …           │\n",
              "│ N            ┆ 2023        ┆ 2023        ┆ 2           ┆ 2           ┆ 1           ┆ 1           │\n",
              "│ N            ┆ 2023        ┆ 2023        ┆ 2           ┆ 2           ┆ 1           ┆ 1           │\n",
              "│ N            ┆ 2023        ┆ 2023        ┆ 2           ┆ 2           ┆ 1           ┆ 1           │\n",
              "│ N            ┆ 2023        ┆ 2023        ┆ 2           ┆ 2           ┆ 1           ┆ 1           │\n",
              "└──────────────┴─────────────┴─────────────┴─────────────┴─────────────┴─────────────┴─────────────┘"
            ],
            "text/html": [
              "<div><style>\n",
              ".dataframe > thead > tr,\n",
              ".dataframe > tbody > tr {\n",
              "  text-align: right;\n",
              "  white-space: pre-wrap;\n",
              "}\n",
              "</style>\n",
              "<small>shape: (500, 7)</small><table border=\"1\" class=\"dataframe\"><thead><tr><th>store_and_fwd_flag</th><th>tpep_pickup_datetime_year</th><th>tpep_dropoff_datetime_year</th><th>tpep_pickup_datetime_month</th><th>tpep_dropoff_datetime_month</th><th>tpep_pickup_datetime_day</th><th>tpep_dropoff_datetime_day</th></tr><tr><td>str</td><td>i32</td><td>i32</td><td>i8</td><td>i8</td><td>i8</td><td>i8</td></tr></thead><tbody><tr><td>&quot;N&quot;</td><td>2023</td><td>2023</td><td>2</td><td>2</td><td>1</td><td>1</td></tr><tr><td>&quot;N&quot;</td><td>2023</td><td>2023</td><td>2</td><td>2</td><td>1</td><td>1</td></tr><tr><td>&quot;N&quot;</td><td>2023</td><td>2023</td><td>2</td><td>2</td><td>1</td><td>1</td></tr><tr><td>&quot;N&quot;</td><td>2023</td><td>2023</td><td>2</td><td>2</td><td>1</td><td>1</td></tr><tr><td>&quot;N&quot;</td><td>2023</td><td>2023</td><td>2</td><td>2</td><td>1</td><td>1</td></tr><tr><td>&quot;N&quot;</td><td>2023</td><td>2023</td><td>2</td><td>2</td><td>1</td><td>1</td></tr><tr><td>&quot;N&quot;</td><td>2023</td><td>2023</td><td>2</td><td>2</td><td>1</td><td>1</td></tr><tr><td>&quot;N&quot;</td><td>2023</td><td>2023</td><td>2</td><td>2</td><td>1</td><td>1</td></tr><tr><td>&quot;N&quot;</td><td>2023</td><td>2023</td><td>2</td><td>2</td><td>1</td><td>1</td></tr><tr><td>&quot;N&quot;</td><td>2023</td><td>2023</td><td>2</td><td>2</td><td>1</td><td>1</td></tr><tr><td>&quot;N&quot;</td><td>2023</td><td>2023</td><td>2</td><td>2</td><td>1</td><td>1</td></tr><tr><td>&quot;N&quot;</td><td>2023</td><td>2023</td><td>2</td><td>2</td><td>1</td><td>1</td></tr><tr><td>&hellip;</td><td>&hellip;</td><td>&hellip;</td><td>&hellip;</td><td>&hellip;</td><td>&hellip;</td><td>&hellip;</td></tr><tr><td>&quot;N&quot;</td><td>2023</td><td>2023</td><td>2</td><td>2</td><td>1</td><td>1</td></tr><tr><td>&quot;N&quot;</td><td>2023</td><td>2023</td><td>2</td><td>2</td><td>1</td><td>1</td></tr><tr><td>&quot;N&quot;</td><td>2023</td><td>2023</td><td>2</td><td>2</td><td>1</td><td>1</td></tr><tr><td>&quot;N&quot;</td><td>2023</td><td>2023</td><td>2</td><td>2</td><td>1</td><td>1</td></tr><tr><td>&quot;N&quot;</td><td>2023</td><td>2023</td><td>2</td><td>2</td><td>1</td><td>1</td></tr><tr><td>&quot;N&quot;</td><td>2023</td><td>2023</td><td>2</td><td>2</td><td>1</td><td>1</td></tr><tr><td>&quot;N&quot;</td><td>2023</td><td>2023</td><td>2</td><td>2</td><td>1</td><td>1</td></tr><tr><td>&quot;N&quot;</td><td>2023</td><td>2023</td><td>2</td><td>2</td><td>1</td><td>1</td></tr><tr><td>&quot;N&quot;</td><td>2023</td><td>2023</td><td>2</td><td>2</td><td>1</td><td>1</td></tr><tr><td>&quot;N&quot;</td><td>2023</td><td>2023</td><td>2</td><td>2</td><td>1</td><td>1</td></tr><tr><td>&quot;N&quot;</td><td>2023</td><td>2023</td><td>2</td><td>2</td><td>1</td><td>1</td></tr><tr><td>&quot;N&quot;</td><td>2023</td><td>2023</td><td>2</td><td>2</td><td>1</td><td>1</td></tr></tbody></table></div>"
            ]
          },
          "metadata": {},
          "execution_count": 52
        }
      ]
    },
    {
      "cell_type": "code",
      "source": [
        "(data\n",
        "    .select(\n",
        "         pl.col('tpep_pickup_datetime','tpep_dropoff_datetime')\n",
        "         .cast(pl.Utf8)\n",
        "         .str.split(by = ' ')\n",
        "         .list.first()\n",
        "         .str.split(by = '-')\n",
        "         .list.to_struct()\n",
        "         .struct.json_encode()\n",
        "    )\n",
        "    .fetch()\n",
        ")"
      ],
      "metadata": {
        "colab": {
          "base_uri": "https://localhost:8080/",
          "height": 882
        },
        "id": "9htP8sFfx5l8",
        "outputId": "e81c45cd-a867-4ae0-8173-97e0a3140df1"
      },
      "execution_count": 55,
      "outputs": [
        {
          "output_type": "execute_result",
          "data": {
            "text/plain": [
              "shape: (500, 2)\n",
              "┌───────────────────────────────────┬───────────────────────────────────┐\n",
              "│ tpep_pickup_datetime              ┆ tpep_dropoff_datetime             │\n",
              "│ ---                               ┆ ---                               │\n",
              "│ str                               ┆ str                               │\n",
              "╞═══════════════════════════════════╪═══════════════════════════════════╡\n",
              "│ {\"field_0\":\"2023\",\"field_1\":\"02\"… ┆ {\"field_0\":\"2023\",\"field_1\":\"02\"… │\n",
              "│ {\"field_0\":\"2023\",\"field_1\":\"02\"… ┆ {\"field_0\":\"2023\",\"field_1\":\"02\"… │\n",
              "│ {\"field_0\":\"2023\",\"field_1\":\"02\"… ┆ {\"field_0\":\"2023\",\"field_1\":\"02\"… │\n",
              "│ {\"field_0\":\"2023\",\"field_1\":\"02\"… ┆ {\"field_0\":\"2023\",\"field_1\":\"02\"… │\n",
              "│ …                                 ┆ …                                 │\n",
              "│ {\"field_0\":\"2023\",\"field_1\":\"02\"… ┆ {\"field_0\":\"2023\",\"field_1\":\"02\"… │\n",
              "│ {\"field_0\":\"2023\",\"field_1\":\"02\"… ┆ {\"field_0\":\"2023\",\"field_1\":\"02\"… │\n",
              "│ {\"field_0\":\"2023\",\"field_1\":\"02\"… ┆ {\"field_0\":\"2023\",\"field_1\":\"02\"… │\n",
              "│ {\"field_0\":\"2023\",\"field_1\":\"02\"… ┆ {\"field_0\":\"2023\",\"field_1\":\"02\"… │\n",
              "└───────────────────────────────────┴───────────────────────────────────┘"
            ],
            "text/html": [
              "<div><style>\n",
              ".dataframe > thead > tr,\n",
              ".dataframe > tbody > tr {\n",
              "  text-align: right;\n",
              "  white-space: pre-wrap;\n",
              "}\n",
              "</style>\n",
              "<small>shape: (500, 2)</small><table border=\"1\" class=\"dataframe\"><thead><tr><th>tpep_pickup_datetime</th><th>tpep_dropoff_datetime</th></tr><tr><td>str</td><td>str</td></tr></thead><tbody><tr><td>&quot;{&quot;field_0&quot;:&quot;20…</td><td>&quot;{&quot;field_0&quot;:&quot;20…</td></tr><tr><td>&quot;{&quot;field_0&quot;:&quot;20…</td><td>&quot;{&quot;field_0&quot;:&quot;20…</td></tr><tr><td>&quot;{&quot;field_0&quot;:&quot;20…</td><td>&quot;{&quot;field_0&quot;:&quot;20…</td></tr><tr><td>&quot;{&quot;field_0&quot;:&quot;20…</td><td>&quot;{&quot;field_0&quot;:&quot;20…</td></tr><tr><td>&quot;{&quot;field_0&quot;:&quot;20…</td><td>&quot;{&quot;field_0&quot;:&quot;20…</td></tr><tr><td>&quot;{&quot;field_0&quot;:&quot;20…</td><td>&quot;{&quot;field_0&quot;:&quot;20…</td></tr><tr><td>&quot;{&quot;field_0&quot;:&quot;20…</td><td>&quot;{&quot;field_0&quot;:&quot;20…</td></tr><tr><td>&quot;{&quot;field_0&quot;:&quot;20…</td><td>&quot;{&quot;field_0&quot;:&quot;20…</td></tr><tr><td>&quot;{&quot;field_0&quot;:&quot;20…</td><td>&quot;{&quot;field_0&quot;:&quot;20…</td></tr><tr><td>&quot;{&quot;field_0&quot;:&quot;20…</td><td>&quot;{&quot;field_0&quot;:&quot;20…</td></tr><tr><td>&quot;{&quot;field_0&quot;:&quot;20…</td><td>&quot;{&quot;field_0&quot;:&quot;20…</td></tr><tr><td>&quot;{&quot;field_0&quot;:&quot;20…</td><td>&quot;{&quot;field_0&quot;:&quot;20…</td></tr><tr><td>&hellip;</td><td>&hellip;</td></tr><tr><td>&quot;{&quot;field_0&quot;:&quot;20…</td><td>&quot;{&quot;field_0&quot;:&quot;20…</td></tr><tr><td>&quot;{&quot;field_0&quot;:&quot;20…</td><td>&quot;{&quot;field_0&quot;:&quot;20…</td></tr><tr><td>&quot;{&quot;field_0&quot;:&quot;20…</td><td>&quot;{&quot;field_0&quot;:&quot;20…</td></tr><tr><td>&quot;{&quot;field_0&quot;:&quot;20…</td><td>&quot;{&quot;field_0&quot;:&quot;20…</td></tr><tr><td>&quot;{&quot;field_0&quot;:&quot;20…</td><td>&quot;{&quot;field_0&quot;:&quot;20…</td></tr><tr><td>&quot;{&quot;field_0&quot;:&quot;20…</td><td>&quot;{&quot;field_0&quot;:&quot;20…</td></tr><tr><td>&quot;{&quot;field_0&quot;:&quot;20…</td><td>&quot;{&quot;field_0&quot;:&quot;20…</td></tr><tr><td>&quot;{&quot;field_0&quot;:&quot;20…</td><td>&quot;{&quot;field_0&quot;:&quot;20…</td></tr><tr><td>&quot;{&quot;field_0&quot;:&quot;20…</td><td>&quot;{&quot;field_0&quot;:&quot;20…</td></tr><tr><td>&quot;{&quot;field_0&quot;:&quot;20…</td><td>&quot;{&quot;field_0&quot;:&quot;20…</td></tr><tr><td>&quot;{&quot;field_0&quot;:&quot;20…</td><td>&quot;{&quot;field_0&quot;:&quot;20…</td></tr><tr><td>&quot;{&quot;field_0&quot;:&quot;20…</td><td>&quot;{&quot;field_0&quot;:&quot;20…</td></tr></tbody></table></div>"
            ]
          },
          "metadata": {},
          "execution_count": 55
        }
      ]
    },
    {
      "cell_type": "code",
      "source": [
        "(\n",
        "    data\n",
        "    .filter(passenger_count = 3)\n",
        "    .fetch()\n",
        ")"
      ],
      "metadata": {
        "colab": {
          "base_uri": "https://localhost:8080/",
          "height": 683
        },
        "id": "1l7RkEZjyf0o",
        "outputId": "d3b30750-b85b-4327-cf24-77f2af738728"
      },
      "execution_count": 56,
      "outputs": [
        {
          "output_type": "execute_result",
          "data": {
            "text/plain": [
              "shape: (18, 19)\n",
              "┌──────────┬───────────┬───────────┬───────────┬───┬───────────┬───────────┬───────────┬───────────┐\n",
              "│ VendorID ┆ tpep_pick ┆ tpep_drop ┆ passenger ┆ … ┆ improveme ┆ total_amo ┆ congestio ┆ Airport_f │\n",
              "│ ---      ┆ up_dateti ┆ off_datet ┆ _count    ┆   ┆ nt_surcha ┆ unt       ┆ n_surchar ┆ ee        │\n",
              "│ i32      ┆ me        ┆ ime       ┆ ---       ┆   ┆ rge       ┆ ---       ┆ ge        ┆ ---       │\n",
              "│          ┆ ---       ┆ ---       ┆ i64       ┆   ┆ ---       ┆ f64       ┆ ---       ┆ f64       │\n",
              "│          ┆ datetime[ ┆ datetime[ ┆           ┆   ┆ f64       ┆           ┆ f64       ┆           │\n",
              "│          ┆ ns]       ┆ ns]       ┆           ┆   ┆           ┆           ┆           ┆           │\n",
              "╞══════════╪═══════════╪═══════════╪═══════════╪═══╪═══════════╪═══════════╪═══════════╪═══════════╡\n",
              "│ 2        ┆ 2023-02-0 ┆ 2023-02-0 ┆ 3         ┆ … ┆ 1.0       ┆ 37.32     ┆ 2.5       ┆ 0.0       │\n",
              "│          ┆ 1         ┆ 1         ┆           ┆   ┆           ┆           ┆           ┆           │\n",
              "│          ┆ 00:45:59  ┆ 01:05:29  ┆           ┆   ┆           ┆           ┆           ┆           │\n",
              "│ 2        ┆ 2023-02-0 ┆ 2023-02-0 ┆ 3         ┆ … ┆ 1.0       ┆ 15.0      ┆ 2.5       ┆ 0.0       │\n",
              "│          ┆ 1         ┆ 1         ┆           ┆   ┆           ┆           ┆           ┆           │\n",
              "│          ┆ 00:40:42  ┆ 00:47:43  ┆           ┆   ┆           ┆           ┆           ┆           │\n",
              "│ 1        ┆ 2023-02-0 ┆ 2023-02-0 ┆ 3         ┆ … ┆ 1.0       ┆ 33.95     ┆ 2.5       ┆ 0.0       │\n",
              "│          ┆ 1         ┆ 1         ┆           ┆   ┆           ┆           ┆           ┆           │\n",
              "│          ┆ 00:20:07  ┆ 00:44:40  ┆           ┆   ┆           ┆           ┆           ┆           │\n",
              "│ 2        ┆ 2023-02-0 ┆ 2023-02-0 ┆ 3         ┆ … ┆ 1.0       ┆ 44.88     ┆ 2.5       ┆ 0.0       │\n",
              "│          ┆ 1         ┆ 1         ┆           ┆   ┆           ┆           ┆           ┆           │\n",
              "│          ┆ 00:51:40  ┆ 01:13:46  ┆           ┆   ┆           ┆           ┆           ┆           │\n",
              "│ …        ┆ …         ┆ …         ┆ …         ┆ … ┆ …         ┆ …         ┆ …         ┆ …         │\n",
              "│ 1        ┆ 2023-02-0 ┆ 2023-02-0 ┆ 3         ┆ … ┆ 1.0       ┆ 41.5      ┆ 2.5       ┆ 0.0       │\n",
              "│          ┆ 1         ┆ 1         ┆           ┆   ┆           ┆           ┆           ┆           │\n",
              "│          ┆ 00:04:08  ┆ 00:28:46  ┆           ┆   ┆           ┆           ┆           ┆           │\n",
              "│ 2        ┆ 2023-02-0 ┆ 2023-02-0 ┆ 3         ┆ … ┆ 1.0       ┆ 14.64     ┆ 2.5       ┆ 0.0       │\n",
              "│          ┆ 1         ┆ 1         ┆           ┆   ┆           ┆           ┆           ┆           │\n",
              "│          ┆ 00:48:20  ┆ 00:53:46  ┆           ┆   ┆           ┆           ┆           ┆           │\n",
              "│ 2        ┆ 2023-02-0 ┆ 2023-02-0 ┆ 3         ┆ … ┆ 1.0       ┆ 19.62     ┆ 2.5       ┆ 0.0       │\n",
              "│          ┆ 1         ┆ 1         ┆           ┆   ┆           ┆           ┆           ┆           │\n",
              "│          ┆ 00:26:02  ┆ 00:33:40  ┆           ┆   ┆           ┆           ┆           ┆           │\n",
              "│ 2        ┆ 2023-02-0 ┆ 2023-02-0 ┆ 3         ┆ … ┆ 1.0       ┆ 17.68     ┆ 2.5       ┆ 0.0       │\n",
              "│          ┆ 1         ┆ 1         ┆           ┆   ┆           ┆           ┆           ┆           │\n",
              "│          ┆ 00:12:06  ┆ 00:17:29  ┆           ┆   ┆           ┆           ┆           ┆           │\n",
              "└──────────┴───────────┴───────────┴───────────┴───┴───────────┴───────────┴───────────┴───────────┘"
            ],
            "text/html": [
              "<div><style>\n",
              ".dataframe > thead > tr,\n",
              ".dataframe > tbody > tr {\n",
              "  text-align: right;\n",
              "  white-space: pre-wrap;\n",
              "}\n",
              "</style>\n",
              "<small>shape: (18, 19)</small><table border=\"1\" class=\"dataframe\"><thead><tr><th>VendorID</th><th>tpep_pickup_datetime</th><th>tpep_dropoff_datetime</th><th>passenger_count</th><th>trip_distance</th><th>RatecodeID</th><th>store_and_fwd_flag</th><th>PULocationID</th><th>DOLocationID</th><th>payment_type</th><th>fare_amount</th><th>extra</th><th>mta_tax</th><th>tip_amount</th><th>tolls_amount</th><th>improvement_surcharge</th><th>total_amount</th><th>congestion_surcharge</th><th>Airport_fee</th></tr><tr><td>i32</td><td>datetime[ns]</td><td>datetime[ns]</td><td>i64</td><td>f64</td><td>i64</td><td>str</td><td>i32</td><td>i32</td><td>i64</td><td>f64</td><td>f64</td><td>f64</td><td>f64</td><td>f64</td><td>f64</td><td>f64</td><td>f64</td><td>f64</td></tr></thead><tbody><tr><td>2</td><td>2023-02-01 00:45:59</td><td>2023-02-01 01:05:29</td><td>3</td><td>5.65</td><td>1</td><td>&quot;N&quot;</td><td>68</td><td>42</td><td>1</td><td>26.1</td><td>1.0</td><td>0.5</td><td>6.22</td><td>0.0</td><td>1.0</td><td>37.32</td><td>2.5</td><td>0.0</td></tr><tr><td>2</td><td>2023-02-01 00:40:42</td><td>2023-02-01 00:47:43</td><td>3</td><td>1.57</td><td>1</td><td>&quot;N&quot;</td><td>230</td><td>170</td><td>2</td><td>10.0</td><td>1.0</td><td>0.5</td><td>0.0</td><td>0.0</td><td>1.0</td><td>15.0</td><td>2.5</td><td>0.0</td></tr><tr><td>1</td><td>2023-02-01 00:20:07</td><td>2023-02-01 00:44:40</td><td>3</td><td>4.6</td><td>1</td><td>&quot;N&quot;</td><td>151</td><td>164</td><td>1</td><td>23.3</td><td>3.5</td><td>0.5</td><td>5.65</td><td>0.0</td><td>1.0</td><td>33.95</td><td>2.5</td><td>0.0</td></tr><tr><td>2</td><td>2023-02-01 00:51:40</td><td>2023-02-01 01:13:46</td><td>3</td><td>7.06</td><td>1</td><td>&quot;N&quot;</td><td>142</td><td>87</td><td>1</td><td>32.4</td><td>1.0</td><td>0.5</td><td>7.48</td><td>0.0</td><td>1.0</td><td>44.88</td><td>2.5</td><td>0.0</td></tr><tr><td>2</td><td>2023-02-01 00:34:04</td><td>2023-02-01 00:55:05</td><td>3</td><td>10.88</td><td>1</td><td>&quot;N&quot;</td><td>132</td><td>173</td><td>2</td><td>42.9</td><td>1.0</td><td>0.5</td><td>0.0</td><td>0.0</td><td>1.0</td><td>46.65</td><td>0.0</td><td>1.25</td></tr><tr><td>2</td><td>2023-02-01 00:56:54</td><td>2023-02-01 01:01:29</td><td>3</td><td>1.14</td><td>1</td><td>&quot;N&quot;</td><td>246</td><td>48</td><td>1</td><td>7.2</td><td>1.0</td><td>0.5</td><td>2.44</td><td>0.0</td><td>1.0</td><td>14.64</td><td>2.5</td><td>0.0</td></tr><tr><td>1</td><td>2023-02-01 00:10:41</td><td>2023-02-01 00:16:29</td><td>3</td><td>1.0</td><td>1</td><td>&quot;N&quot;</td><td>113</td><td>107</td><td>1</td><td>7.2</td><td>3.5</td><td>0.5</td><td>2.0</td><td>0.0</td><td>1.0</td><td>14.2</td><td>2.5</td><td>0.0</td></tr><tr><td>1</td><td>2023-02-01 00:04:21</td><td>2023-02-01 00:20:07</td><td>3</td><td>3.0</td><td>1</td><td>&quot;N&quot;</td><td>79</td><td>13</td><td>1</td><td>16.3</td><td>3.5</td><td>0.5</td><td>4.25</td><td>0.0</td><td>1.0</td><td>25.55</td><td>2.5</td><td>0.0</td></tr><tr><td>2</td><td>2023-02-01 00:15:40</td><td>2023-02-01 00:31:34</td><td>3</td><td>4.32</td><td>1</td><td>&quot;N&quot;</td><td>163</td><td>260</td><td>1</td><td>20.5</td><td>1.0</td><td>0.5</td><td>0.0</td><td>0.0</td><td>1.0</td><td>25.5</td><td>2.5</td><td>0.0</td></tr><tr><td>2</td><td>2023-02-01 00:24:32</td><td>2023-02-01 00:38:30</td><td>3</td><td>4.81</td><td>1</td><td>&quot;N&quot;</td><td>164</td><td>151</td><td>1</td><td>20.5</td><td>1.0</td><td>0.5</td><td>5.1</td><td>0.0</td><td>1.0</td><td>30.6</td><td>2.5</td><td>0.0</td></tr><tr><td>2</td><td>2023-02-01 00:50:46</td><td>2023-02-01 00:54:08</td><td>3</td><td>0.7</td><td>1</td><td>&quot;N&quot;</td><td>170</td><td>230</td><td>1</td><td>5.8</td><td>1.0</td><td>0.5</td><td>1.0</td><td>0.0</td><td>1.0</td><td>11.8</td><td>2.5</td><td>0.0</td></tr><tr><td>2</td><td>2023-02-01 00:20:33</td><td>2023-02-01 00:28:05</td><td>3</td><td>1.39</td><td>1</td><td>&quot;N&quot;</td><td>170</td><td>237</td><td>1</td><td>9.3</td><td>1.0</td><td>0.5</td><td>2.86</td><td>0.0</td><td>1.0</td><td>17.16</td><td>2.5</td><td>0.0</td></tr><tr><td>2</td><td>2023-02-01 00:20:38</td><td>2023-02-01 00:40:40</td><td>3</td><td>6.6</td><td>1</td><td>&quot;N&quot;</td><td>132</td><td>130</td><td>1</td><td>30.3</td><td>1.0</td><td>0.5</td><td>0.05</td><td>0.0</td><td>1.0</td><td>34.1</td><td>0.0</td><td>1.25</td></tr><tr><td>2</td><td>2023-02-01 00:40:26</td><td>2023-02-01 00:51:44</td><td>3</td><td>2.37</td><td>1</td><td>&quot;N&quot;</td><td>232</td><td>68</td><td>2</td><td>13.5</td><td>1.0</td><td>0.5</td><td>0.0</td><td>0.0</td><td>1.0</td><td>18.5</td><td>2.5</td><td>0.0</td></tr><tr><td>1</td><td>2023-02-01 00:04:08</td><td>2023-02-01 00:28:46</td><td>3</td><td>5.7</td><td>1</td><td>&quot;N&quot;</td><td>249</td><td>24</td><td>1</td><td>29.6</td><td>3.5</td><td>0.5</td><td>6.9</td><td>0.0</td><td>1.0</td><td>41.5</td><td>2.5</td><td>0.0</td></tr><tr><td>2</td><td>2023-02-01 00:48:20</td><td>2023-02-01 00:53:46</td><td>3</td><td>0.79</td><td>1</td><td>&quot;N&quot;</td><td>158</td><td>90</td><td>1</td><td>7.2</td><td>1.0</td><td>0.5</td><td>2.44</td><td>0.0</td><td>1.0</td><td>14.64</td><td>2.5</td><td>0.0</td></tr><tr><td>2</td><td>2023-02-01 00:26:02</td><td>2023-02-01 00:33:40</td><td>3</td><td>2.03</td><td>1</td><td>&quot;N&quot;</td><td>161</td><td>113</td><td>1</td><td>10.7</td><td>1.0</td><td>0.5</td><td>3.92</td><td>0.0</td><td>1.0</td><td>19.62</td><td>2.5</td><td>0.0</td></tr><tr><td>2</td><td>2023-02-01 00:12:06</td><td>2023-02-01 00:17:29</td><td>3</td><td>1.45</td><td>1</td><td>&quot;N&quot;</td><td>234</td><td>249</td><td>1</td><td>8.6</td><td>1.0</td><td>0.5</td><td>4.08</td><td>0.0</td><td>1.0</td><td>17.68</td><td>2.5</td><td>0.0</td></tr></tbody></table></div>"
            ]
          },
          "metadata": {},
          "execution_count": 56
        }
      ]
    },
    {
      "cell_type": "code",
      "source": [
        "(\n",
        "    data\n",
        "    .filter(pl.col('trip_distance') > pl.mean('trip_distance'))\n",
        "    .fetch()\n",
        ")"
      ],
      "metadata": {
        "colab": {
          "base_uri": "https://localhost:8080/",
          "height": 902
        },
        "id": "lyPxcdcOy3_7",
        "outputId": "3c66eb98-c3f3-4dbf-9169-2129364a391f"
      },
      "execution_count": 57,
      "outputs": [
        {
          "output_type": "execute_result",
          "data": {
            "text/plain": [
              "shape: (150, 19)\n",
              "┌──────────┬───────────┬───────────┬───────────┬───┬───────────┬───────────┬───────────┬───────────┐\n",
              "│ VendorID ┆ tpep_pick ┆ tpep_drop ┆ passenger ┆ … ┆ improveme ┆ total_amo ┆ congestio ┆ Airport_f │\n",
              "│ ---      ┆ up_dateti ┆ off_datet ┆ _count    ┆   ┆ nt_surcha ┆ unt       ┆ n_surchar ┆ ee        │\n",
              "│ i32      ┆ me        ┆ ime       ┆ ---       ┆   ┆ rge       ┆ ---       ┆ ge        ┆ ---       │\n",
              "│          ┆ ---       ┆ ---       ┆ i64       ┆   ┆ ---       ┆ f64       ┆ ---       ┆ f64       │\n",
              "│          ┆ datetime[ ┆ datetime[ ┆           ┆   ┆ f64       ┆           ┆ f64       ┆           │\n",
              "│          ┆ ns]       ┆ ns]       ┆           ┆   ┆           ┆           ┆           ┆           │\n",
              "╞══════════╪═══════════╪═══════════╪═══════════╪═══╪═══════════╪═══════════╪═══════════╪═══════════╡\n",
              "│ 1        ┆ 2023-02-0 ┆ 2023-02-0 ┆ 0         ┆ … ┆ 1.0       ┆ 74.65     ┆ 0.0       ┆ 1.25      │\n",
              "│          ┆ 1         ┆ 1         ┆           ┆   ┆           ┆           ┆           ┆           │\n",
              "│          ┆ 00:29:33  ┆ 01:01:38  ┆           ┆   ┆           ┆           ┆           ┆           │\n",
              "│ 1        ┆ 2023-02-0 ┆ 2023-02-0 ┆ 1         ┆ … ┆ 1.0       ┆ 32.25     ┆ 2.5       ┆ 0.0       │\n",
              "│          ┆ 1         ┆ 1         ┆           ┆   ┆           ┆           ┆           ┆           │\n",
              "│          ┆ 00:52:40  ┆ 01:07:18  ┆           ┆   ┆           ┆           ┆           ┆           │\n",
              "│ 1        ┆ 2023-02-0 ┆ 2023-02-0 ┆ 1         ┆ … ┆ 1.0       ┆ 50.0      ┆ 2.5       ┆ 0.0       │\n",
              "│          ┆ 1         ┆ 1         ┆           ┆   ┆           ┆           ┆           ┆           │\n",
              "│          ┆ 00:12:39  ┆ 00:40:36  ┆           ┆   ┆           ┆           ┆           ┆           │\n",
              "│ 2        ┆ 2023-02-0 ┆ 2023-02-0 ┆ 1         ┆ … ┆ 1.0       ┆ 44.12     ┆ 2.5       ┆ 0.0       │\n",
              "│          ┆ 1         ┆ 1         ┆           ┆   ┆           ┆           ┆           ┆           │\n",
              "│          ┆ 00:20:40  ┆ 00:33:56  ┆           ┆   ┆           ┆           ┆           ┆           │\n",
              "│ …        ┆ …         ┆ …         ┆ …         ┆ … ┆ …         ┆ …         ┆ …         ┆ …         │\n",
              "│ 1        ┆ 2023-02-0 ┆ 2023-02-0 ┆ 1         ┆ … ┆ 1.0       ┆ 69.15     ┆ 0.0       ┆ 1.25      │\n",
              "│          ┆ 1         ┆ 1         ┆           ┆   ┆           ┆           ┆           ┆           │\n",
              "│          ┆ 00:23:15  ┆ 00:53:11  ┆           ┆   ┆           ┆           ┆           ┆           │\n",
              "│ 2        ┆ 2023-02-0 ┆ 2023-02-0 ┆ 1         ┆ … ┆ 1.0       ┆ 31.44     ┆ 2.5       ┆ 0.0       │\n",
              "│          ┆ 1         ┆ 1         ┆           ┆   ┆           ┆           ┆           ┆           │\n",
              "│          ┆ 00:02:13  ┆ 00:17:17  ┆           ┆   ┆           ┆           ┆           ┆           │\n",
              "│ 2        ┆ 2023-02-0 ┆ 2023-02-0 ┆ 1         ┆ … ┆ 1.0       ┆ 76.8      ┆ 2.5       ┆ 0.0       │\n",
              "│          ┆ 1         ┆ 1         ┆           ┆   ┆           ┆           ┆           ┆           │\n",
              "│          ┆ 00:17:35  ┆ 00:56:54  ┆           ┆   ┆           ┆           ┆           ┆           │\n",
              "│ 1        ┆ 2023-02-0 ┆ 2023-02-0 ┆ 1         ┆ … ┆ 1.0       ┆ 29.7      ┆ 2.5       ┆ 0.0       │\n",
              "│          ┆ 1         ┆ 1         ┆           ┆   ┆           ┆           ┆           ┆           │\n",
              "│          ┆ 00:17:43  ┆ 00:29:04  ┆           ┆   ┆           ┆           ┆           ┆           │\n",
              "└──────────┴───────────┴───────────┴───────────┴───┴───────────┴───────────┴───────────┴───────────┘"
            ],
            "text/html": [
              "<div><style>\n",
              ".dataframe > thead > tr,\n",
              ".dataframe > tbody > tr {\n",
              "  text-align: right;\n",
              "  white-space: pre-wrap;\n",
              "}\n",
              "</style>\n",
              "<small>shape: (150, 19)</small><table border=\"1\" class=\"dataframe\"><thead><tr><th>VendorID</th><th>tpep_pickup_datetime</th><th>tpep_dropoff_datetime</th><th>passenger_count</th><th>trip_distance</th><th>RatecodeID</th><th>store_and_fwd_flag</th><th>PULocationID</th><th>DOLocationID</th><th>payment_type</th><th>fare_amount</th><th>extra</th><th>mta_tax</th><th>tip_amount</th><th>tolls_amount</th><th>improvement_surcharge</th><th>total_amount</th><th>congestion_surcharge</th><th>Airport_fee</th></tr><tr><td>i32</td><td>datetime[ns]</td><td>datetime[ns]</td><td>i64</td><td>f64</td><td>i64</td><td>str</td><td>i32</td><td>i32</td><td>i64</td><td>f64</td><td>f64</td><td>f64</td><td>f64</td><td>f64</td><td>f64</td><td>f64</td><td>f64</td><td>f64</td></tr></thead><tbody><tr><td>1</td><td>2023-02-01 00:29:33</td><td>2023-02-01 01:01:38</td><td>0</td><td>18.8</td><td>1</td><td>&quot;N&quot;</td><td>132</td><td>26</td><td>1</td><td>70.9</td><td>2.25</td><td>0.5</td><td>0.0</td><td>0.0</td><td>1.0</td><td>74.65</td><td>0.0</td><td>1.25</td></tr><tr><td>1</td><td>2023-02-01 00:52:40</td><td>2023-02-01 01:07:18</td><td>1</td><td>5.1</td><td>1</td><td>&quot;N&quot;</td><td>148</td><td>236</td><td>1</td><td>21.9</td><td>3.5</td><td>0.5</td><td>5.35</td><td>0.0</td><td>1.0</td><td>32.25</td><td>2.5</td><td>0.0</td></tr><tr><td>1</td><td>2023-02-01 00:12:39</td><td>2023-02-01 00:40:36</td><td>1</td><td>8.9</td><td>1</td><td>&quot;N&quot;</td><td>137</td><td>244</td><td>1</td><td>41.5</td><td>3.5</td><td>0.5</td><td>3.5</td><td>0.0</td><td>1.0</td><td>50.0</td><td>2.5</td><td>0.0</td></tr><tr><td>2</td><td>2023-02-01 00:20:40</td><td>2023-02-01 00:33:56</td><td>1</td><td>7.49</td><td>1</td><td>&quot;N&quot;</td><td>48</td><td>243</td><td>1</td><td>30.3</td><td>1.0</td><td>0.5</td><td>8.82</td><td>0.0</td><td>1.0</td><td>44.12</td><td>2.5</td><td>0.0</td></tr><tr><td>2</td><td>2023-02-01 00:00:28</td><td>2023-02-01 00:12:54</td><td>1</td><td>5.4</td><td>1</td><td>&quot;N&quot;</td><td>140</td><td>42</td><td>1</td><td>23.3</td><td>1.0</td><td>0.5</td><td>2.0</td><td>0.0</td><td>1.0</td><td>30.3</td><td>2.5</td><td>0.0</td></tr><tr><td>1</td><td>2023-02-01 00:01:09</td><td>2023-02-01 00:51:49</td><td>1</td><td>20.3</td><td>2</td><td>&quot;N&quot;</td><td>132</td><td>239</td><td>1</td><td>70.0</td><td>3.75</td><td>0.5</td><td>16.35</td><td>6.55</td><td>1.0</td><td>98.15</td><td>2.5</td><td>1.25</td></tr><tr><td>1</td><td>2023-02-01 00:41:47</td><td>2023-02-01 01:14:14</td><td>1</td><td>18.4</td><td>2</td><td>&quot;N&quot;</td><td>132</td><td>230</td><td>1</td><td>70.0</td><td>3.75</td><td>0.5</td><td>2.0</td><td>6.55</td><td>1.0</td><td>83.8</td><td>2.5</td><td>1.25</td></tr><tr><td>1</td><td>2023-02-01 00:08:40</td><td>2023-02-01 00:56:13</td><td>1</td><td>19.1</td><td>1</td><td>&quot;N&quot;</td><td>132</td><td>90</td><td>1</td><td>70.0</td><td>3.75</td><td>0.5</td><td>16.35</td><td>6.55</td><td>1.0</td><td>98.15</td><td>2.5</td><td>1.25</td></tr><tr><td>1</td><td>2023-02-01 00:41:58</td><td>2023-02-01 01:05:24</td><td>1</td><td>5.9</td><td>1</td><td>&quot;N&quot;</td><td>264</td><td>61</td><td>2</td><td>27.5</td><td>3.5</td><td>0.5</td><td>0.0</td><td>0.0</td><td>1.0</td><td>32.5</td><td>2.5</td><td>0.0</td></tr><tr><td>2</td><td>2023-02-01 00:47:17</td><td>2023-02-01 01:09:05</td><td>1</td><td>5.4</td><td>1</td><td>&quot;N&quot;</td><td>114</td><td>36</td><td>1</td><td>26.8</td><td>1.0</td><td>0.5</td><td>6.36</td><td>0.0</td><td>1.0</td><td>38.16</td><td>2.5</td><td>0.0</td></tr><tr><td>2</td><td>2023-02-01 00:31:46</td><td>2023-02-01 01:00:59</td><td>1</td><td>5.99</td><td>1</td><td>&quot;Y&quot;</td><td>230</td><td>88</td><td>1</td><td>31.7</td><td>1.0</td><td>0.5</td><td>7.34</td><td>0.0</td><td>1.0</td><td>44.04</td><td>2.5</td><td>0.0</td></tr><tr><td>1</td><td>2023-02-01 00:51:32</td><td>2023-02-01 01:06:27</td><td>1</td><td>4.7</td><td>1</td><td>&quot;N&quot;</td><td>132</td><td>205</td><td>2</td><td>21.9</td><td>2.25</td><td>0.5</td><td>0.0</td><td>0.0</td><td>1.0</td><td>25.65</td><td>0.0</td><td>1.25</td></tr><tr><td>&hellip;</td><td>&hellip;</td><td>&hellip;</td><td>&hellip;</td><td>&hellip;</td><td>&hellip;</td><td>&hellip;</td><td>&hellip;</td><td>&hellip;</td><td>&hellip;</td><td>&hellip;</td><td>&hellip;</td><td>&hellip;</td><td>&hellip;</td><td>&hellip;</td><td>&hellip;</td><td>&hellip;</td><td>&hellip;</td><td>&hellip;</td></tr><tr><td>2</td><td>2023-02-01 00:59:35</td><td>2023-02-01 01:15:53</td><td>1</td><td>5.12</td><td>1</td><td>&quot;N&quot;</td><td>158</td><td>151</td><td>2</td><td>24.7</td><td>1.0</td><td>0.5</td><td>0.0</td><td>0.0</td><td>1.0</td><td>29.7</td><td>2.5</td><td>0.0</td></tr><tr><td>2</td><td>2023-02-01 00:38:20</td><td>2023-02-01 01:02:06</td><td>1</td><td>18.25</td><td>2</td><td>&quot;N&quot;</td><td>132</td><td>262</td><td>1</td><td>70.0</td><td>0.0</td><td>0.5</td><td>16.11</td><td>6.55</td><td>1.0</td><td>97.91</td><td>2.5</td><td>1.25</td></tr><tr><td>1</td><td>2023-02-01 00:42:55</td><td>2023-02-01 00:59:39</td><td>1</td><td>5.9</td><td>1</td><td>&quot;N&quot;</td><td>48</td><td>87</td><td>1</td><td>26.8</td><td>3.5</td><td>0.5</td><td>4.0</td><td>0.0</td><td>1.0</td><td>35.8</td><td>2.5</td><td>0.0</td></tr><tr><td>1</td><td>2023-02-01 00:40:16</td><td>2023-02-01 01:02:24</td><td>2</td><td>7.4</td><td>1</td><td>&quot;N&quot;</td><td>164</td><td>116</td><td>1</td><td>31.7</td><td>3.5</td><td>0.5</td><td>11.0</td><td>0.0</td><td>1.0</td><td>47.7</td><td>2.5</td><td>0.0</td></tr><tr><td>1</td><td>2023-02-01 00:05:32</td><td>2023-02-01 00:20:00</td><td>1</td><td>9.5</td><td>1</td><td>&quot;N&quot;</td><td>138</td><td>140</td><td>1</td><td>36.6</td><td>9.75</td><td>0.5</td><td>13.6</td><td>6.55</td><td>1.0</td><td>68.0</td><td>2.5</td><td>1.25</td></tr><tr><td>1</td><td>2023-02-01 00:01:42</td><td>2023-02-01 00:38:38</td><td>1</td><td>25.4</td><td>1</td><td>&quot;N&quot;</td><td>132</td><td>265</td><td>1</td><td>97.5</td><td>2.25</td><td>0.5</td><td>0.0</td><td>6.0</td><td>1.0</td><td>107.25</td><td>0.0</td><td>1.25</td></tr><tr><td>2</td><td>2023-02-01 00:50:29</td><td>2023-02-01 01:22:05</td><td>5</td><td>20.32</td><td>2</td><td>&quot;N&quot;</td><td>132</td><td>238</td><td>1</td><td>70.0</td><td>0.0</td><td>0.5</td><td>16.36</td><td>6.55</td><td>1.0</td><td>98.16</td><td>2.5</td><td>1.25</td></tr><tr><td>2</td><td>2023-02-01 00:22:20</td><td>2023-02-01 00:52:30</td><td>1</td><td>18.25</td><td>2</td><td>&quot;N&quot;</td><td>132</td><td>230</td><td>1</td><td>70.0</td><td>0.0</td><td>0.5</td><td>16.11</td><td>6.55</td><td>1.0</td><td>97.91</td><td>2.5</td><td>1.25</td></tr><tr><td>1</td><td>2023-02-01 00:23:15</td><td>2023-02-01 00:53:11</td><td>1</td><td>15.7</td><td>1</td><td>&quot;N&quot;</td><td>132</td><td>123</td><td>1</td><td>60.4</td><td>2.25</td><td>0.5</td><td>5.0</td><td>0.0</td><td>1.0</td><td>69.15</td><td>0.0</td><td>1.25</td></tr><tr><td>2</td><td>2023-02-01 00:02:13</td><td>2023-02-01 00:17:17</td><td>1</td><td>4.67</td><td>1</td><td>&quot;N&quot;</td><td>100</td><td>13</td><td>1</td><td>21.2</td><td>1.0</td><td>0.5</td><td>5.24</td><td>0.0</td><td>1.0</td><td>31.44</td><td>2.5</td><td>0.0</td></tr><tr><td>2</td><td>2023-02-01 00:17:35</td><td>2023-02-01 00:56:54</td><td>1</td><td>14.13</td><td>1</td><td>&quot;N&quot;</td><td>140</td><td>215</td><td>1</td><td>59.0</td><td>1.0</td><td>0.5</td><td>12.8</td><td>0.0</td><td>1.0</td><td>76.8</td><td>2.5</td><td>0.0</td></tr><tr><td>1</td><td>2023-02-01 00:17:43</td><td>2023-02-01 00:29:04</td><td>1</td><td>6.0</td><td>1</td><td>&quot;N&quot;</td><td>75</td><td>4</td><td>2</td><td>24.7</td><td>3.5</td><td>0.5</td><td>0.0</td><td>0.0</td><td>1.0</td><td>29.7</td><td>2.5</td><td>0.0</td></tr></tbody></table></div>"
            ]
          },
          "metadata": {},
          "execution_count": 57
        }
      ]
    },
    {
      "cell_type": "code",
      "source": [
        "(\n",
        "    data\n",
        "    .group_by('passenger_count')\n",
        "    .agg(\n",
        "        pl.mean('trip_distance').name.suffix('_mean'),\n",
        "        pl.std('trip_distance').name.suffix('_std')\n",
        "    )\n",
        "    .fetch()\n",
        ")"
      ],
      "metadata": {
        "colab": {
          "base_uri": "https://localhost:8080/",
          "height": 318
        },
        "id": "X_deiEuqzbBb",
        "outputId": "a2c8c61b-5bc0-410b-e82e-1d5d4e42e6a0"
      },
      "execution_count": 58,
      "outputs": [
        {
          "output_type": "execute_result",
          "data": {
            "text/plain": [
              "shape: (7, 3)\n",
              "┌─────────────────┬────────────────────┬───────────────────┐\n",
              "│ passenger_count ┆ trip_distance_mean ┆ trip_distance_std │\n",
              "│ ---             ┆ ---                ┆ ---               │\n",
              "│ i64             ┆ f64                ┆ f64               │\n",
              "╞═════════════════╪════════════════════╪═══════════════════╡\n",
              "│ 3               ┆ 3.614444           ┆ 2.793314          │\n",
              "│ 0               ┆ 6.92               ┆ 7.336689          │\n",
              "│ 4               ┆ 1.308889           ┆ 0.863126          │\n",
              "│ 5               ┆ 5.73125            ┆ 7.029856          │\n",
              "│ 2               ┆ 4.3104             ┆ 4.829987          │\n",
              "│ 1               ┆ 4.266319           ┆ 5.303209          │\n",
              "│ 6               ┆ 15.71              ┆ 3.931514          │\n",
              "└─────────────────┴────────────────────┴───────────────────┘"
            ],
            "text/html": [
              "<div><style>\n",
              ".dataframe > thead > tr,\n",
              ".dataframe > tbody > tr {\n",
              "  text-align: right;\n",
              "  white-space: pre-wrap;\n",
              "}\n",
              "</style>\n",
              "<small>shape: (7, 3)</small><table border=\"1\" class=\"dataframe\"><thead><tr><th>passenger_count</th><th>trip_distance_mean</th><th>trip_distance_std</th></tr><tr><td>i64</td><td>f64</td><td>f64</td></tr></thead><tbody><tr><td>3</td><td>3.614444</td><td>2.793314</td></tr><tr><td>0</td><td>6.92</td><td>7.336689</td></tr><tr><td>4</td><td>1.308889</td><td>0.863126</td></tr><tr><td>5</td><td>5.73125</td><td>7.029856</td></tr><tr><td>2</td><td>4.3104</td><td>4.829987</td></tr><tr><td>1</td><td>4.266319</td><td>5.303209</td></tr><tr><td>6</td><td>15.71</td><td>3.931514</td></tr></tbody></table></div>"
            ]
          },
          "metadata": {},
          "execution_count": 58
        }
      ]
    },
    {
      "cell_type": "code",
      "source": [
        "(data\n",
        "    .with_columns(pl.mean('trip_distance').over('passenger_count'))\n",
        "    .fetch())"
      ],
      "metadata": {
        "colab": {
          "base_uri": "https://localhost:8080/",
          "height": 902
        },
        "id": "4k-l_bp10cNB",
        "outputId": "cfa5b340-d6ce-47ee-9eb1-38230df3a374"
      },
      "execution_count": 60,
      "outputs": [
        {
          "output_type": "execute_result",
          "data": {
            "text/plain": [
              "shape: (500, 19)\n",
              "┌──────────┬───────────┬───────────┬───────────┬───┬───────────┬───────────┬───────────┬───────────┐\n",
              "│ VendorID ┆ tpep_pick ┆ tpep_drop ┆ passenger ┆ … ┆ improveme ┆ total_amo ┆ congestio ┆ Airport_f │\n",
              "│ ---      ┆ up_dateti ┆ off_datet ┆ _count    ┆   ┆ nt_surcha ┆ unt       ┆ n_surchar ┆ ee        │\n",
              "│ i32      ┆ me        ┆ ime       ┆ ---       ┆   ┆ rge       ┆ ---       ┆ ge        ┆ ---       │\n",
              "│          ┆ ---       ┆ ---       ┆ i64       ┆   ┆ ---       ┆ f64       ┆ ---       ┆ f64       │\n",
              "│          ┆ datetime[ ┆ datetime[ ┆           ┆   ┆ f64       ┆           ┆ f64       ┆           │\n",
              "│          ┆ ns]       ┆ ns]       ┆           ┆   ┆           ┆           ┆           ┆           │\n",
              "╞══════════╪═══════════╪═══════════╪═══════════╪═══╪═══════════╪═══════════╪═══════════╪═══════════╡\n",
              "│ 1        ┆ 2023-02-0 ┆ 2023-02-0 ┆ 2         ┆ … ┆ 1.0       ┆ 9.4       ┆ 2.5       ┆ 0.0       │\n",
              "│          ┆ 1         ┆ 1         ┆           ┆   ┆           ┆           ┆           ┆           │\n",
              "│          ┆ 00:32:53  ┆ 00:34:34  ┆           ┆   ┆           ┆           ┆           ┆           │\n",
              "│ 2        ┆ 2023-02-0 ┆ 2023-02-0 ┆ 1         ┆ … ┆ -1.0      ┆ -5.5      ┆ 0.0       ┆ 0.0       │\n",
              "│          ┆ 1         ┆ 1         ┆           ┆   ┆           ┆           ┆           ┆           │\n",
              "│          ┆ 00:35:16  ┆ 00:35:30  ┆           ┆   ┆           ┆           ┆           ┆           │\n",
              "│ 2        ┆ 2023-02-0 ┆ 2023-02-0 ┆ 1         ┆ … ┆ 1.0       ┆ 5.5       ┆ 0.0       ┆ 0.0       │\n",
              "│          ┆ 1         ┆ 1         ┆           ┆   ┆           ┆           ┆           ┆           │\n",
              "│          ┆ 00:35:16  ┆ 00:35:30  ┆           ┆   ┆           ┆           ┆           ┆           │\n",
              "│ 1        ┆ 2023-02-0 ┆ 2023-02-0 ┆ 0         ┆ … ┆ 1.0       ┆ 74.65     ┆ 0.0       ┆ 1.25      │\n",
              "│          ┆ 1         ┆ 1         ┆           ┆   ┆           ┆           ┆           ┆           │\n",
              "│          ┆ 00:29:33  ┆ 01:01:38  ┆           ┆   ┆           ┆           ┆           ┆           │\n",
              "│ …        ┆ …         ┆ …         ┆ …         ┆ … ┆ …         ┆ …         ┆ …         ┆ …         │\n",
              "│ 1        ┆ 2023-02-0 ┆ 2023-02-0 ┆ 1         ┆ … ┆ 1.0       ┆ 29.7      ┆ 2.5       ┆ 0.0       │\n",
              "│          ┆ 1         ┆ 1         ┆           ┆   ┆           ┆           ┆           ┆           │\n",
              "│          ┆ 00:17:43  ┆ 00:29:04  ┆           ┆   ┆           ┆           ┆           ┆           │\n",
              "│ 1        ┆ 2023-02-0 ┆ 2023-02-0 ┆ 1         ┆ … ┆ 1.0       ┆ 17.15     ┆ 2.5       ┆ 0.0       │\n",
              "│          ┆ 1         ┆ 1         ┆           ┆   ┆           ┆           ┆           ┆           │\n",
              "│          ┆ 00:38:37  ┆ 00:43:33  ┆           ┆   ┆           ┆           ┆           ┆           │\n",
              "│ 1        ┆ 2023-02-0 ┆ 2023-02-0 ┆ 1         ┆ … ┆ 1.0       ┆ 19.1      ┆ 2.5       ┆ 0.0       │\n",
              "│          ┆ 1         ┆ 1         ┆           ┆   ┆           ┆           ┆           ┆           │\n",
              "│          ┆ 00:37:53  ┆ 00:46:36  ┆           ┆   ┆           ┆           ┆           ┆           │\n",
              "│ 1        ┆ 2023-02-0 ┆ 2023-02-0 ┆ 1         ┆ … ┆ 1.0       ┆ 18.4      ┆ 2.5       ┆ 0.0       │\n",
              "│          ┆ 1         ┆ 1         ┆           ┆   ┆           ┆           ┆           ┆           │\n",
              "│          ┆ 00:50:27  ┆ 01:00:10  ┆           ┆   ┆           ┆           ┆           ┆           │\n",
              "└──────────┴───────────┴───────────┴───────────┴───┴───────────┴───────────┴───────────┴───────────┘"
            ],
            "text/html": [
              "<div><style>\n",
              ".dataframe > thead > tr,\n",
              ".dataframe > tbody > tr {\n",
              "  text-align: right;\n",
              "  white-space: pre-wrap;\n",
              "}\n",
              "</style>\n",
              "<small>shape: (500, 19)</small><table border=\"1\" class=\"dataframe\"><thead><tr><th>VendorID</th><th>tpep_pickup_datetime</th><th>tpep_dropoff_datetime</th><th>passenger_count</th><th>trip_distance</th><th>RatecodeID</th><th>store_and_fwd_flag</th><th>PULocationID</th><th>DOLocationID</th><th>payment_type</th><th>fare_amount</th><th>extra</th><th>mta_tax</th><th>tip_amount</th><th>tolls_amount</th><th>improvement_surcharge</th><th>total_amount</th><th>congestion_surcharge</th><th>Airport_fee</th></tr><tr><td>i32</td><td>datetime[ns]</td><td>datetime[ns]</td><td>i64</td><td>f64</td><td>i64</td><td>str</td><td>i32</td><td>i32</td><td>i64</td><td>f64</td><td>f64</td><td>f64</td><td>f64</td><td>f64</td><td>f64</td><td>f64</td><td>f64</td><td>f64</td></tr></thead><tbody><tr><td>1</td><td>2023-02-01 00:32:53</td><td>2023-02-01 00:34:34</td><td>2</td><td>4.3104</td><td>1</td><td>&quot;N&quot;</td><td>142</td><td>163</td><td>2</td><td>4.4</td><td>3.5</td><td>0.5</td><td>0.0</td><td>0.0</td><td>1.0</td><td>9.4</td><td>2.5</td><td>0.0</td></tr><tr><td>2</td><td>2023-02-01 00:35:16</td><td>2023-02-01 00:35:30</td><td>1</td><td>4.266319</td><td>1</td><td>&quot;N&quot;</td><td>71</td><td>71</td><td>4</td><td>-3.0</td><td>-1.0</td><td>-0.5</td><td>0.0</td><td>0.0</td><td>-1.0</td><td>-5.5</td><td>0.0</td><td>0.0</td></tr><tr><td>2</td><td>2023-02-01 00:35:16</td><td>2023-02-01 00:35:30</td><td>1</td><td>4.266319</td><td>1</td><td>&quot;N&quot;</td><td>71</td><td>71</td><td>4</td><td>3.0</td><td>1.0</td><td>0.5</td><td>0.0</td><td>0.0</td><td>1.0</td><td>5.5</td><td>0.0</td><td>0.0</td></tr><tr><td>1</td><td>2023-02-01 00:29:33</td><td>2023-02-01 01:01:38</td><td>0</td><td>6.92</td><td>1</td><td>&quot;N&quot;</td><td>132</td><td>26</td><td>1</td><td>70.9</td><td>2.25</td><td>0.5</td><td>0.0</td><td>0.0</td><td>1.0</td><td>74.65</td><td>0.0</td><td>1.25</td></tr><tr><td>2</td><td>2023-02-01 00:12:28</td><td>2023-02-01 00:25:46</td><td>1</td><td>4.266319</td><td>1</td><td>&quot;N&quot;</td><td>161</td><td>145</td><td>1</td><td>17.0</td><td>1.0</td><td>0.5</td><td>3.3</td><td>0.0</td><td>1.0</td><td>25.3</td><td>2.5</td><td>0.0</td></tr><tr><td>1</td><td>2023-02-01 00:52:40</td><td>2023-02-01 01:07:18</td><td>1</td><td>4.266319</td><td>1</td><td>&quot;N&quot;</td><td>148</td><td>236</td><td>1</td><td>21.9</td><td>3.5</td><td>0.5</td><td>5.35</td><td>0.0</td><td>1.0</td><td>32.25</td><td>2.5</td><td>0.0</td></tr><tr><td>1</td><td>2023-02-01 00:12:39</td><td>2023-02-01 00:40:36</td><td>1</td><td>4.266319</td><td>1</td><td>&quot;N&quot;</td><td>137</td><td>244</td><td>1</td><td>41.5</td><td>3.5</td><td>0.5</td><td>3.5</td><td>0.0</td><td>1.0</td><td>50.0</td><td>2.5</td><td>0.0</td></tr><tr><td>1</td><td>2023-02-01 00:56:53</td><td>2023-02-01 01:00:37</td><td>1</td><td>4.266319</td><td>1</td><td>&quot;N&quot;</td><td>263</td><td>141</td><td>1</td><td>7.2</td><td>3.5</td><td>0.5</td><td>2.44</td><td>0.0</td><td>1.0</td><td>14.64</td><td>2.5</td><td>0.0</td></tr><tr><td>2</td><td>2023-02-01 00:20:40</td><td>2023-02-01 00:33:56</td><td>1</td><td>4.266319</td><td>1</td><td>&quot;N&quot;</td><td>48</td><td>243</td><td>1</td><td>30.3</td><td>1.0</td><td>0.5</td><td>8.82</td><td>0.0</td><td>1.0</td><td>44.12</td><td>2.5</td><td>0.0</td></tr><tr><td>2</td><td>2023-02-01 00:33:51</td><td>2023-02-01 00:37:34</td><td>1</td><td>4.266319</td><td>1</td><td>&quot;N&quot;</td><td>114</td><td>211</td><td>1</td><td>5.8</td><td>1.0</td><td>0.5</td><td>1.62</td><td>0.0</td><td>1.0</td><td>12.42</td><td>2.5</td><td>0.0</td></tr><tr><td>2</td><td>2023-02-01 01:00:45</td><td>2023-02-01 01:06:00</td><td>1</td><td>4.266319</td><td>1</td><td>&quot;N&quot;</td><td>114</td><td>249</td><td>1</td><td>7.2</td><td>1.0</td><td>0.5</td><td>2.44</td><td>0.0</td><td>1.0</td><td>14.64</td><td>2.5</td><td>0.0</td></tr><tr><td>2</td><td>2023-02-01 00:10:48</td><td>2023-02-01 00:18:09</td><td>1</td><td>4.266319</td><td>1</td><td>&quot;N&quot;</td><td>125</td><td>107</td><td>1</td><td>10.0</td><td>1.0</td><td>0.5</td><td>1.0</td><td>0.0</td><td>1.0</td><td>16.0</td><td>2.5</td><td>0.0</td></tr><tr><td>&hellip;</td><td>&hellip;</td><td>&hellip;</td><td>&hellip;</td><td>&hellip;</td><td>&hellip;</td><td>&hellip;</td><td>&hellip;</td><td>&hellip;</td><td>&hellip;</td><td>&hellip;</td><td>&hellip;</td><td>&hellip;</td><td>&hellip;</td><td>&hellip;</td><td>&hellip;</td><td>&hellip;</td><td>&hellip;</td><td>&hellip;</td></tr><tr><td>2</td><td>2023-02-01 00:33:08</td><td>2023-02-01 00:37:28</td><td>1</td><td>4.266319</td><td>1</td><td>&quot;N&quot;</td><td>230</td><td>164</td><td>1</td><td>7.9</td><td>1.0</td><td>0.5</td><td>2.58</td><td>0.0</td><td>1.0</td><td>15.48</td><td>2.5</td><td>0.0</td></tr><tr><td>2</td><td>2023-02-01 00:40:52</td><td>2023-02-01 00:44:32</td><td>1</td><td>4.266319</td><td>1</td><td>&quot;N&quot;</td><td>100</td><td>170</td><td>1</td><td>5.8</td><td>1.0</td><td>0.5</td><td>2.7</td><td>0.0</td><td>1.0</td><td>13.5</td><td>2.5</td><td>0.0</td></tr><tr><td>2</td><td>2023-02-01 00:22:20</td><td>2023-02-01 00:52:30</td><td>1</td><td>4.266319</td><td>2</td><td>&quot;N&quot;</td><td>132</td><td>230</td><td>1</td><td>70.0</td><td>0.0</td><td>0.5</td><td>16.11</td><td>6.55</td><td>1.0</td><td>97.91</td><td>2.5</td><td>1.25</td></tr><tr><td>2</td><td>2023-02-01 00:50:07</td><td>2023-02-01 00:58:23</td><td>1</td><td>4.266319</td><td>1</td><td>&quot;N&quot;</td><td>230</td><td>238</td><td>4</td><td>-12.1</td><td>-1.0</td><td>-0.5</td><td>0.0</td><td>0.0</td><td>-1.0</td><td>-17.1</td><td>-2.5</td><td>0.0</td></tr><tr><td>2</td><td>2023-02-01 00:50:07</td><td>2023-02-01 00:58:23</td><td>1</td><td>4.266319</td><td>1</td><td>&quot;N&quot;</td><td>230</td><td>238</td><td>4</td><td>12.1</td><td>1.0</td><td>0.5</td><td>0.0</td><td>0.0</td><td>1.0</td><td>17.1</td><td>2.5</td><td>0.0</td></tr><tr><td>1</td><td>2023-02-01 00:23:15</td><td>2023-02-01 00:53:11</td><td>1</td><td>4.266319</td><td>1</td><td>&quot;N&quot;</td><td>132</td><td>123</td><td>1</td><td>60.4</td><td>2.25</td><td>0.5</td><td>5.0</td><td>0.0</td><td>1.0</td><td>69.15</td><td>0.0</td><td>1.25</td></tr><tr><td>2</td><td>2023-02-01 00:02:13</td><td>2023-02-01 00:17:17</td><td>1</td><td>4.266319</td><td>1</td><td>&quot;N&quot;</td><td>100</td><td>13</td><td>1</td><td>21.2</td><td>1.0</td><td>0.5</td><td>5.24</td><td>0.0</td><td>1.0</td><td>31.44</td><td>2.5</td><td>0.0</td></tr><tr><td>2</td><td>2023-02-01 00:17:35</td><td>2023-02-01 00:56:54</td><td>1</td><td>4.266319</td><td>1</td><td>&quot;N&quot;</td><td>140</td><td>215</td><td>1</td><td>59.0</td><td>1.0</td><td>0.5</td><td>12.8</td><td>0.0</td><td>1.0</td><td>76.8</td><td>2.5</td><td>0.0</td></tr><tr><td>1</td><td>2023-02-01 00:17:43</td><td>2023-02-01 00:29:04</td><td>1</td><td>4.266319</td><td>1</td><td>&quot;N&quot;</td><td>75</td><td>4</td><td>2</td><td>24.7</td><td>3.5</td><td>0.5</td><td>0.0</td><td>0.0</td><td>1.0</td><td>29.7</td><td>2.5</td><td>0.0</td></tr><tr><td>1</td><td>2023-02-01 00:38:37</td><td>2023-02-01 00:43:33</td><td>1</td><td>4.266319</td><td>1</td><td>&quot;N&quot;</td><td>125</td><td>68</td><td>1</td><td>9.3</td><td>3.5</td><td>0.5</td><td>2.85</td><td>0.0</td><td>1.0</td><td>17.15</td><td>2.5</td><td>0.0</td></tr><tr><td>1</td><td>2023-02-01 00:37:53</td><td>2023-02-01 00:46:36</td><td>1</td><td>4.266319</td><td>1</td><td>&quot;N&quot;</td><td>249</td><td>161</td><td>1</td><td>12.1</td><td>3.5</td><td>0.5</td><td>2.0</td><td>0.0</td><td>1.0</td><td>19.1</td><td>2.5</td><td>0.0</td></tr><tr><td>1</td><td>2023-02-01 00:50:27</td><td>2023-02-01 01:00:10</td><td>1</td><td>4.266319</td><td>1</td><td>&quot;N&quot;</td><td>164</td><td>224</td><td>1</td><td>11.4</td><td>3.5</td><td>0.5</td><td>2.0</td><td>0.0</td><td>1.0</td><td>18.4</td><td>2.5</td><td>0.0</td></tr></tbody></table></div>"
            ]
          },
          "metadata": {},
          "execution_count": 60
        }
      ]
    },
    {
      "cell_type": "code",
      "source": [
        "(\n",
        "    data\n",
        "    .with_columns(pl.col('trip_distance').diff(1).over('passenger_count'))\n",
        "    .fetch()\n",
        ")"
      ],
      "metadata": {
        "colab": {
          "base_uri": "https://localhost:8080/",
          "height": 902
        },
        "id": "xZFA3X6e0u9Q",
        "outputId": "f6bcc607-fde8-43d3-c579-290d6422ecfa"
      },
      "execution_count": 62,
      "outputs": [
        {
          "output_type": "execute_result",
          "data": {
            "text/plain": [
              "shape: (500, 19)\n",
              "┌──────────┬───────────┬───────────┬───────────┬───┬───────────┬───────────┬───────────┬───────────┐\n",
              "│ VendorID ┆ tpep_pick ┆ tpep_drop ┆ passenger ┆ … ┆ improveme ┆ total_amo ┆ congestio ┆ Airport_f │\n",
              "│ ---      ┆ up_dateti ┆ off_datet ┆ _count    ┆   ┆ nt_surcha ┆ unt       ┆ n_surchar ┆ ee        │\n",
              "│ i32      ┆ me        ┆ ime       ┆ ---       ┆   ┆ rge       ┆ ---       ┆ ge        ┆ ---       │\n",
              "│          ┆ ---       ┆ ---       ┆ i64       ┆   ┆ ---       ┆ f64       ┆ ---       ┆ f64       │\n",
              "│          ┆ datetime[ ┆ datetime[ ┆           ┆   ┆ f64       ┆           ┆ f64       ┆           │\n",
              "│          ┆ ns]       ┆ ns]       ┆           ┆   ┆           ┆           ┆           ┆           │\n",
              "╞══════════╪═══════════╪═══════════╪═══════════╪═══╪═══════════╪═══════════╪═══════════╪═══════════╡\n",
              "│ 1        ┆ 2023-02-0 ┆ 2023-02-0 ┆ 2         ┆ … ┆ 1.0       ┆ 9.4       ┆ 2.5       ┆ 0.0       │\n",
              "│          ┆ 1         ┆ 1         ┆           ┆   ┆           ┆           ┆           ┆           │\n",
              "│          ┆ 00:32:53  ┆ 00:34:34  ┆           ┆   ┆           ┆           ┆           ┆           │\n",
              "│ 2        ┆ 2023-02-0 ┆ 2023-02-0 ┆ 1         ┆ … ┆ -1.0      ┆ -5.5      ┆ 0.0       ┆ 0.0       │\n",
              "│          ┆ 1         ┆ 1         ┆           ┆   ┆           ┆           ┆           ┆           │\n",
              "│          ┆ 00:35:16  ┆ 00:35:30  ┆           ┆   ┆           ┆           ┆           ┆           │\n",
              "│ 2        ┆ 2023-02-0 ┆ 2023-02-0 ┆ 1         ┆ … ┆ 1.0       ┆ 5.5       ┆ 0.0       ┆ 0.0       │\n",
              "│          ┆ 1         ┆ 1         ┆           ┆   ┆           ┆           ┆           ┆           │\n",
              "│          ┆ 00:35:16  ┆ 00:35:30  ┆           ┆   ┆           ┆           ┆           ┆           │\n",
              "│ 1        ┆ 2023-02-0 ┆ 2023-02-0 ┆ 0         ┆ … ┆ 1.0       ┆ 74.65     ┆ 0.0       ┆ 1.25      │\n",
              "│          ┆ 1         ┆ 1         ┆           ┆   ┆           ┆           ┆           ┆           │\n",
              "│          ┆ 00:29:33  ┆ 01:01:38  ┆           ┆   ┆           ┆           ┆           ┆           │\n",
              "│ …        ┆ …         ┆ …         ┆ …         ┆ … ┆ …         ┆ …         ┆ …         ┆ …         │\n",
              "│ 1        ┆ 2023-02-0 ┆ 2023-02-0 ┆ 1         ┆ … ┆ 1.0       ┆ 29.7      ┆ 2.5       ┆ 0.0       │\n",
              "│          ┆ 1         ┆ 1         ┆           ┆   ┆           ┆           ┆           ┆           │\n",
              "│          ┆ 00:17:43  ┆ 00:29:04  ┆           ┆   ┆           ┆           ┆           ┆           │\n",
              "│ 1        ┆ 2023-02-0 ┆ 2023-02-0 ┆ 1         ┆ … ┆ 1.0       ┆ 17.15     ┆ 2.5       ┆ 0.0       │\n",
              "│          ┆ 1         ┆ 1         ┆           ┆   ┆           ┆           ┆           ┆           │\n",
              "│          ┆ 00:38:37  ┆ 00:43:33  ┆           ┆   ┆           ┆           ┆           ┆           │\n",
              "│ 1        ┆ 2023-02-0 ┆ 2023-02-0 ┆ 1         ┆ … ┆ 1.0       ┆ 19.1      ┆ 2.5       ┆ 0.0       │\n",
              "│          ┆ 1         ┆ 1         ┆           ┆   ┆           ┆           ┆           ┆           │\n",
              "│          ┆ 00:37:53  ┆ 00:46:36  ┆           ┆   ┆           ┆           ┆           ┆           │\n",
              "│ 1        ┆ 2023-02-0 ┆ 2023-02-0 ┆ 1         ┆ … ┆ 1.0       ┆ 18.4      ┆ 2.5       ┆ 0.0       │\n",
              "│          ┆ 1         ┆ 1         ┆           ┆   ┆           ┆           ┆           ┆           │\n",
              "│          ┆ 00:50:27  ┆ 01:00:10  ┆           ┆   ┆           ┆           ┆           ┆           │\n",
              "└──────────┴───────────┴───────────┴───────────┴───┴───────────┴───────────┴───────────┴───────────┘"
            ],
            "text/html": [
              "<div><style>\n",
              ".dataframe > thead > tr,\n",
              ".dataframe > tbody > tr {\n",
              "  text-align: right;\n",
              "  white-space: pre-wrap;\n",
              "}\n",
              "</style>\n",
              "<small>shape: (500, 19)</small><table border=\"1\" class=\"dataframe\"><thead><tr><th>VendorID</th><th>tpep_pickup_datetime</th><th>tpep_dropoff_datetime</th><th>passenger_count</th><th>trip_distance</th><th>RatecodeID</th><th>store_and_fwd_flag</th><th>PULocationID</th><th>DOLocationID</th><th>payment_type</th><th>fare_amount</th><th>extra</th><th>mta_tax</th><th>tip_amount</th><th>tolls_amount</th><th>improvement_surcharge</th><th>total_amount</th><th>congestion_surcharge</th><th>Airport_fee</th></tr><tr><td>i32</td><td>datetime[ns]</td><td>datetime[ns]</td><td>i64</td><td>f64</td><td>i64</td><td>str</td><td>i32</td><td>i32</td><td>i64</td><td>f64</td><td>f64</td><td>f64</td><td>f64</td><td>f64</td><td>f64</td><td>f64</td><td>f64</td><td>f64</td></tr></thead><tbody><tr><td>1</td><td>2023-02-01 00:32:53</td><td>2023-02-01 00:34:34</td><td>2</td><td>null</td><td>1</td><td>&quot;N&quot;</td><td>142</td><td>163</td><td>2</td><td>4.4</td><td>3.5</td><td>0.5</td><td>0.0</td><td>0.0</td><td>1.0</td><td>9.4</td><td>2.5</td><td>0.0</td></tr><tr><td>2</td><td>2023-02-01 00:35:16</td><td>2023-02-01 00:35:30</td><td>1</td><td>null</td><td>1</td><td>&quot;N&quot;</td><td>71</td><td>71</td><td>4</td><td>-3.0</td><td>-1.0</td><td>-0.5</td><td>0.0</td><td>0.0</td><td>-1.0</td><td>-5.5</td><td>0.0</td><td>0.0</td></tr><tr><td>2</td><td>2023-02-01 00:35:16</td><td>2023-02-01 00:35:30</td><td>1</td><td>0.0</td><td>1</td><td>&quot;N&quot;</td><td>71</td><td>71</td><td>4</td><td>3.0</td><td>1.0</td><td>0.5</td><td>0.0</td><td>0.0</td><td>1.0</td><td>5.5</td><td>0.0</td><td>0.0</td></tr><tr><td>1</td><td>2023-02-01 00:29:33</td><td>2023-02-01 01:01:38</td><td>0</td><td>null</td><td>1</td><td>&quot;N&quot;</td><td>132</td><td>26</td><td>1</td><td>70.9</td><td>2.25</td><td>0.5</td><td>0.0</td><td>0.0</td><td>1.0</td><td>74.65</td><td>0.0</td><td>1.25</td></tr><tr><td>2</td><td>2023-02-01 00:12:28</td><td>2023-02-01 00:25:46</td><td>1</td><td>3.22</td><td>1</td><td>&quot;N&quot;</td><td>161</td><td>145</td><td>1</td><td>17.0</td><td>1.0</td><td>0.5</td><td>3.3</td><td>0.0</td><td>1.0</td><td>25.3</td><td>2.5</td><td>0.0</td></tr><tr><td>1</td><td>2023-02-01 00:52:40</td><td>2023-02-01 01:07:18</td><td>1</td><td>1.88</td><td>1</td><td>&quot;N&quot;</td><td>148</td><td>236</td><td>1</td><td>21.9</td><td>3.5</td><td>0.5</td><td>5.35</td><td>0.0</td><td>1.0</td><td>32.25</td><td>2.5</td><td>0.0</td></tr><tr><td>1</td><td>2023-02-01 00:12:39</td><td>2023-02-01 00:40:36</td><td>1</td><td>3.8</td><td>1</td><td>&quot;N&quot;</td><td>137</td><td>244</td><td>1</td><td>41.5</td><td>3.5</td><td>0.5</td><td>3.5</td><td>0.0</td><td>1.0</td><td>50.0</td><td>2.5</td><td>0.0</td></tr><tr><td>1</td><td>2023-02-01 00:56:53</td><td>2023-02-01 01:00:37</td><td>1</td><td>-7.7</td><td>1</td><td>&quot;N&quot;</td><td>263</td><td>141</td><td>1</td><td>7.2</td><td>3.5</td><td>0.5</td><td>2.44</td><td>0.0</td><td>1.0</td><td>14.64</td><td>2.5</td><td>0.0</td></tr><tr><td>2</td><td>2023-02-01 00:20:40</td><td>2023-02-01 00:33:56</td><td>1</td><td>6.29</td><td>1</td><td>&quot;N&quot;</td><td>48</td><td>243</td><td>1</td><td>30.3</td><td>1.0</td><td>0.5</td><td>8.82</td><td>0.0</td><td>1.0</td><td>44.12</td><td>2.5</td><td>0.0</td></tr><tr><td>2</td><td>2023-02-01 00:33:51</td><td>2023-02-01 00:37:34</td><td>1</td><td>-6.98</td><td>1</td><td>&quot;N&quot;</td><td>114</td><td>211</td><td>1</td><td>5.8</td><td>1.0</td><td>0.5</td><td>1.62</td><td>0.0</td><td>1.0</td><td>12.42</td><td>2.5</td><td>0.0</td></tr><tr><td>2</td><td>2023-02-01 01:00:45</td><td>2023-02-01 01:06:00</td><td>1</td><td>0.27</td><td>1</td><td>&quot;N&quot;</td><td>114</td><td>249</td><td>1</td><td>7.2</td><td>1.0</td><td>0.5</td><td>2.44</td><td>0.0</td><td>1.0</td><td>14.64</td><td>2.5</td><td>0.0</td></tr><tr><td>2</td><td>2023-02-01 00:10:48</td><td>2023-02-01 00:18:09</td><td>1</td><td>0.79</td><td>1</td><td>&quot;N&quot;</td><td>125</td><td>107</td><td>1</td><td>10.0</td><td>1.0</td><td>0.5</td><td>1.0</td><td>0.0</td><td>1.0</td><td>16.0</td><td>2.5</td><td>0.0</td></tr><tr><td>&hellip;</td><td>&hellip;</td><td>&hellip;</td><td>&hellip;</td><td>&hellip;</td><td>&hellip;</td><td>&hellip;</td><td>&hellip;</td><td>&hellip;</td><td>&hellip;</td><td>&hellip;</td><td>&hellip;</td><td>&hellip;</td><td>&hellip;</td><td>&hellip;</td><td>&hellip;</td><td>&hellip;</td><td>&hellip;</td><td>&hellip;</td></tr><tr><td>2</td><td>2023-02-01 00:33:08</td><td>2023-02-01 00:37:28</td><td>1</td><td>0.29</td><td>1</td><td>&quot;N&quot;</td><td>230</td><td>164</td><td>1</td><td>7.9</td><td>1.0</td><td>0.5</td><td>2.58</td><td>0.0</td><td>1.0</td><td>15.48</td><td>2.5</td><td>0.0</td></tr><tr><td>2</td><td>2023-02-01 00:40:52</td><td>2023-02-01 00:44:32</td><td>1</td><td>-0.66</td><td>1</td><td>&quot;N&quot;</td><td>100</td><td>170</td><td>1</td><td>5.8</td><td>1.0</td><td>0.5</td><td>2.7</td><td>0.0</td><td>1.0</td><td>13.5</td><td>2.5</td><td>0.0</td></tr><tr><td>2</td><td>2023-02-01 00:22:20</td><td>2023-02-01 00:52:30</td><td>1</td><td>17.52</td><td>2</td><td>&quot;N&quot;</td><td>132</td><td>230</td><td>1</td><td>70.0</td><td>0.0</td><td>0.5</td><td>16.11</td><td>6.55</td><td>1.0</td><td>97.91</td><td>2.5</td><td>1.25</td></tr><tr><td>2</td><td>2023-02-01 00:50:07</td><td>2023-02-01 00:58:23</td><td>1</td><td>-15.86</td><td>1</td><td>&quot;N&quot;</td><td>230</td><td>238</td><td>4</td><td>-12.1</td><td>-1.0</td><td>-0.5</td><td>0.0</td><td>0.0</td><td>-1.0</td><td>-17.1</td><td>-2.5</td><td>0.0</td></tr><tr><td>2</td><td>2023-02-01 00:50:07</td><td>2023-02-01 00:58:23</td><td>1</td><td>0.0</td><td>1</td><td>&quot;N&quot;</td><td>230</td><td>238</td><td>4</td><td>12.1</td><td>1.0</td><td>0.5</td><td>0.0</td><td>0.0</td><td>1.0</td><td>17.1</td><td>2.5</td><td>0.0</td></tr><tr><td>1</td><td>2023-02-01 00:23:15</td><td>2023-02-01 00:53:11</td><td>1</td><td>13.31</td><td>1</td><td>&quot;N&quot;</td><td>132</td><td>123</td><td>1</td><td>60.4</td><td>2.25</td><td>0.5</td><td>5.0</td><td>0.0</td><td>1.0</td><td>69.15</td><td>0.0</td><td>1.25</td></tr><tr><td>2</td><td>2023-02-01 00:02:13</td><td>2023-02-01 00:17:17</td><td>1</td><td>-11.03</td><td>1</td><td>&quot;N&quot;</td><td>100</td><td>13</td><td>1</td><td>21.2</td><td>1.0</td><td>0.5</td><td>5.24</td><td>0.0</td><td>1.0</td><td>31.44</td><td>2.5</td><td>0.0</td></tr><tr><td>2</td><td>2023-02-01 00:17:35</td><td>2023-02-01 00:56:54</td><td>1</td><td>9.46</td><td>1</td><td>&quot;N&quot;</td><td>140</td><td>215</td><td>1</td><td>59.0</td><td>1.0</td><td>0.5</td><td>12.8</td><td>0.0</td><td>1.0</td><td>76.8</td><td>2.5</td><td>0.0</td></tr><tr><td>1</td><td>2023-02-01 00:17:43</td><td>2023-02-01 00:29:04</td><td>1</td><td>-8.13</td><td>1</td><td>&quot;N&quot;</td><td>75</td><td>4</td><td>2</td><td>24.7</td><td>3.5</td><td>0.5</td><td>0.0</td><td>0.0</td><td>1.0</td><td>29.7</td><td>2.5</td><td>0.0</td></tr><tr><td>1</td><td>2023-02-01 00:38:37</td><td>2023-02-01 00:43:33</td><td>1</td><td>-4.3</td><td>1</td><td>&quot;N&quot;</td><td>125</td><td>68</td><td>1</td><td>9.3</td><td>3.5</td><td>0.5</td><td>2.85</td><td>0.0</td><td>1.0</td><td>17.15</td><td>2.5</td><td>0.0</td></tr><tr><td>1</td><td>2023-02-01 00:37:53</td><td>2023-02-01 00:46:36</td><td>1</td><td>0.7</td><td>1</td><td>&quot;N&quot;</td><td>249</td><td>161</td><td>1</td><td>12.1</td><td>3.5</td><td>0.5</td><td>2.0</td><td>0.0</td><td>1.0</td><td>19.1</td><td>2.5</td><td>0.0</td></tr><tr><td>1</td><td>2023-02-01 00:50:27</td><td>2023-02-01 01:00:10</td><td>1</td><td>-0.7</td><td>1</td><td>&quot;N&quot;</td><td>164</td><td>224</td><td>1</td><td>11.4</td><td>3.5</td><td>0.5</td><td>2.0</td><td>0.0</td><td>1.0</td><td>18.4</td><td>2.5</td><td>0.0</td></tr></tbody></table></div>"
            ]
          },
          "metadata": {},
          "execution_count": 62
        }
      ]
    },
    {
      "cell_type": "code",
      "source": [
        "(\n",
        "    data\n",
        "    .rolling\n",
        ")"
      ],
      "metadata": {
        "id": "2NTU-wdi1VtN"
      },
      "execution_count": null,
      "outputs": []
    }
  ]
}