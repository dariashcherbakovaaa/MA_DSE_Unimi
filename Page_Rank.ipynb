{
  "nbformat": 4,
  "nbformat_minor": 0,
  "metadata": {
    "colab": {
      "provenance": [],
      "authorship_tag": "ABX9TyMJrUoB50KcuIONYhx72InV",
      "include_colab_link": true
    },
    "kernelspec": {
      "name": "python3",
      "display_name": "Python 3"
    },
    "language_info": {
      "name": "python"
    }
  },
  "cells": [
    {
      "cell_type": "markdown",
      "metadata": {
        "id": "view-in-github",
        "colab_type": "text"
      },
      "source": [
        "<a href=\"https://colab.research.google.com/github/dariashcherbakovaaa/MA_DSE_Unimi/blob/Algo/Page_Rank.ipynb\" target=\"_parent\"><img src=\"https://colab.research.google.com/assets/colab-badge.svg\" alt=\"Open In Colab\"/></a>"
      ]
    },
    {
      "cell_type": "code",
      "execution_count": 1,
      "metadata": {
        "id": "4_sAjq2MB8tD"
      },
      "outputs": [],
      "source": [
        "!apt-get install openjdk-8-jdk-headless -qq > /dev/null\n",
        "!wget -q http://archive.apache.org/dist/spark/spark-3.1.1/spark-3.1.1-bin-hadoop3.2.tgz\n",
        "!tar xf spark-3.1.1-bin-hadoop3.2.tgz\n",
        "!pip install -q findspark\n",
        "\n",
        "import os\n",
        "os.environ[\"JAVA_HOME\"] = \"/usr/lib/jvm/java-8-openjdk-amd64\"\n",
        "os.environ[\"SPARK_HOME\"] = \"/content/spark-2.4.5-bin-hadoop2.7\"\n",
        "\n",
        "import findspark\n",
        "findspark.init(\"spark-3.1.1-bin-hadoop3.2\")# SPARK_HOME\n",
        "from pyspark.sql import SparkSession\n",
        "spark = SparkSession.builder.master(\"local[*]\").getOrCreate()\n",
        "\n",
        "sc = spark.sparkContext"
      ]
    },
    {
      "cell_type": "code",
      "source": [
        "import numpy as np\n",
        "np.set_printoptions(precision=3)\n",
        "np.array([.12333122, .13432221, .64442143])"
      ],
      "metadata": {
        "colab": {
          "base_uri": "https://localhost:8080/"
        },
        "id": "ovCmDKyLCOAI",
        "outputId": "e547bb5f-dd23-46a5-a7a7-5cdcd87c655c"
      },
      "execution_count": 2,
      "outputs": [
        {
          "output_type": "execute_result",
          "data": {
            "text/plain": [
              "array([0.123, 0.134, 0.644])"
            ]
          },
          "metadata": {},
          "execution_count": 2
        }
      ]
    },
    {
      "cell_type": "code",
      "source": [
        "labels = ['A', 'B', 'C', 'D',  'E', 'F', 'G']\n",
        "\n",
        "pages = range(len(labels))\n",
        "\n",
        "# this dictionary assiciates number in pages to labels\n",
        "page_labels = {p: l for p, l in zip(pages, labels)}\n",
        "page_labels"
      ],
      "metadata": {
        "colab": {
          "base_uri": "https://localhost:8080/"
        },
        "id": "4497_e6ICV68",
        "outputId": "776255f5-bf62-4556-a0bb-1270635f24b4"
      },
      "execution_count": 3,
      "outputs": [
        {
          "output_type": "execute_result",
          "data": {
            "text/plain": [
              "{0: 'A', 1: 'B', 2: 'C', 3: 'D', 4: 'E', 5: 'F', 6: 'G'}"
            ]
          },
          "metadata": {},
          "execution_count": 3
        }
      ]
    },
    {
      "cell_type": "code",
      "source": [
        "links = [(1, 0), (3, 0),\n",
        "         (0, 1), (5, 2),\n",
        "         (6, 2), (6, 5),\n",
        "         (5, 6), (2, 6),\n",
        "         (0, 6), (5, 4), (4, 3)]"
      ],
      "metadata": {
        "id": "MZudWubdCZqE"
      },
      "execution_count": 4,
      "outputs": []
    },
    {
      "cell_type": "code",
      "source": [
        "import networkx as nx\n",
        "import matplotlib.pyplot as plt\n",
        "\n",
        "g = nx.DiGraph()\n",
        "\n",
        "for p in pages:\n",
        "    g.add_node(p)\n",
        "\n",
        "for (a, b) in links:\n",
        "    g.add_edge(pages[a], pages[b])"
      ],
      "metadata": {
        "id": "GT0PKhA7CcDC"
      },
      "execution_count": 5,
      "outputs": []
    },
    {
      "cell_type": "code",
      "source": [
        "opts = {'node_size': 900,\n",
        "        'font_color': 'w',\n",
        "        'font_size': 18,\n",
        "        'font_weight': 'bold'}\n",
        "\n",
        "pos = {0: (0, 1), 1: (0, 2), 2: (1, 0),\n",
        "       3: (1, 1), 4: (2, 1), 5: (2, 0), 6: (0, 0)}\n",
        "\n",
        "nx.draw(g, with_labels=True, labels=page_labels,\n",
        "        pos=pos, node_color='#AAAAEE', **opts)\n",
        "plt.show()"
      ],
      "metadata": {
        "colab": {
          "base_uri": "https://localhost:8080/",
          "height": 516
        },
        "id": "4aFrvGIrCd_j",
        "outputId": "4e5b0a7e-5086-460f-9196-dbedeb6bb8bc"
      },
      "execution_count": 6,
      "outputs": [
        {
          "output_type": "display_data",
          "data": {
            "text/plain": [
              "<Figure size 640x480 with 1 Axes>"
            ],
            "image/png": "[encoded data removed]"
          },
          "metadata": {}
        }
      ]
    },
    {
      "cell_type": "code",
      "source": [
        "adjacency = {}\n",
        "for u in range(len(pages)):\n",
        "    adjacency[u] = []\n",
        "\n",
        "for (a, b) in links:\n",
        "    adjacency[a].append(b)\n",
        "\n",
        "print(adjacency)"
      ],
      "metadata": {
        "colab": {
          "base_uri": "https://localhost:8080/"
        },
        "id": "7csktcJhCfgi",
        "outputId": "67337f13-8126-4d1f-ab6e-0de28e1493e6"
      },
      "execution_count": 7,
      "outputs": [
        {
          "output_type": "stream",
          "name": "stdout",
          "text": [
            "{0: [1, 6], 1: [0], 2: [6], 3: [0], 4: [3], 5: [2, 6, 4], 6: [2, 5]}\n"
          ]
        }
      ]
    },
    {
      "cell_type": "code",
      "source": [
        "connection_matrix = []\n",
        "for a in adjacency:\n",
        "    for b in adjacency[a]:\n",
        "        # this builds the transition matrix (beware of indices!)\n",
        "        connection_matrix.append((b, a, 1./len(adjacency[a])))\n",
        "connection_matrix"
      ],
      "metadata": {
        "colab": {
          "base_uri": "https://localhost:8080/"
        },
        "id": "8aA3rbzTChd9",
        "outputId": "2b1b32e4-d0ab-4587-b8b7-16e6a9364246"
      },
      "execution_count": 8,
      "outputs": [
        {
          "output_type": "execute_result",
          "data": {
            "text/plain": [
              "[(1, 0, 0.5),\n",
              " (6, 0, 0.5),\n",
              " (0, 1, 1.0),\n",
              " (6, 2, 1.0),\n",
              " (0, 3, 1.0),\n",
              " (3, 4, 1.0),\n",
              " (2, 5, 0.3333333333333333),\n",
              " (6, 5, 0.3333333333333333),\n",
              " (4, 5, 0.3333333333333333),\n",
              " (2, 6, 0.5),\n",
              " (5, 6, 0.5)]"
            ]
          },
          "metadata": {},
          "execution_count": 8
        }
      ]
    },
    {
      "cell_type": "markdown",
      "source": [
        "*cache the intermediate results of the transformation so that other transformation runs on top of cached will perform faster. Caching the result of the transformation is one of the optimization tricks to improve the performance of the long-running PySpark applications/jobs.*"
      ],
      "metadata": {
        "id": "oKz6SpB1DVkT"
      }
    },
    {
      "cell_type": "code",
      "source": [
        "links_RDD = sc.parallelize(connection_matrix).cache()"
      ],
      "metadata": {
        "id": "lAv2klmBCjsT"
      },
      "execution_count": 9,
      "outputs": []
    },
    {
      "cell_type": "markdown",
      "source": [
        "broadcast operation by creating broadcast variable, which we can only read"
      ],
      "metadata": {
        "id": "J2fdX96UDcP2"
      }
    },
    {
      "cell_type": "code",
      "source": [],
      "metadata": {
        "id": "sMIrK2faDjUN"
      },
      "execution_count": null,
      "outputs": []
    },
    {
      "cell_type": "code",
      "source": [],
      "metadata": {
        "id": "AKneLlNFDbP3"
      },
      "execution_count": null,
      "outputs": []
    }
  ]
}