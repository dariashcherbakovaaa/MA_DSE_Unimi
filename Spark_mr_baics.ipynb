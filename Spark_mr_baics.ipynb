{
  "nbformat": 4,
  "nbformat_minor": 0,
  "metadata": {
    "colab": {
      "provenance": [],
      "authorship_tag": "ABX9TyPrvxlU/t9UA+LNH99L1wRi",
      "include_colab_link": true
    },
    "kernelspec": {
      "name": "python3",
      "display_name": "Python 3"
    },
    "language_info": {
      "name": "python"
    }
  },
  "cells": [
    {
      "cell_type": "markdown",
      "metadata": {
        "id": "view-in-github",
        "colab_type": "text"
      },
      "source": [
        "<a href=\"https://colab.research.google.com/github/dariashcherbakovaaa/MA_DSE_Unimi/blob/Algo/Spark_mr_baics.ipynb\" target=\"_parent\"><img src=\"https://colab.research.google.com/assets/colab-badge.svg\" alt=\"Open In Colab\"/></a>"
      ]
    },
    {
      "cell_type": "code",
      "execution_count": 4,
      "metadata": {
        "id": "Hb-mU5apwQha"
      },
      "outputs": [],
      "source": [
        "!apt-get install openjdk-8-jdk-headless -qq > /dev/null\n",
        "!wget -q http://archive.apache.org/dist/spark/spark-3.1.1/spark-3.1.1-bin-hadoop3.2.tgz\n",
        "!tar xf spark-3.1.1-bin-hadoop3.2.tgz\n",
        "!pip install -q findspark"
      ]
    },
    {
      "cell_type": "code",
      "source": [
        "import os\n",
        "os.environ[\"JAVA_HOME\"] = \"/usr/lib/jvm/java-8-openjdk-amd64\"\n",
        "os.environ[\"SPARK_HOME\"] = \"/content/spark-3.1.1-bin-hadoop3.2\""
      ],
      "metadata": {
        "id": "ID5HnfAsyBnb"
      },
      "execution_count": 5,
      "outputs": []
    },
    {
      "cell_type": "markdown",
      "source": [
        "All data for the project from Kaggle should be used via API,\n",
        "no action from the teacher"
      ],
      "metadata": {
        "id": "JHotb2CJ0cbF"
      }
    },
    {
      "cell_type": "code",
      "source": [
        "import findspark\n",
        "findspark.init()# SPARK_HOME\n",
        "from pyspark.sql import SparkSession\n",
        "spark = SparkSession.builder.master(\"local[*]\").getOrCreate()\n",
        "spark.conf.set(\"spark.sql.repl.eagerEval.enabled\", True) #Property used to format output tables batter\n",
        "spark"
      ],
      "metadata": {
        "colab": {
          "base_uri": "https://localhost:8080/",
          "height": 219
        },
        "id": "dhKrllnpyzqS",
        "outputId": "04b90a4a-e88f-4565-9eec-6654e727689d"
      },
      "execution_count": 6,
      "outputs": [
        {
          "output_type": "execute_result",
          "data": {
            "text/plain": [
              "<pyspark.sql.session.SparkSession at 0x7f73c9182020>"
            ],
            "text/html": [
              "\n",
              "            <div>\n",
              "                <p><b>SparkSession - in-memory</b></p>\n",
              "                \n",
              "        <div>\n",
              "            <p><b>SparkContext</b></p>\n",
              "\n",
              "            <p><a href=\"http://a1c645930c54:4040\">Spark UI</a></p>\n",
              "\n",
              "            <dl>\n",
              "              <dt>Version</dt>\n",
              "                <dd><code>v3.1.1</code></dd>\n",
              "              <dt>Master</dt>\n",
              "                <dd><code>local[*]</code></dd>\n",
              "              <dt>AppName</dt>\n",
              "                <dd><code>pyspark-shell</code></dd>\n",
              "            </dl>\n",
              "        </div>\n",
              "        \n",
              "            </div>\n",
              "        "
            ]
          },
          "metadata": {},
          "execution_count": 6
        }
      ]
    },
    {
      "cell_type": "code",
      "source": [
        "import pyspark\n",
        "type(spark)"
      ],
      "metadata": {
        "colab": {
          "base_uri": "https://localhost:8080/"
        },
        "id": "zPhjprc4zTEf",
        "outputId": "4e8ad702-f894-4591-e370-9a6088f4496e"
      },
      "execution_count": 7,
      "outputs": [
        {
          "output_type": "execute_result",
          "data": {
            "text/plain": [
              "pyspark.sql.session.SparkSession"
            ]
          },
          "metadata": {},
          "execution_count": 7
        }
      ]
    },
    {
      "cell_type": "markdown",
      "source": [
        "### RDD resilient distributed dataset\n",
        "\n",
        "- resilient (done by replicating chunks)\n",
        "- distributed (there're several maschine in the file system)\n",
        "\n",
        "When we permorm ***transformation*** on RDD, we transform RDD to another RDD, it returns RDD, while in ***action*** the result is something different stored in a memory, thus we should be awre of the output's size\n"
      ],
      "metadata": {
        "id": "BLs3I3R10lQN"
      }
    },
    {
      "cell_type": "code",
      "source": [
        "sc = spark.sparkContext"
      ],
      "metadata": {
        "id": "ugitSeDo0V7q"
      },
      "execution_count": 8,
      "outputs": []
    },
    {
      "cell_type": "code",
      "source": [
        "s = '''Every person had a star, every star had a friend, and for every person\n",
        "carrying a star there was someone else who reflected it, and everyone\n",
        "carried this reflection like a secret confidante in the heart'''\n",
        "simple_rdd = sc.parallelize(s.split('\\n'))"
      ],
      "metadata": {
        "id": "41icEk-Y06au"
      },
      "execution_count": 9,
      "outputs": []
    },
    {
      "cell_type": "code",
      "source": [
        "simple_rdd"
      ],
      "metadata": {
        "colab": {
          "base_uri": "https://localhost:8080/"
        },
        "id": "UOZLfOUK2IUg",
        "outputId": "7eaf8083-a7d2-405e-fc0e-221fe681afd4"
      },
      "execution_count": 10,
      "outputs": [
        {
          "output_type": "execute_result",
          "data": {
            "text/plain": [
              "ParallelCollectionRDD[0] at readRDDFromFile at PythonRDD.scala:274"
            ]
          },
          "metadata": {},
          "execution_count": 10
        }
      ]
    },
    {
      "cell_type": "markdown",
      "source": [
        "Here \"*ParallelCollectionRDD[0]*\" is an example of the ***action***"
      ],
      "metadata": {
        "id": "m7tgHaVt2MJx"
      }
    },
    {
      "cell_type": "code",
      "source": [
        "simple_rdd.collect()"
      ],
      "metadata": {
        "colab": {
          "base_uri": "https://localhost:8080/"
        },
        "id": "eEpVpNMJ2R4Y",
        "outputId": "b04bc93e-9763-4a3a-c127-7867f5dc8ae8"
      },
      "execution_count": 11,
      "outputs": [
        {
          "output_type": "execute_result",
          "data": {
            "text/plain": [
              "['Every person had a star, every star had a friend, and for every person',\n",
              " 'carrying a star there was someone else who reflected it, and everyone',\n",
              " 'carried this reflection like a secret confidante in the heart']"
            ]
          },
          "metadata": {},
          "execution_count": 11
        }
      ]
    },
    {
      "cell_type": "markdown",
      "source": [
        "The code below it the result of transformation"
      ],
      "metadata": {
        "id": "xgE41gKY3Io7"
      }
    },
    {
      "cell_type": "code",
      "source": [
        "simple_rdd.map(lambda line: line.split(' '))\n",
        "\n",
        "# def fun(x):\n",
        "  # return expression"
      ],
      "metadata": {
        "colab": {
          "base_uri": "https://localhost:8080/"
        },
        "id": "W5brHLDk2pR2",
        "outputId": "d9cb2df5-dc65-418b-84cb-bf9f60924ebe"
      },
      "execution_count": 12,
      "outputs": [
        {
          "output_type": "execute_result",
          "data": {
            "text/plain": [
              "PythonRDD[1] at RDD at PythonRDD.scala:53"
            ]
          },
          "metadata": {},
          "execution_count": 12
        }
      ]
    },
    {
      "cell_type": "markdown",
      "source": [
        "The codebelow is an example of ***transformation***"
      ],
      "metadata": {
        "id": "Loe-P5oN3lRE"
      }
    },
    {
      "cell_type": "code",
      "source": [
        "(simple_rdd.map(lambda line: line.split(' '))\n",
        "           .collect())"
      ],
      "metadata": {
        "colab": {
          "base_uri": "https://localhost:8080/"
        },
        "id": "Y8sFxUVC28PD",
        "outputId": "cc330764-9de7-4b2a-ca09-d114378a1d93"
      },
      "execution_count": 13,
      "outputs": [
        {
          "output_type": "execute_result",
          "data": {
            "text/plain": [
              "[['Every',\n",
              "  'person',\n",
              "  'had',\n",
              "  'a',\n",
              "  'star,',\n",
              "  'every',\n",
              "  'star',\n",
              "  'had',\n",
              "  'a',\n",
              "  'friend,',\n",
              "  'and',\n",
              "  'for',\n",
              "  'every',\n",
              "  'person'],\n",
              " ['carrying',\n",
              "  'a',\n",
              "  'star',\n",
              "  'there',\n",
              "  'was',\n",
              "  'someone',\n",
              "  'else',\n",
              "  'who',\n",
              "  'reflected',\n",
              "  'it,',\n",
              "  'and',\n",
              "  'everyone'],\n",
              " ['carried',\n",
              "  'this',\n",
              "  'reflection',\n",
              "  'like',\n",
              "  'a',\n",
              "  'secret',\n",
              "  'confidante',\n",
              "  'in',\n",
              "  'the',\n",
              "  'heart']]"
            ]
          },
          "metadata": {},
          "execution_count": 13
        }
      ]
    },
    {
      "cell_type": "code",
      "source": [
        "(simple_rdd.flatMap(lambda line: line.split(' '))\n",
        "           .take(17))"
      ],
      "metadata": {
        "colab": {
          "base_uri": "https://localhost:8080/"
        },
        "id": "BwePvgZo3i5_",
        "outputId": "ba6ad4d9-2988-49d4-81c5-d1fc351a3647"
      },
      "execution_count": 17,
      "outputs": [
        {
          "output_type": "execute_result",
          "data": {
            "text/plain": [
              "['Every',\n",
              " 'person',\n",
              " 'had',\n",
              " 'a',\n",
              " 'star,',\n",
              " 'every',\n",
              " 'star',\n",
              " 'had',\n",
              " 'a',\n",
              " 'friend,',\n",
              " 'and',\n",
              " 'for',\n",
              " 'every',\n",
              " 'person',\n",
              " 'carrying',\n",
              " 'a',\n",
              " 'star']"
            ]
          },
          "metadata": {},
          "execution_count": 17
        }
      ]
    },
    {
      "cell_type": "code",
      "source": [
        "(simple_rdd.flatMap(lambda line: line.split(' '))\n",
        "           .map(lambda word: word.replace(\",\", '').lower())\n",
        "           .take(10))"
      ],
      "metadata": {
        "colab": {
          "base_uri": "https://localhost:8080/"
        },
        "id": "zBSX9NLR4kad",
        "outputId": "222ee023-85d7-4780-8907-5b70d883525b"
      },
      "execution_count": 16,
      "outputs": [
        {
          "output_type": "execute_result",
          "data": {
            "text/plain": [
              "['every', 'person', 'had', 'a', 'star', 'every', 'star', 'had', 'a', 'friend']"
            ]
          },
          "metadata": {},
          "execution_count": 16
        }
      ]
    },
    {
      "cell_type": "code",
      "source": [
        "(simple_rdd.flatMap(lambda line: line.split(' '))\n",
        "           .map(lambda word: word.replace(\",\", '').lower())\n",
        "           .map(lambda word: (word, 1))\n",
        "           .take(5))"
      ],
      "metadata": {
        "colab": {
          "base_uri": "https://localhost:8080/"
        },
        "id": "7lWM1ZCB55k-",
        "outputId": "096bcacf-ab29-43d3-c107-1e69e1838efb"
      },
      "execution_count": 18,
      "outputs": [
        {
          "output_type": "execute_result",
          "data": {
            "text/plain": [
              "[('every', 1), ('person', 1), ('had', 1), ('a', 1), ('star', 1)]"
            ]
          },
          "metadata": {},
          "execution_count": 18
        }
      ]
    },
    {
      "cell_type": "markdown",
      "source": [
        "HADOOP = Map + Reduce (work with key-value pairs)\n",
        "\n",
        "SPARK's reduce is different\n"
      ],
      "metadata": {
        "id": "nKQksVdK6QiG"
      }
    },
    {
      "cell_type": "code",
      "source": [
        "(simple_rdd.flatMap(lambda line: line.split(' '))\n",
        "           .map(lambda word: word.replace(\",\", '').lower())\n",
        "           .map(lambda word: (word, 1))\n",
        "           .reduceByKey(lambda a,b: a+b) # it's a trunsformation since it returns the set of tuples, RDD\n",
        "           .collect())"
      ],
      "metadata": {
        "colab": {
          "base_uri": "https://localhost:8080/"
        },
        "id": "2TntV3JZ6iEm",
        "outputId": "7eb8c566-8a87-42e4-e2ec-8f6da4ccec31"
      },
      "execution_count": 19,
      "outputs": [
        {
          "output_type": "execute_result",
          "data": {
            "text/plain": [
              "[('person', 2),\n",
              " ('there', 1),\n",
              " ('was', 1),\n",
              " ('carried', 1),\n",
              " ('this', 1),\n",
              " ('like', 1),\n",
              " ('secret', 1),\n",
              " ('confidante', 1),\n",
              " ('in', 1),\n",
              " ('heart', 1),\n",
              " ('every', 3),\n",
              " ('had', 2),\n",
              " ('a', 4),\n",
              " ('star', 3),\n",
              " ('friend', 1),\n",
              " ('and', 2),\n",
              " ('for', 1),\n",
              " ('carrying', 1),\n",
              " ('someone', 1),\n",
              " ('else', 1),\n",
              " ('who', 1),\n",
              " ('reflected', 1),\n",
              " ('it', 1),\n",
              " ('everyone', 1),\n",
              " ('reflection', 1),\n",
              " ('the', 1)]"
            ]
          },
          "metadata": {},
          "execution_count": 19
        }
      ]
    },
    {
      "cell_type": "markdown",
      "source": [
        "The communication cost (sorting) is remarkable"
      ],
      "metadata": {
        "id": "D1DNYi_K9SKT"
      }
    },
    {
      "cell_type": "code",
      "source": [
        "def count_freq(rdd):\n",
        "  return (rdd.flatMap(lambda line: line.split(' '))\n",
        "            .map(lambda word: word.replace(',', '').lower())\n",
        "            .map(lambda word: (word, 1))\n",
        "            .reduceByKey(lambda a,b: a+b)\n",
        "            .sortBy(lambda a:a[1], False)\n",
        "            .collect())"
      ],
      "metadata": {
        "id": "-rR4a3Z46giN"
      },
      "execution_count": 25,
      "outputs": []
    },
    {
      "cell_type": "code",
      "source": [
        "!wget http://www.scifiscripts.com/scripts/swd1_5-74.txt"
      ],
      "metadata": {
        "colab": {
          "base_uri": "https://localhost:8080/"
        },
        "id": "-taSftZW8936",
        "outputId": "dc6aa961-d370-478d-f5c5-afab63219d30"
      },
      "execution_count": 21,
      "outputs": [
        {
          "output_type": "stream",
          "name": "stdout",
          "text": [
            "--2024-01-31 14:37:51--  http://www.scifiscripts.com/scripts/swd1_5-74.txt\n",
            "Resolving www.scifiscripts.com (www.scifiscripts.com)... 207.32.177.145\n",
            "Connecting to www.scifiscripts.com (www.scifiscripts.com)|207.32.177.145|:80... connected.\n",
            "HTTP request sent, awaiting response... 200 OK\n",
            "Length: 203125 (198K) [text/plain]\n",
            "Saving to: ‘swd1_5-74.txt’\n",
            "\n",
            "swd1_5-74.txt       100%[===================>] 198.36K  1.04MB/s    in 0.2s    \n",
            "\n",
            "2024-01-31 14:37:51 (1.04 MB/s) - ‘swd1_5-74.txt’ saved [203125/203125]\n",
            "\n"
          ]
        }
      ]
    },
    {
      "cell_type": "code",
      "source": [
        "sw = sc.textFile('swd1_5-74.txt')"
      ],
      "metadata": {
        "id": "Q2Tdw7Ms9Gxa"
      },
      "execution_count": 22,
      "outputs": []
    },
    {
      "cell_type": "code",
      "source": [
        "sw.take(10)"
      ],
      "metadata": {
        "colab": {
          "base_uri": "https://localhost:8080/"
        },
        "id": "yjykkEJI9zEh",
        "outputId": "b9638d9d-8e24-4a91-b095-525d55f44e82"
      },
      "execution_count": 23,
      "outputs": [
        {
          "output_type": "execute_result",
          "data": {
            "text/plain": [
              "['The Star Wars',\n",
              " 'by',\n",
              " 'George Lucas',\n",
              " '',\n",
              " '',\n",
              " '',\n",
              " 'Rough Draft [First of four major screenplay drafts]',\n",
              " 'Lucasfilm Ltd.',\n",
              " '5/74',\n",
              " '']"
            ]
          },
          "metadata": {},
          "execution_count": 23
        }
      ]
    },
    {
      "cell_type": "code",
      "source": [
        "count_freq(sw)[: 100]"
      ],
      "metadata": {
        "colab": {
          "base_uri": "https://localhost:8080/"
        },
        "id": "v-2TJDyN91MU",
        "outputId": "2da01af4-021d-4af1-d075-d551eb8dc12c"
      },
      "execution_count": 26,
      "outputs": [
        {
          "output_type": "execute_result",
          "data": {
            "text/plain": [
              "[('', 3543),\n",
              " ('the', 2731),\n",
              " ('and', 929),\n",
              " ('a', 897),\n",
              " ('of', 744),\n",
              " ('to', 702),\n",
              " ('general', 459),\n",
              " ('is', 393),\n",
              " ('in', 359),\n",
              " ('-', 330),\n",
              " ('starkiller', 302),\n",
              " ('his', 289),\n",
              " ('on', 274),\n",
              " ('he', 243),\n",
              " ('are', 209),\n",
              " ('you', 197),\n",
              " ('with', 196),\n",
              " ('they', 177),\n",
              " ('as', 162),\n",
              " ('two', 161),\n",
              " ('into', 153),\n",
              " ('for', 146),\n",
              " ('it', 145),\n",
              " ('be', 145),\n",
              " ('han', 143),\n",
              " ('at', 137),\n",
              " ('i', 134),\n",
              " ('from', 134),\n",
              " ('out', 129),\n",
              " ('by', 125),\n",
              " ('an', 122),\n",
              " ('whitsun', 122),\n",
              " ('have', 119),\n",
              " ('one', 114),\n",
              " ('aquilae', 114),\n",
              " ('your', 106),\n",
              " ('but', 101),\n",
              " ('all', 95),\n",
              " ('we', 94),\n",
              " ('threepio', 92),\n",
              " ('through', 84),\n",
              " ('back', 83),\n",
              " ('princess', 82),\n",
              " ('this', 80),\n",
              " ('artwo', 80),\n",
              " ('their', 79),\n",
              " ('will', 79),\n",
              " ('small', 77),\n",
              " ('him', 75),\n",
              " ('up', 74),\n",
              " ('get', 73),\n",
              " ('fortress', 72),\n",
              " ('them', 71),\n",
              " ('there', 69),\n",
              " ('imperial', 69),\n",
              " ('down', 67),\n",
              " ('space', 66),\n",
              " ('over', 66),\n",
              " ('large', 65),\n",
              " (\"it's\", 64),\n",
              " ('then', 63),\n",
              " (\"i'm\", 63),\n",
              " ('not', 59),\n",
              " ('young', 58),\n",
              " ('before', 57),\n",
              " ('that', 55),\n",
              " ('captain', 55),\n",
              " ('has', 54),\n",
              " ('off', 54),\n",
              " ('around', 53),\n",
              " ('no', 53),\n",
              " ('starship', 53),\n",
              " ('little', 53),\n",
              " ('pilot', 53),\n",
              " ('her', 52),\n",
              " ('valorum', 52),\n",
              " ('my', 52),\n",
              " ('main', 50),\n",
              " ('can', 50),\n",
              " ('way', 49),\n",
              " ('troops', 49),\n",
              " ('several', 47),\n",
              " ('must', 47),\n",
              " ('officer', 47),\n",
              " ('leia', 46),\n",
              " ('biggs', 45),\n",
              " ('kane', 44),\n",
              " ('power', 44),\n",
              " ('three', 44),\n",
              " ('been', 44),\n",
              " ('going', 43),\n",
              " ('what', 43),\n",
              " ('yavin', 43),\n",
              " ('jedi', 42),\n",
              " ('old', 42),\n",
              " ('vader', 42),\n",
              " ('annikin', 41),\n",
              " ('turns', 41),\n",
              " ('room', 41),\n",
              " (\"we're\", 41)]"
            ]
          },
          "metadata": {},
          "execution_count": 26
        }
      ]
    },
    {
      "cell_type": "code",
      "source": [
        "import random\n",
        "\n",
        "NUM_SAMPLES = 10**7\n",
        "\n",
        "def inside(p):\n",
        "    x, y = random.random(), random.random()\n",
        "    return x*x + y*y < 1\n",
        "\n",
        "count = (sc.parallelize(range(0, NUM_SAMPLES))\n",
        "           .filter(inside).count())\n",
        "\n",
        "print('Pi is roughly {}'.format(4.0 * count / NUM_SAMPLES))"
      ],
      "metadata": {
        "colab": {
          "base_uri": "https://localhost:8080/"
        },
        "id": "cBODX1ZN962O",
        "outputId": "0e14ef02-bea1-4159-e167-5321e13af392"
      },
      "execution_count": 27,
      "outputs": [
        {
          "output_type": "stream",
          "name": "stdout",
          "text": [
            "Pi is roughly 3.1414408\n"
          ]
        }
      ]
    },
    {
      "cell_type": "code",
      "source": [],
      "metadata": {
        "id": "zTX99Axv-msB"
      },
      "execution_count": null,
      "outputs": []
    },
    {
      "cell_type": "code",
      "source": [],
      "metadata": {
        "id": "Uag8b60P0XqW"
      },
      "execution_count": null,
      "outputs": []
    },
    {
      "cell_type": "code",
      "source": [],
      "metadata": {
        "id": "tFXfQ5H7xvPL"
      },
      "execution_count": null,
      "outputs": []
    }
  ]
}