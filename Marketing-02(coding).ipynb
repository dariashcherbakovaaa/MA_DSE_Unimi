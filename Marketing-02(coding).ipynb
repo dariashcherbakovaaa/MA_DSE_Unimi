{
 "cells": [
  {
   "cell_type": "markdown",
   "id": "bf9334aa",
   "metadata": {},
   "source": [
    "## Marketing analytics\n",
    "#### Ex session 1: *Liquid Laundary Exercise*\n",
    "\n",
    "Scanner panel data about the purchase behavior of 52 households in the liquid laundry detergent\n",
    "category for an entire year. The data set contains purchases on 348 purchase occasions, at each of\n",
    "which four major brands (Tide, Wisk, Era and Surf), all 64 ounces in size, were available for purchase\n",
    "(these four brands accounted for over 90 percent of all purchases)."
   ]
  },
  {
   "cell_type": "markdown",
   "id": "b2eb1236",
   "metadata": {},
   "source": [
    "#### Q1: Import the data with Python & Pandas so that the resulting DataFrame looks like below and stores 1392 valid observations"
   ]
  },
  {
   "cell_type": "code",
   "execution_count": 1,
   "id": "aab4ba42",
   "metadata": {},
   "outputs": [],
   "source": [
    "import pandas as pd"
   ]
  },
  {
   "cell_type": "code",
   "execution_count": 2,
   "id": "2259c8eb",
   "metadata": {},
   "outputs": [
    {
     "data": {
      "text/html": [
       "<div>\n",
       "<style scoped>\n",
       "    .dataframe tbody tr th:only-of-type {\n",
       "        vertical-align: middle;\n",
       "    }\n",
       "\n",
       "    .dataframe tbody tr th {\n",
       "        vertical-align: top;\n",
       "    }\n",
       "\n",
       "    .dataframe thead th {\n",
       "        text-align: right;\n",
       "    }\n",
       "</style>\n",
       "<table border=\"1\" class=\"dataframe\">\n",
       "  <thead>\n",
       "    <tr style=\"text-align: right;\">\n",
       "      <th></th>\n",
       "      <th>Occasion</th>\n",
       "      <th>Household</th>\n",
       "      <th>Week</th>\n",
       "      <th>Loyalty</th>\n",
       "      <th>Price</th>\n",
       "      <th>Feature</th>\n",
       "      <th>Display</th>\n",
       "      <th>Tide</th>\n",
       "      <th>Wisk</th>\n",
       "      <th>Era</th>\n",
       "      <th>Set</th>\n",
       "      <th>Choice</th>\n",
       "    </tr>\n",
       "  </thead>\n",
       "  <tbody>\n",
       "    <tr>\n",
       "      <th>0</th>\n",
       "      <td>1</td>\n",
       "      <td>9</td>\n",
       "      <td>11</td>\n",
       "      <td>0.00</td>\n",
       "      <td>4.67</td>\n",
       "      <td>0</td>\n",
       "      <td>0</td>\n",
       "      <td>1</td>\n",
       "      <td>0</td>\n",
       "      <td>0</td>\n",
       "      <td>1</td>\n",
       "      <td>1</td>\n",
       "    </tr>\n",
       "    <tr>\n",
       "      <th>1</th>\n",
       "      <td>1</td>\n",
       "      <td>9</td>\n",
       "      <td>11</td>\n",
       "      <td>0.62</td>\n",
       "      <td>4.98</td>\n",
       "      <td>0</td>\n",
       "      <td>0</td>\n",
       "      <td>0</td>\n",
       "      <td>1</td>\n",
       "      <td>0</td>\n",
       "      <td>2</td>\n",
       "      <td>0</td>\n",
       "    </tr>\n",
       "    <tr>\n",
       "      <th>2</th>\n",
       "      <td>1</td>\n",
       "      <td>9</td>\n",
       "      <td>11</td>\n",
       "      <td>0.31</td>\n",
       "      <td>5.38</td>\n",
       "      <td>0</td>\n",
       "      <td>0</td>\n",
       "      <td>0</td>\n",
       "      <td>0</td>\n",
       "      <td>1</td>\n",
       "      <td>3</td>\n",
       "      <td>0</td>\n",
       "    </tr>\n",
       "    <tr>\n",
       "      <th>3</th>\n",
       "      <td>1</td>\n",
       "      <td>9</td>\n",
       "      <td>11</td>\n",
       "      <td>0.00</td>\n",
       "      <td>4.98</td>\n",
       "      <td>0</td>\n",
       "      <td>0</td>\n",
       "      <td>0</td>\n",
       "      <td>0</td>\n",
       "      <td>0</td>\n",
       "      <td>4</td>\n",
       "      <td>0</td>\n",
       "    </tr>\n",
       "    <tr>\n",
       "      <th>4</th>\n",
       "      <td>2</td>\n",
       "      <td>9</td>\n",
       "      <td>29</td>\n",
       "      <td>0.00</td>\n",
       "      <td>4.67</td>\n",
       "      <td>0</td>\n",
       "      <td>0</td>\n",
       "      <td>1</td>\n",
       "      <td>0</td>\n",
       "      <td>0</td>\n",
       "      <td>1</td>\n",
       "      <td>0</td>\n",
       "    </tr>\n",
       "    <tr>\n",
       "      <th>...</th>\n",
       "      <td>...</td>\n",
       "      <td>...</td>\n",
       "      <td>...</td>\n",
       "      <td>...</td>\n",
       "      <td>...</td>\n",
       "      <td>...</td>\n",
       "      <td>...</td>\n",
       "      <td>...</td>\n",
       "      <td>...</td>\n",
       "      <td>...</td>\n",
       "      <td>...</td>\n",
       "      <td>...</td>\n",
       "    </tr>\n",
       "    <tr>\n",
       "      <th>1387</th>\n",
       "      <td>347</td>\n",
       "      <td>289</td>\n",
       "      <td>32</td>\n",
       "      <td>0.43</td>\n",
       "      <td>4.22</td>\n",
       "      <td>0</td>\n",
       "      <td>0</td>\n",
       "      <td>0</td>\n",
       "      <td>0</td>\n",
       "      <td>0</td>\n",
       "      <td>4</td>\n",
       "      <td>1</td>\n",
       "    </tr>\n",
       "    <tr>\n",
       "      <th>1388</th>\n",
       "      <td>348</td>\n",
       "      <td>289</td>\n",
       "      <td>37</td>\n",
       "      <td>0.00</td>\n",
       "      <td>5.28</td>\n",
       "      <td>0</td>\n",
       "      <td>0</td>\n",
       "      <td>1</td>\n",
       "      <td>0</td>\n",
       "      <td>0</td>\n",
       "      <td>1</td>\n",
       "      <td>0</td>\n",
       "    </tr>\n",
       "    <tr>\n",
       "      <th>1389</th>\n",
       "      <td>348</td>\n",
       "      <td>289</td>\n",
       "      <td>37</td>\n",
       "      <td>0.43</td>\n",
       "      <td>4.89</td>\n",
       "      <td>0</td>\n",
       "      <td>0</td>\n",
       "      <td>0</td>\n",
       "      <td>1</td>\n",
       "      <td>0</td>\n",
       "      <td>2</td>\n",
       "      <td>0</td>\n",
       "    </tr>\n",
       "    <tr>\n",
       "      <th>1390</th>\n",
       "      <td>348</td>\n",
       "      <td>289</td>\n",
       "      <td>37</td>\n",
       "      <td>0.14</td>\n",
       "      <td>4.92</td>\n",
       "      <td>0</td>\n",
       "      <td>0</td>\n",
       "      <td>0</td>\n",
       "      <td>0</td>\n",
       "      <td>1</td>\n",
       "      <td>3</td>\n",
       "      <td>0</td>\n",
       "    </tr>\n",
       "    <tr>\n",
       "      <th>1391</th>\n",
       "      <td>348</td>\n",
       "      <td>289</td>\n",
       "      <td>37</td>\n",
       "      <td>0.43</td>\n",
       "      <td>4.22</td>\n",
       "      <td>0</td>\n",
       "      <td>1</td>\n",
       "      <td>0</td>\n",
       "      <td>0</td>\n",
       "      <td>0</td>\n",
       "      <td>4</td>\n",
       "      <td>1</td>\n",
       "    </tr>\n",
       "  </tbody>\n",
       "</table>\n",
       "<p>1392 rows × 12 columns</p>\n",
       "</div>"
      ],
      "text/plain": [
       "      Occasion  Household  Week  Loyalty  Price  Feature  Display  Tide  Wisk  \\\n",
       "0            1          9    11     0.00   4.67        0        0     1     0   \n",
       "1            1          9    11     0.62   4.98        0        0     0     1   \n",
       "2            1          9    11     0.31   5.38        0        0     0     0   \n",
       "3            1          9    11     0.00   4.98        0        0     0     0   \n",
       "4            2          9    29     0.00   4.67        0        0     1     0   \n",
       "...        ...        ...   ...      ...    ...      ...      ...   ...   ...   \n",
       "1387       347        289    32     0.43   4.22        0        0     0     0   \n",
       "1388       348        289    37     0.00   5.28        0        0     1     0   \n",
       "1389       348        289    37     0.43   4.89        0        0     0     1   \n",
       "1390       348        289    37     0.14   4.92        0        0     0     0   \n",
       "1391       348        289    37     0.43   4.22        0        1     0     0   \n",
       "\n",
       "      Era  Set  Choice  \n",
       "0       0    1       1  \n",
       "1       0    2       0  \n",
       "2       1    3       0  \n",
       "3       0    4       0  \n",
       "4       0    1       0  \n",
       "...   ...  ...     ...  \n",
       "1387    0    4       1  \n",
       "1388    0    1       0  \n",
       "1389    0    2       0  \n",
       "1390    1    3       0  \n",
       "1391    0    4       1  \n",
       "\n",
       "[1392 rows x 12 columns]"
      ]
     },
     "execution_count": 2,
     "metadata": {},
     "output_type": "execute_result"
    }
   ],
   "source": [
    "df = pd.read_csv('/Users/svesh1971/Downloads/LiquidLaundry.xlsx - LiquidLaundry.csv')\n",
    "df"
   ]
  },
  {
   "cell_type": "markdown",
   "id": "bd497880",
   "metadata": {},
   "source": [
    "#### Q2: Verify that there are 52 households and 348 purchase occasions with code that produces a table looking like below"
   ]
  },
  {
   "cell_type": "code",
   "execution_count": 10,
   "id": "b601d919",
   "metadata": {},
   "outputs": [
    {
     "data": {
      "text/html": [
       "<div>\n",
       "<style scoped>\n",
       "    .dataframe tbody tr th:only-of-type {\n",
       "        vertical-align: middle;\n",
       "    }\n",
       "\n",
       "    .dataframe tbody tr th {\n",
       "        vertical-align: top;\n",
       "    }\n",
       "\n",
       "    .dataframe thead th {\n",
       "        text-align: right;\n",
       "    }\n",
       "</style>\n",
       "<table border=\"1\" class=\"dataframe\">\n",
       "  <thead>\n",
       "    <tr style=\"text-align: right;\">\n",
       "      <th></th>\n",
       "      <th>num</th>\n",
       "    </tr>\n",
       "  </thead>\n",
       "  <tbody>\n",
       "    <tr>\n",
       "      <th>Occasion</th>\n",
       "      <td>348</td>\n",
       "    </tr>\n",
       "    <tr>\n",
       "      <th>Household</th>\n",
       "      <td>52</td>\n",
       "    </tr>\n",
       "  </tbody>\n",
       "</table>\n",
       "</div>"
      ],
      "text/plain": [
       "           num\n",
       "Occasion   348\n",
       "Household   52"
      ]
     },
     "execution_count": 10,
     "metadata": {},
     "output_type": "execute_result"
    }
   ],
   "source": [
    "pd.DataFrame({'num': [df['Occasion'].nunique(), df['Household'].nunique()]}, ['Occasion','Household'])"
   ]
  },
  {
   "cell_type": "markdown",
   "id": "73ed13cd",
   "metadata": {},
   "source": [
    "#### Q3: Regardless of brand, determine overall average price and percentage of time brands were on feature and on display by writing code that produces a table looking like below"
   ]
  },
  {
   "cell_type": "code",
   "execution_count": 11,
   "id": "9ef4bd13",
   "metadata": {},
   "outputs": [
    {
     "data": {
      "text/html": [
       "<div>\n",
       "<style scoped>\n",
       "    .dataframe tbody tr th:only-of-type {\n",
       "        vertical-align: middle;\n",
       "    }\n",
       "\n",
       "    .dataframe tbody tr th {\n",
       "        vertical-align: top;\n",
       "    }\n",
       "\n",
       "    .dataframe thead th {\n",
       "        text-align: right;\n",
       "    }\n",
       "</style>\n",
       "<table border=\"1\" class=\"dataframe\">\n",
       "  <thead>\n",
       "    <tr style=\"text-align: right;\">\n",
       "      <th></th>\n",
       "      <th>Price</th>\n",
       "      <th>Feature</th>\n",
       "      <th>Display</th>\n",
       "    </tr>\n",
       "  </thead>\n",
       "  <tbody>\n",
       "    <tr>\n",
       "      <th>mean</th>\n",
       "      <td>5.4</td>\n",
       "      <td>0.06</td>\n",
       "      <td>0.1</td>\n",
       "    </tr>\n",
       "  </tbody>\n",
       "</table>\n",
       "</div>"
      ],
      "text/plain": [
       "      Price  Feature  Display\n",
       "mean    5.4     0.06      0.1"
      ]
     },
     "execution_count": 11,
     "metadata": {},
     "output_type": "execute_result"
    }
   ],
   "source": [
    "df[['Price','Feature','Display']].describe().round(2).loc['mean':'mean']"
   ]
  },
  {
   "cell_type": "markdown",
   "id": "2e299dc7",
   "metadata": {},
   "source": [
    "#### Q4: Create a new column “Brand” reporting a 1-4 number representing the brand relevant for each observation (1=Tide, 2=Wisk, 3=Era, and 4=Surf)"
   ]
  },
  {
   "cell_type": "code",
   "execution_count": 17,
   "id": "2068119f",
   "metadata": {},
   "outputs": [
    {
     "data": {
      "text/html": [
       "<div>\n",
       "<style scoped>\n",
       "    .dataframe tbody tr th:only-of-type {\n",
       "        vertical-align: middle;\n",
       "    }\n",
       "\n",
       "    .dataframe tbody tr th {\n",
       "        vertical-align: top;\n",
       "    }\n",
       "\n",
       "    .dataframe thead th {\n",
       "        text-align: right;\n",
       "    }\n",
       "</style>\n",
       "<table border=\"1\" class=\"dataframe\">\n",
       "  <thead>\n",
       "    <tr style=\"text-align: right;\">\n",
       "      <th></th>\n",
       "      <th>Tide</th>\n",
       "      <th>Wisk</th>\n",
       "      <th>Era</th>\n",
       "      <th>Brand</th>\n",
       "    </tr>\n",
       "  </thead>\n",
       "  <tbody>\n",
       "    <tr>\n",
       "      <th>0</th>\n",
       "      <td>1</td>\n",
       "      <td>0</td>\n",
       "      <td>0</td>\n",
       "      <td>1</td>\n",
       "    </tr>\n",
       "    <tr>\n",
       "      <th>1</th>\n",
       "      <td>0</td>\n",
       "      <td>1</td>\n",
       "      <td>0</td>\n",
       "      <td>2</td>\n",
       "    </tr>\n",
       "    <tr>\n",
       "      <th>2</th>\n",
       "      <td>0</td>\n",
       "      <td>0</td>\n",
       "      <td>1</td>\n",
       "      <td>3</td>\n",
       "    </tr>\n",
       "    <tr>\n",
       "      <th>3</th>\n",
       "      <td>0</td>\n",
       "      <td>0</td>\n",
       "      <td>0</td>\n",
       "      <td>4</td>\n",
       "    </tr>\n",
       "    <tr>\n",
       "      <th>4</th>\n",
       "      <td>1</td>\n",
       "      <td>0</td>\n",
       "      <td>0</td>\n",
       "      <td>1</td>\n",
       "    </tr>\n",
       "    <tr>\n",
       "      <th>...</th>\n",
       "      <td>...</td>\n",
       "      <td>...</td>\n",
       "      <td>...</td>\n",
       "      <td>...</td>\n",
       "    </tr>\n",
       "    <tr>\n",
       "      <th>1387</th>\n",
       "      <td>0</td>\n",
       "      <td>0</td>\n",
       "      <td>0</td>\n",
       "      <td>4</td>\n",
       "    </tr>\n",
       "    <tr>\n",
       "      <th>1388</th>\n",
       "      <td>1</td>\n",
       "      <td>0</td>\n",
       "      <td>0</td>\n",
       "      <td>1</td>\n",
       "    </tr>\n",
       "    <tr>\n",
       "      <th>1389</th>\n",
       "      <td>0</td>\n",
       "      <td>1</td>\n",
       "      <td>0</td>\n",
       "      <td>2</td>\n",
       "    </tr>\n",
       "    <tr>\n",
       "      <th>1390</th>\n",
       "      <td>0</td>\n",
       "      <td>0</td>\n",
       "      <td>1</td>\n",
       "      <td>3</td>\n",
       "    </tr>\n",
       "    <tr>\n",
       "      <th>1391</th>\n",
       "      <td>0</td>\n",
       "      <td>0</td>\n",
       "      <td>0</td>\n",
       "      <td>4</td>\n",
       "    </tr>\n",
       "  </tbody>\n",
       "</table>\n",
       "<p>1392 rows × 4 columns</p>\n",
       "</div>"
      ],
      "text/plain": [
       "      Tide  Wisk  Era  Brand\n",
       "0        1     0    0      1\n",
       "1        0     1    0      2\n",
       "2        0     0    1      3\n",
       "3        0     0    0      4\n",
       "4        1     0    0      1\n",
       "...    ...   ...  ...    ...\n",
       "1387     0     0    0      4\n",
       "1388     1     0    0      1\n",
       "1389     0     1    0      2\n",
       "1390     0     0    1      3\n",
       "1391     0     0    0      4\n",
       "\n",
       "[1392 rows x 4 columns]"
      ]
     },
     "execution_count": 17,
     "metadata": {},
     "output_type": "execute_result"
    }
   ],
   "source": [
    "df[\"Brand\"] = 4 - 3*df.Tide - 2*df.Wisk - df.Era\n",
    "df[['Tide', 'Wisk', 'Era', 'Brand']]"
   ]
  },
  {
   "cell_type": "markdown",
   "id": "f018273f",
   "metadata": {},
   "source": [
    "#### Q5: Compute the market share for each brand in this dataset"
   ]
  },
  {
   "cell_type": "code",
   "execution_count": 31,
   "id": "94d0c85c",
   "metadata": {},
   "outputs": [
    {
     "data": {
      "text/plain": [
       "Brand\n",
       "1    348\n",
       "2    348\n",
       "3    348\n",
       "4    348\n",
       "dtype: int64"
      ]
     },
     "execution_count": 31,
     "metadata": {},
     "output_type": "execute_result"
    }
   ],
   "source": [
    "df.groupby('Brand').size()"
   ]
  },
  {
   "cell_type": "markdown",
   "id": "2834d50a",
   "metadata": {},
   "source": [
    "#### Q6: Compute average price and feature/display frequency, separately for each brand"
   ]
  },
  {
   "cell_type": "code",
   "execution_count": 16,
   "id": "a724a089",
   "metadata": {},
   "outputs": [
    {
     "data": {
      "text/html": [
       "<div>\n",
       "<style scoped>\n",
       "    .dataframe tbody tr th:only-of-type {\n",
       "        vertical-align: middle;\n",
       "    }\n",
       "\n",
       "    .dataframe tbody tr th {\n",
       "        vertical-align: top;\n",
       "    }\n",
       "\n",
       "    .dataframe thead th {\n",
       "        text-align: right;\n",
       "    }\n",
       "</style>\n",
       "<table border=\"1\" class=\"dataframe\">\n",
       "  <thead>\n",
       "    <tr style=\"text-align: right;\">\n",
       "      <th></th>\n",
       "      <th>Price</th>\n",
       "      <th>Feature</th>\n",
       "      <th>Display</th>\n",
       "    </tr>\n",
       "    <tr>\n",
       "      <th>Brand</th>\n",
       "      <th></th>\n",
       "      <th></th>\n",
       "      <th></th>\n",
       "    </tr>\n",
       "  </thead>\n",
       "  <tbody>\n",
       "    <tr>\n",
       "      <th>1</th>\n",
       "      <td>5.86</td>\n",
       "      <td>0.06</td>\n",
       "      <td>0.14</td>\n",
       "    </tr>\n",
       "    <tr>\n",
       "      <th>2</th>\n",
       "      <td>4.65</td>\n",
       "      <td>0.10</td>\n",
       "      <td>0.18</td>\n",
       "    </tr>\n",
       "    <tr>\n",
       "      <th>3</th>\n",
       "      <td>5.96</td>\n",
       "      <td>0.03</td>\n",
       "      <td>0.03</td>\n",
       "    </tr>\n",
       "    <tr>\n",
       "      <th>4</th>\n",
       "      <td>5.15</td>\n",
       "      <td>0.06</td>\n",
       "      <td>0.04</td>\n",
       "    </tr>\n",
       "  </tbody>\n",
       "</table>\n",
       "</div>"
      ],
      "text/plain": [
       "       Price  Feature  Display\n",
       "Brand                         \n",
       "1       5.86     0.06     0.14\n",
       "2       4.65     0.10     0.18\n",
       "3       5.96     0.03     0.03\n",
       "4       5.15     0.06     0.04"
      ]
     },
     "execution_count": 16,
     "metadata": {},
     "output_type": "execute_result"
    }
   ],
   "source": [
    "df.groupby('Brand')[['Price', \"Feature\", \"Display\"]].mean().round(2)"
   ]
  },
  {
   "cell_type": "markdown",
   "id": "2a96027f",
   "metadata": {},
   "source": [
    "#### Q7: Plot purchases per week (entire year)"
   ]
  },
  {
   "cell_type": "code",
   "execution_count": 18,
   "id": "6a87c7ee",
   "metadata": {},
   "outputs": [],
   "source": [
    "import matplotlib.pyplot as plt"
   ]
  },
  {
   "cell_type": "code",
   "execution_count": 20,
   "id": "50acfdc8",
   "metadata": {},
   "outputs": [
    {
     "data": {
      "image/png": "[encoded data removed]",
      "text/plain": [
       "<Figure size 1000x600 with 1 Axes>"
      ]
     },
     "metadata": {},
     "output_type": "display_data"
    }
   ],
   "source": [
    "plt.figure(figsize=(10, 6))  \n",
    "plt.plot(df.groupby('Week')['Choice'].sum().index, df.groupby('Week')['Choice'].sum().values, marker='o', linestyle='-')\n",
    "plt.xlabel('Week')  \n",
    "plt.ylabel('Choice') \n",
    "plt.title('Purchase by week')\n",
    "plt.xticks(rotation=45) \n",
    "plt.grid(True) \n",
    "plt.tight_layout()"
   ]
  },
  {
   "cell_type": "code",
   "execution_count": 21,
   "id": "2e06415c",
   "metadata": {},
   "outputs": [
    {
     "data": {
      "text/plain": [
       "<Axes: xlabel='Week'>"
      ]
     },
     "execution_count": 21,
     "metadata": {},
     "output_type": "execute_result"
    },
    {
     "data": {
      "image/png": "[encoded data removed]",
      "text/plain": [
       "<Figure size 640x480 with 1 Axes>"
      ]
     },
     "metadata": {},
     "output_type": "display_data"
    }
   ],
   "source": [
    "df.groupby('Week')['Choice'].sum().plot()"
   ]
  },
  {
   "cell_type": "markdown",
   "id": "074e92c0",
   "metadata": {},
   "source": [
    "#### Q8: Find households that are most/least frequent buyers of liquid laundry detergent"
   ]
  },
  {
   "cell_type": "code",
   "execution_count": null,
   "id": "f7d9244b",
   "metadata": {},
   "outputs": [],
   "source": []
  },
  {
   "cell_type": "markdown",
   "id": "dd4b85bf",
   "metadata": {},
   "source": [
    "#### Q9: Do low prices increase the likelihood of purchase? Could this data help answer this question? Experiment with approaches (including graphical) to validate this hypothesis based on this dataset"
   ]
  },
  {
   "cell_type": "code",
   "execution_count": null,
   "id": "2a8a8637",
   "metadata": {},
   "outputs": [],
   "source": []
  },
  {
   "cell_type": "markdown",
   "id": "aa33e7d5",
   "metadata": {},
   "source": [
    "#### Q10: Think of an additional interesting marketing question of your own that could be answered with this dataset and explain how you would proceed"
   ]
  },
  {
   "cell_type": "code",
   "execution_count": null,
   "id": "bc66f562",
   "metadata": {},
   "outputs": [],
   "source": []
  }
 ],
 "metadata": {
  "kernelspec": {
   "display_name": "Python 3 (ipykernel)",
   "language": "python",
   "name": "python3"
  },
  "language_info": {
   "codemirror_mode": {
    "name": "ipython",
    "version": 3
   },
   "file_extension": ".py",
   "mimetype": "text/x-python",
   "name": "python",
   "nbconvert_exporter": "python",
   "pygments_lexer": "ipython3",
   "version": "3.11.5"
  }
 },
 "nbformat": 4,
 "nbformat_minor": 5
}
